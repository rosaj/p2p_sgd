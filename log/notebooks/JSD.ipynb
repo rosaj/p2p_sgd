{
 "cells": [
  {
   "cell_type": "code",
   "execution_count": null,
   "id": "a16c143a",
   "metadata": {},
   "outputs": [],
   "source": [
    "!git pull https://github.com/rosaj/p2p_sgd.git"
   ]
  },
  {
   "cell_type": "code",
   "execution_count": 1,
   "id": "0b37ba85",
   "metadata": {},
   "outputs": [],
   "source": [
    "from data.metrics import convert_to_global_vector, get_avg_distance, multiprocess_get_avg_distance\n",
    "from common.util import save_json"
   ]
  },
  {
   "cell_type": "markdown",
   "id": "de5df58d",
   "metadata": {},
   "source": [
    "# MNIST"
   ]
  },
  {
   "cell_type": "code",
   "execution_count": 2,
   "id": "54f0204f",
   "metadata": {},
   "outputs": [],
   "source": [
    "import numpy as np\n",
    "import tensorflow.keras.datasets.mnist as mnist\n",
    "(t_x, t_y), (v_x, v_y) = mnist.load_data()"
   ]
  },
  {
   "cell_type": "code",
   "execution_count": 3,
   "id": "76e3923b",
   "metadata": {},
   "outputs": [
    {
     "name": "stdout",
     "output_type": "stream",
     "text": [
      "Saved to log/data/mnist_iid_100_clients.json\n",
      "0.005735671363813857\n"
     ]
    }
   ],
   "source": [
    "# BrendanMcMahan2017\n",
    "# IID - the data is shuffled, and then partitioned into 100 clients each receiving 600 examples\n",
    "\n",
    "tr_ds = np.array(t_y)\n",
    "np.random.shuffle(tr_ds)\n",
    "tr_ds = np.array_split(tr_ds, 100)\n",
    "\n",
    "ds = convert_to_global_vector(tr_ds, 10)\n",
    "js_dis, matrix = get_avg_distance(ds)\n",
    "save_json(\"log/data/mnist_iid_100_clients.json\", matrix)\n",
    "print(js_dis)"
   ]
  },
  {
   "cell_type": "code",
   "execution_count": 4,
   "id": "4b8bd9f7",
   "metadata": {},
   "outputs": [
    {
     "name": "stdout",
     "output_type": "stream",
     "text": [
      "Saved to log/data/mnist_pathological-non-iid_100_clients.json\n",
      "0.8116621699040922\n"
     ]
    }
   ],
   "source": [
    "# BrendanMcMahan2017\n",
    "# Non-IID, where we first sort the data by digit label,\n",
    "# divide it into 200 shards of size 300, and assign each of 100 clients 2 shards.\n",
    "# This is a pathological non-IID partition of the data, as most clients will only have examples of two digits.\n",
    "\n",
    "tr_ds = t_y.copy()\n",
    "tr_ds.sort()\n",
    "tr_ds = np.array_split(tr_ds, 200)\n",
    "np.random.shuffle(tr_ds)\n",
    "tr_ds = [np.concatenate((tr_ds[i], tr_ds[i + 1])) for i in range(0, 200, 2)]\n",
    "\n",
    "ds = convert_to_global_vector(tr_ds, 10)\n",
    "js_dis, matrix = get_avg_distance(ds)\n",
    "save_json(\"log/data/mnist_pathological-non-iid_100_clients.json\", matrix)\n",
    "print(js_dis)"
   ]
  },
  {
   "cell_type": "code",
   "execution_count": 5,
   "id": "88da4ad8",
   "metadata": {},
   "outputs": [
    {
     "name": "stdout",
     "output_type": "stream",
     "text": [
      "Saved to log/data/mnist_practical-non-iid_100_clients.json\n",
      "0.5229415784515135\n"
     ]
    }
   ],
   "source": [
    "# Huang2020\n",
    "# A practical non-IID data\n",
    "\n",
    "tr_ds = np.array(t_y)\n",
    "cls, cls_count = np.unique(tr_ds, return_counts=True)\n",
    "n_groups, n_clients = 5, 100\n",
    "group_clients = int(n_clients / n_groups)\n",
    "sample_pct = (0.8, 0.2)\n",
    "\n",
    "def class_examples(clazz):\n",
    "    return cls_count[cls == clazz][0]\n",
    "\n",
    "def reduce_examples(clazz, amount):\n",
    "    cls_count[cls == clazz] -= amount\n",
    "\n",
    "def other_groups(m_group):\n",
    "    return [c for c in cls if c not in m_group]\n",
    "\n",
    "dts = np.array_split(cls, n_groups)\n",
    "clients = {k: [0] * len(cls) for k in range(n_clients)}\n",
    "for i_g, group in enumerate(dts):\n",
    "    for c_g in group:\n",
    "        c_cnt = int(class_examples(c_g) * sample_pct[0])\n",
    "        reduce_examples(c_g, c_cnt)\n",
    "        cnt_per_client = int(c_cnt / group_clients)\n",
    "        for gc in range(i_g * group_clients,  i_g * group_clients + group_clients):\n",
    "            clients[gc][c_g] += cnt_per_client\n",
    "\n",
    "for i_g, group in enumerate(dts):    \n",
    "    for c_g in other_groups(group):\n",
    "        c_cnt = int(class_examples(c_g) * sample_pct[1])\n",
    "        cnt_per_client = int(c_cnt / group_clients)\n",
    "        for gc in range(i_g * group_clients,  i_g * group_clients + group_clients):\n",
    "            clients[gc][c_g] += cnt_per_client\n",
    "        \n",
    "\n",
    "js_dis, matrix = get_avg_distance(list(clients.values()))\n",
    "save_json(\"log/data/mnist_practical-non-iid_100_clients.json\", matrix)\n",
    "print(js_dis)"
   ]
  },
  {
   "cell_type": "code",
   "execution_count": 6,
   "id": "cc1851f7",
   "metadata": {
    "collapsed": true
   },
   "outputs": [
    {
     "data": {
      "text/plain": [
       "[[236, 269, 11, 12, 11, 10, 11, 12, 11, 11],\n",
       " [236, 269, 11, 12, 11, 10, 11, 12, 11, 11],\n",
       " [236, 269, 11, 12, 11, 10, 11, 12, 11, 11],\n",
       " [236, 269, 11, 12, 11, 10, 11, 12, 11, 11],\n",
       " [236, 269, 11, 12, 11, 10, 11, 12, 11, 11],\n",
       " [236, 269, 11, 12, 11, 10, 11, 12, 11, 11],\n",
       " [236, 269, 11, 12, 11, 10, 11, 12, 11, 11],\n",
       " [236, 269, 11, 12, 11, 10, 11, 12, 11, 11],\n",
       " [236, 269, 11, 12, 11, 10, 11, 12, 11, 11],\n",
       " [236, 269, 11, 12, 11, 10, 11, 12, 11, 11],\n",
       " [236, 269, 11, 12, 11, 10, 11, 12, 11, 11],\n",
       " [236, 269, 11, 12, 11, 10, 11, 12, 11, 11],\n",
       " [236, 269, 11, 12, 11, 10, 11, 12, 11, 11],\n",
       " [236, 269, 11, 12, 11, 10, 11, 12, 11, 11],\n",
       " [236, 269, 11, 12, 11, 10, 11, 12, 11, 11],\n",
       " [236, 269, 11, 12, 11, 10, 11, 12, 11, 11],\n",
       " [236, 269, 11, 12, 11, 10, 11, 12, 11, 11],\n",
       " [236, 269, 11, 12, 11, 10, 11, 12, 11, 11],\n",
       " [236, 269, 11, 12, 11, 10, 11, 12, 11, 11],\n",
       " [236, 269, 11, 12, 11, 10, 11, 12, 11, 11],\n",
       " [11, 13, 238, 245, 11, 10, 11, 12, 11, 11],\n",
       " [11, 13, 238, 245, 11, 10, 11, 12, 11, 11],\n",
       " [11, 13, 238, 245, 11, 10, 11, 12, 11, 11],\n",
       " [11, 13, 238, 245, 11, 10, 11, 12, 11, 11],\n",
       " [11, 13, 238, 245, 11, 10, 11, 12, 11, 11],\n",
       " [11, 13, 238, 245, 11, 10, 11, 12, 11, 11],\n",
       " [11, 13, 238, 245, 11, 10, 11, 12, 11, 11],\n",
       " [11, 13, 238, 245, 11, 10, 11, 12, 11, 11],\n",
       " [11, 13, 238, 245, 11, 10, 11, 12, 11, 11],\n",
       " [11, 13, 238, 245, 11, 10, 11, 12, 11, 11],\n",
       " [11, 13, 238, 245, 11, 10, 11, 12, 11, 11],\n",
       " [11, 13, 238, 245, 11, 10, 11, 12, 11, 11],\n",
       " [11, 13, 238, 245, 11, 10, 11, 12, 11, 11],\n",
       " [11, 13, 238, 245, 11, 10, 11, 12, 11, 11],\n",
       " [11, 13, 238, 245, 11, 10, 11, 12, 11, 11],\n",
       " [11, 13, 238, 245, 11, 10, 11, 12, 11, 11],\n",
       " [11, 13, 238, 245, 11, 10, 11, 12, 11, 11],\n",
       " [11, 13, 238, 245, 11, 10, 11, 12, 11, 11],\n",
       " [11, 13, 238, 245, 11, 10, 11, 12, 11, 11],\n",
       " [11, 13, 238, 245, 11, 10, 11, 12, 11, 11],\n",
       " [11, 13, 11, 12, 233, 216, 11, 12, 11, 11],\n",
       " [11, 13, 11, 12, 233, 216, 11, 12, 11, 11],\n",
       " [11, 13, 11, 12, 233, 216, 11, 12, 11, 11],\n",
       " [11, 13, 11, 12, 233, 216, 11, 12, 11, 11],\n",
       " [11, 13, 11, 12, 233, 216, 11, 12, 11, 11],\n",
       " [11, 13, 11, 12, 233, 216, 11, 12, 11, 11],\n",
       " [11, 13, 11, 12, 233, 216, 11, 12, 11, 11],\n",
       " [11, 13, 11, 12, 233, 216, 11, 12, 11, 11],\n",
       " [11, 13, 11, 12, 233, 216, 11, 12, 11, 11],\n",
       " [11, 13, 11, 12, 233, 216, 11, 12, 11, 11],\n",
       " [11, 13, 11, 12, 233, 216, 11, 12, 11, 11],\n",
       " [11, 13, 11, 12, 233, 216, 11, 12, 11, 11],\n",
       " [11, 13, 11, 12, 233, 216, 11, 12, 11, 11],\n",
       " [11, 13, 11, 12, 233, 216, 11, 12, 11, 11],\n",
       " [11, 13, 11, 12, 233, 216, 11, 12, 11, 11],\n",
       " [11, 13, 11, 12, 233, 216, 11, 12, 11, 11],\n",
       " [11, 13, 11, 12, 233, 216, 11, 12, 11, 11],\n",
       " [11, 13, 11, 12, 233, 216, 11, 12, 11, 11],\n",
       " [11, 13, 11, 12, 233, 216, 11, 12, 11, 11],\n",
       " [11, 13, 11, 12, 233, 216, 11, 12, 11, 11],\n",
       " [11, 13, 11, 12, 11, 10, 236, 250, 11, 11],\n",
       " [11, 13, 11, 12, 11, 10, 236, 250, 11, 11],\n",
       " [11, 13, 11, 12, 11, 10, 236, 250, 11, 11],\n",
       " [11, 13, 11, 12, 11, 10, 236, 250, 11, 11],\n",
       " [11, 13, 11, 12, 11, 10, 236, 250, 11, 11],\n",
       " [11, 13, 11, 12, 11, 10, 236, 250, 11, 11],\n",
       " [11, 13, 11, 12, 11, 10, 236, 250, 11, 11],\n",
       " [11, 13, 11, 12, 11, 10, 236, 250, 11, 11],\n",
       " [11, 13, 11, 12, 11, 10, 236, 250, 11, 11],\n",
       " [11, 13, 11, 12, 11, 10, 236, 250, 11, 11],\n",
       " [11, 13, 11, 12, 11, 10, 236, 250, 11, 11],\n",
       " [11, 13, 11, 12, 11, 10, 236, 250, 11, 11],\n",
       " [11, 13, 11, 12, 11, 10, 236, 250, 11, 11],\n",
       " [11, 13, 11, 12, 11, 10, 236, 250, 11, 11],\n",
       " [11, 13, 11, 12, 11, 10, 236, 250, 11, 11],\n",
       " [11, 13, 11, 12, 11, 10, 236, 250, 11, 11],\n",
       " [11, 13, 11, 12, 11, 10, 236, 250, 11, 11],\n",
       " [11, 13, 11, 12, 11, 10, 236, 250, 11, 11],\n",
       " [11, 13, 11, 12, 11, 10, 236, 250, 11, 11],\n",
       " [11, 13, 11, 12, 11, 10, 236, 250, 11, 11],\n",
       " [11, 13, 11, 12, 11, 10, 11, 12, 234, 237],\n",
       " [11, 13, 11, 12, 11, 10, 11, 12, 234, 237],\n",
       " [11, 13, 11, 12, 11, 10, 11, 12, 234, 237],\n",
       " [11, 13, 11, 12, 11, 10, 11, 12, 234, 237],\n",
       " [11, 13, 11, 12, 11, 10, 11, 12, 234, 237],\n",
       " [11, 13, 11, 12, 11, 10, 11, 12, 234, 237],\n",
       " [11, 13, 11, 12, 11, 10, 11, 12, 234, 237],\n",
       " [11, 13, 11, 12, 11, 10, 11, 12, 234, 237],\n",
       " [11, 13, 11, 12, 11, 10, 11, 12, 234, 237],\n",
       " [11, 13, 11, 12, 11, 10, 11, 12, 234, 237],\n",
       " [11, 13, 11, 12, 11, 10, 11, 12, 234, 237],\n",
       " [11, 13, 11, 12, 11, 10, 11, 12, 234, 237],\n",
       " [11, 13, 11, 12, 11, 10, 11, 12, 234, 237],\n",
       " [11, 13, 11, 12, 11, 10, 11, 12, 234, 237],\n",
       " [11, 13, 11, 12, 11, 10, 11, 12, 234, 237],\n",
       " [11, 13, 11, 12, 11, 10, 11, 12, 234, 237],\n",
       " [11, 13, 11, 12, 11, 10, 11, 12, 234, 237],\n",
       " [11, 13, 11, 12, 11, 10, 11, 12, 234, 237],\n",
       " [11, 13, 11, 12, 11, 10, 11, 12, 234, 237],\n",
       " [11, 13, 11, 12, 11, 10, 11, 12, 234, 237]]"
      ]
     },
     "execution_count": 6,
     "metadata": {},
     "output_type": "execute_result"
    }
   ],
   "source": [
    "list(clients.values())"
   ]
  },
  {
   "cell_type": "markdown",
   "id": "a383b2f1",
   "metadata": {},
   "source": [
    "# Reddit"
   ]
  },
  {
   "cell_type": "code",
   "execution_count": 1,
   "id": "53d1ef3c",
   "metadata": {
    "scrolled": true
   },
   "outputs": [
    {
     "name": "stdout",
     "output_type": "stream",
     "text": [
      "Saved to log/data/reddit_100_clients.json\n",
      "0.6633995418494718\n"
     ]
    }
   ],
   "source": [
    "from data.metrics import convert_to_global_vector, get_avg_distance, multiprocess_get_avg_distance\n",
    "from common.util import save_json\n",
    "from data import clients_data\n",
    "import numpy as np\n",
    "\n",
    "train, val, test = clients_data.load_clients_data(3_000)\n",
    "rnd_ind = np.random.choice(len(train), size=100, replace=False)\n",
    "train_ds = [train[i][1][train[i][1] != 1] for i in range(len(train)) if i in rnd_ind] # 1-> OOV token, 0-> padding\n",
    "\n",
    "tr_ds = convert_to_global_vector([a - 2 for a in train_ds], 10_000)\n",
    "js_dis, matrix = multiprocess_get_avg_distance(tr_ds)\n",
    "save_json(\"log/data/reddit_100_clients.json\", matrix)\n",
    "print(js_dis)"
   ]
  },
  {
   "cell_type": "markdown",
   "id": "1f0b5d79",
   "metadata": {},
   "source": [
    "# Visualisation"
   ]
  },
  {
   "cell_type": "code",
   "execution_count": 2,
   "id": "0d54a8a7",
   "metadata": {},
   "outputs": [
    {
     "data": {
      "image/png": "[encoded data removed]",
      "text/plain": [
       "<Figure size 432x288 with 2 Axes>"
      ]
     },
     "metadata": {
      "needs_background": "light"
     },
     "output_type": "display_data"
    }
   ],
   "source": [
    "from plot.data import plot_colormesh, read_symmetric_matrix\n",
    "plot_colormesh(read_symmetric_matrix('data/reddit_100_clients'), 'complete')"
   ]
  }
 ],
 "metadata": {
  "kernelspec": {
   "display_name": "Python 3 (ipykernel)",
   "language": "python",
   "name": "python3"
  },
  "language_info": {
   "codemirror_mode": {
    "name": "ipython",
    "version": 3
   },
   "file_extension": ".py",
   "mimetype": "text/x-python",
   "name": "python",
   "nbconvert_exporter": "python",
   "pygments_lexer": "ipython3",
   "version": "3.8.10"
  }
 },
 "nbformat": 4,
 "nbformat_minor": 5
}
