{
 "cells": [
  {
   "cell_type": "code",
   "execution_count": 1,
   "id": "e4c5cd42",
   "metadata": {},
   "outputs": [
    {
     "name": "stdout",
     "output_type": "stream",
     "text": [
      "/home/fipulab/notebooks/robert/p2p_sgd\n"
     ]
    }
   ],
   "source": [
    "cd .."
   ]
  },
  {
   "cell_type": "code",
   "execution_count": 2,
   "id": "6e36042b",
   "metadata": {},
   "outputs": [],
   "source": [
    "from environ import set_visible_devices\n",
    "set_visible_devices('CPU')\n",
    "\n",
    "from p2p.train import do_train\n",
    "from p2p.agents import P2PAgent\n",
    "from p2p.p2p_utils import *\n",
    "from data import clients_data\n",
    "\n",
    "from datetime import datetime\n",
    "\n",
    "def train_agents_independent(num_clients, st_cl):\n",
    "    batch_size=50\n",
    "    set_seed(123)\n",
    "\n",
    "    model_pars={\"model_v\": 4, \"lr\": 0.005, \"default_weights\": True}\n",
    "    train_clients, val_clients, test_clients = clients_data.load_clients_data(num_clients, st_cl)\n",
    "    agents = []\n",
    "    for agent_id, (train, val, test) in enumerate(zip(train_clients, val_clients, test_clients)):\n",
    "        clear_session()\n",
    "        agent_pars = {}\n",
    "        agent_pars['train'] = train\n",
    "        agent_pars['val'] = val\n",
    "        agent_pars['test'] = test\n",
    "        agent_pars['batch_size'] = batch_size\n",
    "        agent_pars['model'] = create_model(**model_pars)\n",
    "        a = P2PAgent(**agent_pars)\n",
    "        a.id = agent_id\n",
    "        agents.append(a)\n",
    "        \n",
    "    for e in range(100):\n",
    "        for agent in agents:\n",
    "            clear_session()\n",
    "            agent.train_rounds=1\n",
    "            agent.fit()\n",
    "        calc_agents_metrics(agents, e)\n",
    "    \n",
    "    filename = \"P2PAgent_100A_100E_50B_4V_{}\".format(datetime.now().strftime(\"%d-%m-%Y_%H_%M\"))\n",
    "    dump_acc_hist('log/' + filename + '.json', agents, '')\n"
   ]
  },
  {
   "cell_type": "code",
   "execution_count": 3,
   "id": "b4ad1f39",
   "metadata": {
    "collapsed": true
   },
   "outputs": [
    {
     "name": "stdout",
     "output_type": "stream",
     "text": [
      "Seed: 123\n",
      "Epoch: 0\n"
     ]
    },
    {
     "data": {
      "application/vnd.jupyter.widget-view+json": {
       "model_id": "",
       "version_major": 2,
       "version_minor": 0
      },
      "text/plain": [
       "Evaluating agents:   0%|          | 0/100 [00:00<?, ?it/s]"
      ]
     },
     "metadata": {},
     "output_type": "display_data"
    },
    {
     "name": "stdout",
     "output_type": "stream",
     "text": [
      "\tMetric                      \t\tMean\t\tMedian\n",
      "\t---------------------------------------------------------------\n",
      "\ttrain_model-accuracy_no_oov:\t\t29.070%\t\t18.175%\n",
      "\tval_model-accuracy_no_oov:  \t\t3.728%\t\t2.566%\n",
      "\ttest_model-accuracy_no_oov: \t\t2.387%\t\t2.072%\n",
      "Epoch: 1\n"
     ]
    },
    {
     "data": {
      "application/vnd.jupyter.widget-view+json": {
       "model_id": "",
       "version_major": 2,
       "version_minor": 0
      },
      "text/plain": [
       "Evaluating agents:   0%|          | 0/100 [00:00<?, ?it/s]"
      ]
     },
     "metadata": {},
     "output_type": "display_data"
    },
    {
     "name": "stdout",
     "output_type": "stream",
     "text": [
      "\tMetric                      \t\tMean\t\tMedian\n",
      "\t---------------------------------------------------------------\n",
      "\ttrain_model-accuracy_no_oov:\t\t42.636%\t\t36.777%\n",
      "\tval_model-accuracy_no_oov:  \t\t4.663%\t\t3.582%\n",
      "\ttest_model-accuracy_no_oov: \t\t3.005%\t\t2.532%\n",
      "Epoch: 2\n"
     ]
    },
    {
     "data": {
      "application/vnd.jupyter.widget-view+json": {
       "model_id": "",
       "version_major": 2,
       "version_minor": 0
      },
      "text/plain": [
       "Evaluating agents:   0%|          | 0/100 [00:00<?, ?it/s]"
      ]
     },
     "metadata": {},
     "output_type": "display_data"
    },
    {
     "name": "stdout",
     "output_type": "stream",
     "text": [
      "\tMetric                      \t\tMean\t\tMedian\n",
      "\t---------------------------------------------------------------\n",
      "\ttrain_model-accuracy_no_oov:\t\t49.218%\t\t44.384%\n",
      "\tval_model-accuracy_no_oov:  \t\t4.962%\t\t4.054%\n",
      "\ttest_model-accuracy_no_oov: \t\t3.226%\t\t2.609%\n",
      "Epoch: 3\n"
     ]
    },
    {
     "data": {
      "application/vnd.jupyter.widget-view+json": {
       "model_id": "",
       "version_major": 2,
       "version_minor": 0
      },
      "text/plain": [
       "Evaluating agents:   0%|          | 0/100 [00:00<?, ?it/s]"
      ]
     },
     "metadata": {},
     "output_type": "display_data"
    },
    {
     "name": "stdout",
     "output_type": "stream",
     "text": [
      "\tMetric                      \t\tMean\t\tMedian\n",
      "\t---------------------------------------------------------------\n",
      "\ttrain_model-accuracy_no_oov:\t\t53.836%\t\t50.407%\n",
      "\tval_model-accuracy_no_oov:  \t\t4.950%\t\t3.914%\n",
      "\ttest_model-accuracy_no_oov: \t\t3.360%\t\t2.688%\n",
      "Epoch: 4\n"
     ]
    },
    {
     "data": {
      "application/vnd.jupyter.widget-view+json": {
       "model_id": "",
       "version_major": 2,
       "version_minor": 0
      },
      "text/plain": [
       "Evaluating agents:   0%|          | 0/100 [00:00<?, ?it/s]"
      ]
     },
     "metadata": {},
     "output_type": "display_data"
    },
    {
     "name": "stdout",
     "output_type": "stream",
     "text": [
      "\tMetric                      \t\tMean\t\tMedian\n",
      "\t---------------------------------------------------------------\n",
      "\ttrain_model-accuracy_no_oov:\t\t57.015%\t\t53.654%\n",
      "\tval_model-accuracy_no_oov:  \t\t4.987%\t\t3.885%\n",
      "\ttest_model-accuracy_no_oov: \t\t3.371%\t\t2.963%\n",
      "Epoch: 5\n"
     ]
    },
    {
     "data": {
      "application/vnd.jupyter.widget-view+json": {
       "model_id": "",
       "version_major": 2,
       "version_minor": 0
      },
      "text/plain": [
       "Evaluating agents:   0%|          | 0/100 [00:00<?, ?it/s]"
      ]
     },
     "metadata": {},
     "output_type": "display_data"
    },
    {
     "name": "stdout",
     "output_type": "stream",
     "text": [
      "\tMetric                      \t\tMean\t\tMedian\n",
      "\t---------------------------------------------------------------\n",
      "\ttrain_model-accuracy_no_oov:\t\t59.505%\t\t56.749%\n",
      "\tval_model-accuracy_no_oov:  \t\t5.264%\t\t4.206%\n",
      "\ttest_model-accuracy_no_oov: \t\t3.361%\t\t3.061%\n",
      "Epoch: 6\n"
     ]
    },
    {
     "data": {
      "application/vnd.jupyter.widget-view+json": {
       "model_id": "",
       "version_major": 2,
       "version_minor": 0
      },
      "text/plain": [
       "Evaluating agents:   0%|          | 0/100 [00:00<?, ?it/s]"
      ]
     },
     "metadata": {},
     "output_type": "display_data"
    },
    {
     "name": "stdout",
     "output_type": "stream",
     "text": [
      "\tMetric                      \t\tMean\t\tMedian\n",
      "\t---------------------------------------------------------------\n",
      "\ttrain_model-accuracy_no_oov:\t\t61.853%\t\t59.162%\n",
      "\tval_model-accuracy_no_oov:  \t\t5.054%\t\t3.779%\n",
      "\ttest_model-accuracy_no_oov: \t\t3.406%\t\t2.797%\n",
      "Epoch: 7\n"
     ]
    },
    {
     "data": {
      "application/vnd.jupyter.widget-view+json": {
       "model_id": "",
       "version_major": 2,
       "version_minor": 0
      },
      "text/plain": [
       "Evaluating agents:   0%|          | 0/100 [00:00<?, ?it/s]"
      ]
     },
     "metadata": {},
     "output_type": "display_data"
    },
    {
     "name": "stdout",
     "output_type": "stream",
     "text": [
      "\tMetric                      \t\tMean\t\tMedian\n",
      "\t---------------------------------------------------------------\n",
      "\ttrain_model-accuracy_no_oov:\t\t63.556%\t\t63.676%\n",
      "\tval_model-accuracy_no_oov:  \t\t5.088%\t\t3.821%\n",
      "\ttest_model-accuracy_no_oov: \t\t3.374%\t\t2.797%\n",
      "Epoch: 8\n"
     ]
    },
    {
     "data": {
      "application/vnd.jupyter.widget-view+json": {
       "model_id": "",
       "version_major": 2,
       "version_minor": 0
      },
      "text/plain": [
       "Evaluating agents:   0%|          | 0/100 [00:00<?, ?it/s]"
      ]
     },
     "metadata": {},
     "output_type": "display_data"
    },
    {
     "name": "stdout",
     "output_type": "stream",
     "text": [
      "\tMetric                      \t\tMean\t\tMedian\n",
      "\t---------------------------------------------------------------\n",
      "\ttrain_model-accuracy_no_oov:\t\t65.095%\t\t65.830%\n",
      "\tval_model-accuracy_no_oov:  \t\t5.006%\t\t3.593%\n",
      "\ttest_model-accuracy_no_oov: \t\t3.314%\t\t2.688%\n",
      "Epoch: 9\n"
     ]
    },
    {
     "data": {
      "application/vnd.jupyter.widget-view+json": {
       "model_id": "",
       "version_major": 2,
       "version_minor": 0
      },
      "text/plain": [
       "Evaluating agents:   0%|          | 0/100 [00:00<?, ?it/s]"
      ]
     },
     "metadata": {},
     "output_type": "display_data"
    },
    {
     "name": "stdout",
     "output_type": "stream",
     "text": [
      "\tMetric                      \t\tMean\t\tMedian\n",
      "\t---------------------------------------------------------------\n",
      "\ttrain_model-accuracy_no_oov:\t\t66.517%\t\t67.377%\n",
      "\tval_model-accuracy_no_oov:  \t\t5.035%\t\t3.815%\n",
      "\ttest_model-accuracy_no_oov: \t\t3.239%\t\t2.522%\n",
      "Epoch: 10\n"
     ]
    },
    {
     "data": {
      "application/vnd.jupyter.widget-view+json": {
       "model_id": "",
       "version_major": 2,
       "version_minor": 0
      },
      "text/plain": [
       "Evaluating agents:   0%|          | 0/100 [00:00<?, ?it/s]"
      ]
     },
     "metadata": {},
     "output_type": "display_data"
    },
    {
     "name": "stdout",
     "output_type": "stream",
     "text": [
      "\tMetric                      \t\tMean\t\tMedian\n",
      "\t---------------------------------------------------------------\n",
      "\ttrain_model-accuracy_no_oov:\t\t67.510%\t\t69.985%\n",
      "\tval_model-accuracy_no_oov:  \t\t5.080%\t\t4.201%\n",
      "\ttest_model-accuracy_no_oov: \t\t3.298%\t\t2.893%\n",
      "Epoch: 11\n"
     ]
    },
    {
     "data": {
      "application/vnd.jupyter.widget-view+json": {
       "model_id": "",
       "version_major": 2,
       "version_minor": 0
      },
      "text/plain": [
       "Evaluating agents:   0%|          | 0/100 [00:00<?, ?it/s]"
      ]
     },
     "metadata": {},
     "output_type": "display_data"
    },
    {
     "name": "stdout",
     "output_type": "stream",
     "text": [
      "\tMetric                      \t\tMean\t\tMedian\n",
      "\t---------------------------------------------------------------\n",
      "\ttrain_model-accuracy_no_oov:\t\t68.617%\t\t70.639%\n",
      "\tval_model-accuracy_no_oov:  \t\t4.987%\t\t3.893%\n",
      "\ttest_model-accuracy_no_oov: \t\t3.241%\t\t2.707%\n",
      "Epoch: 12\n"
     ]
    },
    {
     "data": {
      "application/vnd.jupyter.widget-view+json": {
       "model_id": "",
       "version_major": 2,
       "version_minor": 0
      },
      "text/plain": [
       "Evaluating agents:   0%|          | 0/100 [00:00<?, ?it/s]"
      ]
     },
     "metadata": {},
     "output_type": "display_data"
    },
    {
     "name": "stdout",
     "output_type": "stream",
     "text": [
      "\tMetric                      \t\tMean\t\tMedian\n",
      "\t---------------------------------------------------------------\n",
      "\ttrain_model-accuracy_no_oov:\t\t69.451%\t\t71.641%\n",
      "\tval_model-accuracy_no_oov:  \t\t4.870%\t\t3.517%\n",
      "\ttest_model-accuracy_no_oov: \t\t3.291%\t\t3.037%\n",
      "Epoch: 13\n"
     ]
    },
    {
     "data": {
      "application/vnd.jupyter.widget-view+json": {
       "model_id": "",
       "version_major": 2,
       "version_minor": 0
      },
      "text/plain": [
       "Evaluating agents:   0%|          | 0/100 [00:00<?, ?it/s]"
      ]
     },
     "metadata": {},
     "output_type": "display_data"
    },
    {
     "name": "stdout",
     "output_type": "stream",
     "text": [
      "\tMetric                      \t\tMean\t\tMedian\n",
      "\t---------------------------------------------------------------\n",
      "\ttrain_model-accuracy_no_oov:\t\t70.270%\t\t73.222%\n",
      "\tval_model-accuracy_no_oov:  \t\t4.905%\t\t3.909%\n",
      "\ttest_model-accuracy_no_oov: \t\t3.239%\t\t3.008%\n",
      "Epoch: 14\n"
     ]
    },
    {
     "data": {
      "application/vnd.jupyter.widget-view+json": {
       "model_id": "",
       "version_major": 2,
       "version_minor": 0
      },
      "text/plain": [
       "Evaluating agents:   0%|          | 0/100 [00:00<?, ?it/s]"
      ]
     },
     "metadata": {},
     "output_type": "display_data"
    },
    {
     "name": "stdout",
     "output_type": "stream",
     "text": [
      "\tMetric                      \t\tMean\t\tMedian\n",
      "\t---------------------------------------------------------------\n",
      "\ttrain_model-accuracy_no_oov:\t\t70.860%\t\t75.310%\n",
      "\tval_model-accuracy_no_oov:  \t\t4.862%\t\t3.603%\n",
      "\ttest_model-accuracy_no_oov: \t\t3.259%\t\t2.944%\n",
      "Epoch: 15\n"
     ]
    },
    {
     "data": {
      "application/vnd.jupyter.widget-view+json": {
       "model_id": "",
       "version_major": 2,
       "version_minor": 0
      },
      "text/plain": [
       "Evaluating agents:   0%|          | 0/100 [00:00<?, ?it/s]"
      ]
     },
     "metadata": {},
     "output_type": "display_data"
    },
    {
     "name": "stdout",
     "output_type": "stream",
     "text": [
      "\tMetric                      \t\tMean\t\tMedian\n",
      "\t---------------------------------------------------------------\n",
      "\ttrain_model-accuracy_no_oov:\t\t71.696%\t\t75.575%\n",
      "\tval_model-accuracy_no_oov:  \t\t4.876%\t\t3.625%\n",
      "\ttest_model-accuracy_no_oov: \t\t3.213%\t\t2.825%\n",
      "Epoch: 16\n"
     ]
    },
    {
     "data": {
      "application/vnd.jupyter.widget-view+json": {
       "model_id": "",
       "version_major": 2,
       "version_minor": 0
      },
      "text/plain": [
       "Evaluating agents:   0%|          | 0/100 [00:00<?, ?it/s]"
      ]
     },
     "metadata": {},
     "output_type": "display_data"
    },
    {
     "name": "stdout",
     "output_type": "stream",
     "text": [
      "\tMetric                      \t\tMean\t\tMedian\n",
      "\t---------------------------------------------------------------\n",
      "\ttrain_model-accuracy_no_oov:\t\t72.116%\t\t74.898%\n",
      "\tval_model-accuracy_no_oov:  \t\t4.753%\t\t3.468%\n",
      "\ttest_model-accuracy_no_oov: \t\t3.244%\t\t2.845%\n",
      "Epoch: 17\n"
     ]
    },
    {
     "data": {
      "application/vnd.jupyter.widget-view+json": {
       "model_id": "",
       "version_major": 2,
       "version_minor": 0
      },
      "text/plain": [
       "Evaluating agents:   0%|          | 0/100 [00:00<?, ?it/s]"
      ]
     },
     "metadata": {},
     "output_type": "display_data"
    },
    {
     "name": "stdout",
     "output_type": "stream",
     "text": [
      "\tMetric                      \t\tMean\t\tMedian\n",
      "\t---------------------------------------------------------------\n",
      "\ttrain_model-accuracy_no_oov:\t\t72.552%\t\t75.794%\n",
      "\tval_model-accuracy_no_oov:  \t\t4.777%\t\t3.468%\n",
      "\ttest_model-accuracy_no_oov: \t\t3.302%\t\t2.845%\n",
      "Epoch: 18\n"
     ]
    },
    {
     "data": {
      "application/vnd.jupyter.widget-view+json": {
       "model_id": "",
       "version_major": 2,
       "version_minor": 0
      },
      "text/plain": [
       "Evaluating agents:   0%|          | 0/100 [00:00<?, ?it/s]"
      ]
     },
     "metadata": {},
     "output_type": "display_data"
    },
    {
     "name": "stdout",
     "output_type": "stream",
     "text": [
      "\tMetric                      \t\tMean\t\tMedian\n",
      "\t---------------------------------------------------------------\n",
      "\ttrain_model-accuracy_no_oov:\t\t72.872%\t\t76.049%\n",
      "\tval_model-accuracy_no_oov:  \t\t4.753%\t\t3.468%\n",
      "\ttest_model-accuracy_no_oov: \t\t3.202%\t\t2.693%\n",
      "Epoch: 19\n"
     ]
    },
    {
     "data": {
      "application/vnd.jupyter.widget-view+json": {
       "model_id": "",
       "version_major": 2,
       "version_minor": 0
      },
      "text/plain": [
       "Evaluating agents:   0%|          | 0/100 [00:00<?, ?it/s]"
      ]
     },
     "metadata": {},
     "output_type": "display_data"
    },
    {
     "name": "stdout",
     "output_type": "stream",
     "text": [
      "\tMetric                      \t\tMean\t\tMedian\n",
      "\t---------------------------------------------------------------\n",
      "\ttrain_model-accuracy_no_oov:\t\t73.337%\t\t76.843%\n",
      "\tval_model-accuracy_no_oov:  \t\t4.802%\t\t3.487%\n",
      "\ttest_model-accuracy_no_oov: \t\t3.181%\t\t2.825%\n",
      "Epoch: 20\n"
     ]
    },
    {
     "data": {
      "application/vnd.jupyter.widget-view+json": {
       "model_id": "",
       "version_major": 2,
       "version_minor": 0
      },
      "text/plain": [
       "Evaluating agents:   0%|          | 0/100 [00:00<?, ?it/s]"
      ]
     },
     "metadata": {},
     "output_type": "display_data"
    },
    {
     "name": "stdout",
     "output_type": "stream",
     "text": [
      "\tMetric                      \t\tMean\t\tMedian\n",
      "\t---------------------------------------------------------------\n",
      "\ttrain_model-accuracy_no_oov:\t\t73.664%\t\t77.942%\n",
      "\tval_model-accuracy_no_oov:  \t\t4.756%\t\t3.468%\n",
      "\ttest_model-accuracy_no_oov: \t\t3.183%\t\t2.793%\n",
      "Epoch: 21\n"
     ]
    },
    {
     "data": {
      "application/vnd.jupyter.widget-view+json": {
       "model_id": "",
       "version_major": 2,
       "version_minor": 0
      },
      "text/plain": [
       "Evaluating agents:   0%|          | 0/100 [00:00<?, ?it/s]"
      ]
     },
     "metadata": {},
     "output_type": "display_data"
    },
    {
     "name": "stdout",
     "output_type": "stream",
     "text": [
      "\tMetric                      \t\tMean\t\tMedian\n",
      "\t---------------------------------------------------------------\n",
      "\ttrain_model-accuracy_no_oov:\t\t73.810%\t\t77.809%\n",
      "\tval_model-accuracy_no_oov:  \t\t4.685%\t\t3.434%\n",
      "\ttest_model-accuracy_no_oov: \t\t3.127%\t\t2.581%\n",
      "Epoch: 22\n"
     ]
    },
    {
     "data": {
      "application/vnd.jupyter.widget-view+json": {
       "model_id": "",
       "version_major": 2,
       "version_minor": 0
      },
      "text/plain": [
       "Evaluating agents:   0%|          | 0/100 [00:00<?, ?it/s]"
      ]
     },
     "metadata": {},
     "output_type": "display_data"
    },
    {
     "name": "stdout",
     "output_type": "stream",
     "text": [
      "\tMetric                      \t\tMean\t\tMedian\n",
      "\t---------------------------------------------------------------\n",
      "\ttrain_model-accuracy_no_oov:\t\t74.093%\t\t78.156%\n",
      "\tval_model-accuracy_no_oov:  \t\t4.596%\t\t3.448%\n",
      "\ttest_model-accuracy_no_oov: \t\t3.158%\t\t2.581%\n",
      "Epoch: 23\n"
     ]
    },
    {
     "data": {
      "application/vnd.jupyter.widget-view+json": {
       "model_id": "",
       "version_major": 2,
       "version_minor": 0
      },
      "text/plain": [
       "Evaluating agents:   0%|          | 0/100 [00:00<?, ?it/s]"
      ]
     },
     "metadata": {},
     "output_type": "display_data"
    },
    {
     "name": "stdout",
     "output_type": "stream",
     "text": [
      "\tMetric                      \t\tMean\t\tMedian\n",
      "\t---------------------------------------------------------------\n",
      "\ttrain_model-accuracy_no_oov:\t\t74.422%\t\t78.359%\n",
      "\tval_model-accuracy_no_oov:  \t\t4.716%\t\t3.509%\n",
      "\ttest_model-accuracy_no_oov: \t\t3.167%\t\t2.683%\n",
      "Epoch: 24\n"
     ]
    },
    {
     "data": {
      "application/vnd.jupyter.widget-view+json": {
       "model_id": "",
       "version_major": 2,
       "version_minor": 0
      },
      "text/plain": [
       "Evaluating agents:   0%|          | 0/100 [00:00<?, ?it/s]"
      ]
     },
     "metadata": {},
     "output_type": "display_data"
    },
    {
     "name": "stdout",
     "output_type": "stream",
     "text": [
      "\tMetric                      \t\tMean\t\tMedian\n",
      "\t---------------------------------------------------------------\n",
      "\ttrain_model-accuracy_no_oov:\t\t74.617%\t\t77.442%\n",
      "\tval_model-accuracy_no_oov:  \t\t4.635%\t\t3.519%\n",
      "\ttest_model-accuracy_no_oov: \t\t3.208%\t\t2.837%\n",
      "Epoch: 25\n"
     ]
    },
    {
     "data": {
      "application/vnd.jupyter.widget-view+json": {
       "model_id": "",
       "version_major": 2,
       "version_minor": 0
      },
      "text/plain": [
       "Evaluating agents:   0%|          | 0/100 [00:00<?, ?it/s]"
      ]
     },
     "metadata": {},
     "output_type": "display_data"
    },
    {
     "name": "stdout",
     "output_type": "stream",
     "text": [
      "\tMetric                      \t\tMean\t\tMedian\n",
      "\t---------------------------------------------------------------\n",
      "\ttrain_model-accuracy_no_oov:\t\t74.941%\t\t78.619%\n",
      "\tval_model-accuracy_no_oov:  \t\t4.677%\t\t3.468%\n",
      "\ttest_model-accuracy_no_oov: \t\t3.182%\t\t2.793%\n",
      "Epoch: 26\n"
     ]
    },
    {
     "data": {
      "application/vnd.jupyter.widget-view+json": {
       "model_id": "",
       "version_major": 2,
       "version_minor": 0
      },
      "text/plain": [
       "Evaluating agents:   0%|          | 0/100 [00:00<?, ?it/s]"
      ]
     },
     "metadata": {},
     "output_type": "display_data"
    },
    {
     "name": "stdout",
     "output_type": "stream",
     "text": [
      "\tMetric                      \t\tMean\t\tMedian\n",
      "\t---------------------------------------------------------------\n",
      "\ttrain_model-accuracy_no_oov:\t\t75.188%\t\t78.817%\n",
      "\tval_model-accuracy_no_oov:  \t\t4.662%\t\t3.434%\n",
      "\ttest_model-accuracy_no_oov: \t\t3.149%\t\t2.713%\n",
      "Epoch: 27\n"
     ]
    },
    {
     "data": {
      "application/vnd.jupyter.widget-view+json": {
       "model_id": "",
       "version_major": 2,
       "version_minor": 0
      },
      "text/plain": [
       "Evaluating agents:   0%|          | 0/100 [00:00<?, ?it/s]"
      ]
     },
     "metadata": {},
     "output_type": "display_data"
    },
    {
     "name": "stdout",
     "output_type": "stream",
     "text": [
      "\tMetric                      \t\tMean\t\tMedian\n",
      "\t---------------------------------------------------------------\n",
      "\ttrain_model-accuracy_no_oov:\t\t75.341%\t\t79.067%\n",
      "\tval_model-accuracy_no_oov:  \t\t4.635%\t\t3.448%\n",
      "\ttest_model-accuracy_no_oov: \t\t3.150%\t\t2.837%\n",
      "Epoch: 28\n"
     ]
    },
    {
     "data": {
      "application/vnd.jupyter.widget-view+json": {
       "model_id": "",
       "version_major": 2,
       "version_minor": 0
      },
      "text/plain": [
       "Evaluating agents:   0%|          | 0/100 [00:00<?, ?it/s]"
      ]
     },
     "metadata": {},
     "output_type": "display_data"
    },
    {
     "name": "stdout",
     "output_type": "stream",
     "text": [
      "\tMetric                      \t\tMean\t\tMedian\n",
      "\t---------------------------------------------------------------\n",
      "\ttrain_model-accuracy_no_oov:\t\t75.444%\t\t78.869%\n",
      "\tval_model-accuracy_no_oov:  \t\t4.656%\t\t3.593%\n",
      "\ttest_model-accuracy_no_oov: \t\t3.112%\t\t2.793%\n",
      "Epoch: 29\n"
     ]
    },
    {
     "data": {
      "application/vnd.jupyter.widget-view+json": {
       "model_id": "",
       "version_major": 2,
       "version_minor": 0
      },
      "text/plain": [
       "Evaluating agents:   0%|          | 0/100 [00:00<?, ?it/s]"
      ]
     },
     "metadata": {},
     "output_type": "display_data"
    },
    {
     "name": "stdout",
     "output_type": "stream",
     "text": [
      "\tMetric                      \t\tMean\t\tMedian\n",
      "\t---------------------------------------------------------------\n",
      "\ttrain_model-accuracy_no_oov:\t\t75.701%\t\t79.250%\n",
      "\tval_model-accuracy_no_oov:  \t\t4.581%\t\t3.395%\n",
      "\ttest_model-accuracy_no_oov: \t\t3.099%\t\t2.683%\n",
      "Epoch: 30\n"
     ]
    },
    {
     "data": {
      "application/vnd.jupyter.widget-view+json": {
       "model_id": "",
       "version_major": 2,
       "version_minor": 0
      },
      "text/plain": [
       "Evaluating agents:   0%|          | 0/100 [00:00<?, ?it/s]"
      ]
     },
     "metadata": {},
     "output_type": "display_data"
    },
    {
     "name": "stdout",
     "output_type": "stream",
     "text": [
      "\tMetric                      \t\tMean\t\tMedian\n",
      "\t---------------------------------------------------------------\n",
      "\ttrain_model-accuracy_no_oov:\t\t75.724%\t\t79.342%\n",
      "\tval_model-accuracy_no_oov:  \t\t4.591%\t\t3.395%\n",
      "\ttest_model-accuracy_no_oov: \t\t3.105%\t\t2.793%\n",
      "Epoch: 31\n"
     ]
    },
    {
     "data": {
      "application/vnd.jupyter.widget-view+json": {
       "model_id": "",
       "version_major": 2,
       "version_minor": 0
      },
      "text/plain": [
       "Evaluating agents:   0%|          | 0/100 [00:00<?, ?it/s]"
      ]
     },
     "metadata": {},
     "output_type": "display_data"
    },
    {
     "name": "stdout",
     "output_type": "stream",
     "text": [
      "\tMetric                      \t\tMean\t\tMedian\n",
      "\t---------------------------------------------------------------\n",
      "\ttrain_model-accuracy_no_oov:\t\t75.944%\t\t79.583%\n",
      "\tval_model-accuracy_no_oov:  \t\t4.617%\t\t3.395%\n",
      "\ttest_model-accuracy_no_oov: \t\t3.167%\t\t2.845%\n",
      "Epoch: 32\n"
     ]
    },
    {
     "data": {
      "application/vnd.jupyter.widget-view+json": {
       "model_id": "",
       "version_major": 2,
       "version_minor": 0
      },
      "text/plain": [
       "Evaluating agents:   0%|          | 0/100 [00:00<?, ?it/s]"
      ]
     },
     "metadata": {},
     "output_type": "display_data"
    },
    {
     "name": "stdout",
     "output_type": "stream",
     "text": [
      "\tMetric                      \t\tMean\t\tMedian\n",
      "\t---------------------------------------------------------------\n",
      "\ttrain_model-accuracy_no_oov:\t\t76.111%\t\t79.342%\n",
      "\tval_model-accuracy_no_oov:  \t\t4.643%\t\t3.395%\n",
      "\ttest_model-accuracy_no_oov: \t\t3.135%\t\t2.890%\n",
      "Epoch: 33\n"
     ]
    },
    {
     "data": {
      "application/vnd.jupyter.widget-view+json": {
       "model_id": "",
       "version_major": 2,
       "version_minor": 0
      },
      "text/plain": [
       "Evaluating agents:   0%|          | 0/100 [00:00<?, ?it/s]"
      ]
     },
     "metadata": {},
     "output_type": "display_data"
    },
    {
     "name": "stdout",
     "output_type": "stream",
     "text": [
      "\tMetric                      \t\tMean\t\tMedian\n",
      "\t---------------------------------------------------------------\n",
      "\ttrain_model-accuracy_no_oov:\t\t76.215%\t\t79.342%\n",
      "\tval_model-accuracy_no_oov:  \t\t4.675%\t\t3.546%\n",
      "\ttest_model-accuracy_no_oov: \t\t3.142%\t\t2.825%\n",
      "Epoch: 34\n"
     ]
    },
    {
     "data": {
      "application/vnd.jupyter.widget-view+json": {
       "model_id": "",
       "version_major": 2,
       "version_minor": 0
      },
      "text/plain": [
       "Evaluating agents:   0%|          | 0/100 [00:00<?, ?it/s]"
      ]
     },
     "metadata": {},
     "output_type": "display_data"
    },
    {
     "name": "stdout",
     "output_type": "stream",
     "text": [
      "\tMetric                      \t\tMean\t\tMedian\n",
      "\t---------------------------------------------------------------\n",
      "\ttrain_model-accuracy_no_oov:\t\t76.315%\t\t79.569%\n",
      "\tval_model-accuracy_no_oov:  \t\t4.715%\t\t3.517%\n",
      "\ttest_model-accuracy_no_oov: \t\t3.105%\t\t2.837%\n",
      "Epoch: 35\n"
     ]
    },
    {
     "data": {
      "application/vnd.jupyter.widget-view+json": {
       "model_id": "",
       "version_major": 2,
       "version_minor": 0
      },
      "text/plain": [
       "Evaluating agents:   0%|          | 0/100 [00:00<?, ?it/s]"
      ]
     },
     "metadata": {},
     "output_type": "display_data"
    },
    {
     "name": "stdout",
     "output_type": "stream",
     "text": [
      "\tMetric                      \t\tMean\t\tMedian\n",
      "\t---------------------------------------------------------------\n",
      "\ttrain_model-accuracy_no_oov:\t\t76.405%\t\t79.759%\n",
      "\tval_model-accuracy_no_oov:  \t\t4.700%\t\t3.434%\n",
      "\ttest_model-accuracy_no_oov: \t\t3.138%\t\t2.797%\n",
      "Epoch: 36\n"
     ]
    },
    {
     "data": {
      "application/vnd.jupyter.widget-view+json": {
       "model_id": "",
       "version_major": 2,
       "version_minor": 0
      },
      "text/plain": [
       "Evaluating agents:   0%|          | 0/100 [00:00<?, ?it/s]"
      ]
     },
     "metadata": {},
     "output_type": "display_data"
    },
    {
     "name": "stdout",
     "output_type": "stream",
     "text": [
      "\tMetric                      \t\tMean\t\tMedian\n",
      "\t---------------------------------------------------------------\n",
      "\ttrain_model-accuracy_no_oov:\t\t76.797%\t\t79.773%\n",
      "\tval_model-accuracy_no_oov:  \t\t4.648%\t\t3.395%\n",
      "\ttest_model-accuracy_no_oov: \t\t3.113%\t\t2.797%\n",
      "Epoch: 37\n"
     ]
    },
    {
     "data": {
      "application/vnd.jupyter.widget-view+json": {
       "model_id": "",
       "version_major": 2,
       "version_minor": 0
      },
      "text/plain": [
       "Evaluating agents:   0%|          | 0/100 [00:00<?, ?it/s]"
      ]
     },
     "metadata": {},
     "output_type": "display_data"
    },
    {
     "name": "stdout",
     "output_type": "stream",
     "text": [
      "\tMetric                      \t\tMean\t\tMedian\n",
      "\t---------------------------------------------------------------\n",
      "\ttrain_model-accuracy_no_oov:\t\t77.003%\t\t79.759%\n",
      "\tval_model-accuracy_no_oov:  \t\t4.602%\t\t3.340%\n",
      "\ttest_model-accuracy_no_oov: \t\t3.137%\t\t2.797%\n",
      "Epoch: 38\n"
     ]
    },
    {
     "data": {
      "application/vnd.jupyter.widget-view+json": {
       "model_id": "",
       "version_major": 2,
       "version_minor": 0
      },
      "text/plain": [
       "Evaluating agents:   0%|          | 0/100 [00:00<?, ?it/s]"
      ]
     },
     "metadata": {},
     "output_type": "display_data"
    },
    {
     "name": "stdout",
     "output_type": "stream",
     "text": [
      "\tMetric                      \t\tMean\t\tMedian\n",
      "\t---------------------------------------------------------------\n",
      "\ttrain_model-accuracy_no_oov:\t\t77.137%\t\t79.759%\n",
      "\tval_model-accuracy_no_oov:  \t\t4.609%\t\t3.395%\n",
      "\ttest_model-accuracy_no_oov: \t\t3.116%\t\t2.774%\n",
      "Epoch: 39\n"
     ]
    },
    {
     "data": {
      "application/vnd.jupyter.widget-view+json": {
       "model_id": "",
       "version_major": 2,
       "version_minor": 0
      },
      "text/plain": [
       "Evaluating agents:   0%|          | 0/100 [00:00<?, ?it/s]"
      ]
     },
     "metadata": {},
     "output_type": "display_data"
    },
    {
     "name": "stdout",
     "output_type": "stream",
     "text": [
      "\tMetric                      \t\tMean\t\tMedian\n",
      "\t---------------------------------------------------------------\n",
      "\ttrain_model-accuracy_no_oov:\t\t77.282%\t\t80.141%\n",
      "\tval_model-accuracy_no_oov:  \t\t4.608%\t\t3.395%\n",
      "\ttest_model-accuracy_no_oov: \t\t3.119%\t\t2.797%\n",
      "Epoch: 40\n"
     ]
    },
    {
     "data": {
      "application/vnd.jupyter.widget-view+json": {
       "model_id": "",
       "version_major": 2,
       "version_minor": 0
      },
      "text/plain": [
       "Evaluating agents:   0%|          | 0/100 [00:00<?, ?it/s]"
      ]
     },
     "metadata": {},
     "output_type": "display_data"
    },
    {
     "name": "stdout",
     "output_type": "stream",
     "text": [
      "\tMetric                      \t\tMean\t\tMedian\n",
      "\t---------------------------------------------------------------\n",
      "\ttrain_model-accuracy_no_oov:\t\t77.437%\t\t80.723%\n",
      "\tval_model-accuracy_no_oov:  \t\t4.625%\t\t3.334%\n",
      "\ttest_model-accuracy_no_oov: \t\t3.148%\t\t2.845%\n",
      "Epoch: 41\n"
     ]
    },
    {
     "data": {
      "application/vnd.jupyter.widget-view+json": {
       "model_id": "",
       "version_major": 2,
       "version_minor": 0
      },
      "text/plain": [
       "Evaluating agents:   0%|          | 0/100 [00:00<?, ?it/s]"
      ]
     },
     "metadata": {},
     "output_type": "display_data"
    },
    {
     "name": "stdout",
     "output_type": "stream",
     "text": [
      "\tMetric                      \t\tMean\t\tMedian\n",
      "\t---------------------------------------------------------------\n",
      "\ttrain_model-accuracy_no_oov:\t\t77.460%\t\t79.875%\n",
      "\tval_model-accuracy_no_oov:  \t\t4.613%\t\t3.164%\n",
      "\ttest_model-accuracy_no_oov: \t\t3.146%\t\t2.825%\n",
      "Epoch: 42\n"
     ]
    },
    {
     "data": {
      "application/vnd.jupyter.widget-view+json": {
       "model_id": "",
       "version_major": 2,
       "version_minor": 0
      },
      "text/plain": [
       "Evaluating agents:   0%|          | 0/100 [00:00<?, ?it/s]"
      ]
     },
     "metadata": {},
     "output_type": "display_data"
    },
    {
     "name": "stdout",
     "output_type": "stream",
     "text": [
      "\tMetric                      \t\tMean\t\tMedian\n",
      "\t---------------------------------------------------------------\n",
      "\ttrain_model-accuracy_no_oov:\t\t77.499%\t\t80.361%\n",
      "\tval_model-accuracy_no_oov:  \t\t4.625%\t\t3.334%\n",
      "\ttest_model-accuracy_no_oov: \t\t3.181%\t\t2.793%\n",
      "Epoch: 43\n"
     ]
    },
    {
     "data": {
      "application/vnd.jupyter.widget-view+json": {
       "model_id": "",
       "version_major": 2,
       "version_minor": 0
      },
      "text/plain": [
       "Evaluating agents:   0%|          | 0/100 [00:00<?, ?it/s]"
      ]
     },
     "metadata": {},
     "output_type": "display_data"
    },
    {
     "name": "stdout",
     "output_type": "stream",
     "text": [
      "\tMetric                      \t\tMean\t\tMedian\n",
      "\t---------------------------------------------------------------\n",
      "\ttrain_model-accuracy_no_oov:\t\t77.521%\t\t80.282%\n",
      "\tval_model-accuracy_no_oov:  \t\t4.632%\t\t3.334%\n",
      "\ttest_model-accuracy_no_oov: \t\t3.140%\t\t2.793%\n",
      "Epoch: 44\n"
     ]
    },
    {
     "data": {
      "application/vnd.jupyter.widget-view+json": {
       "model_id": "",
       "version_major": 2,
       "version_minor": 0
      },
      "text/plain": [
       "Evaluating agents:   0%|          | 0/100 [00:00<?, ?it/s]"
      ]
     },
     "metadata": {},
     "output_type": "display_data"
    },
    {
     "name": "stdout",
     "output_type": "stream",
     "text": [
      "\tMetric                      \t\tMean\t\tMedian\n",
      "\t---------------------------------------------------------------\n",
      "\ttrain_model-accuracy_no_oov:\t\t77.670%\t\t81.115%\n",
      "\tval_model-accuracy_no_oov:  \t\t4.633%\t\t3.395%\n",
      "\ttest_model-accuracy_no_oov: \t\t3.081%\t\t2.825%\n",
      "Epoch: 45\n"
     ]
    },
    {
     "data": {
      "application/vnd.jupyter.widget-view+json": {
       "model_id": "",
       "version_major": 2,
       "version_minor": 0
      },
      "text/plain": [
       "Evaluating agents:   0%|          | 0/100 [00:00<?, ?it/s]"
      ]
     },
     "metadata": {},
     "output_type": "display_data"
    },
    {
     "name": "stdout",
     "output_type": "stream",
     "text": [
      "\tMetric                      \t\tMean\t\tMedian\n",
      "\t---------------------------------------------------------------\n",
      "\ttrain_model-accuracy_no_oov:\t\t77.845%\t\t81.631%\n",
      "\tval_model-accuracy_no_oov:  \t\t4.691%\t\t3.434%\n",
      "\ttest_model-accuracy_no_oov: \t\t3.098%\t\t2.825%\n",
      "Epoch: 46\n"
     ]
    },
    {
     "data": {
      "application/vnd.jupyter.widget-view+json": {
       "model_id": "",
       "version_major": 2,
       "version_minor": 0
      },
      "text/plain": [
       "Evaluating agents:   0%|          | 0/100 [00:00<?, ?it/s]"
      ]
     },
     "metadata": {},
     "output_type": "display_data"
    },
    {
     "name": "stdout",
     "output_type": "stream",
     "text": [
      "\tMetric                      \t\tMean\t\tMedian\n",
      "\t---------------------------------------------------------------\n",
      "\ttrain_model-accuracy_no_oov:\t\t77.978%\t\t81.115%\n",
      "\tval_model-accuracy_no_oov:  \t\t4.679%\t\t3.395%\n",
      "\ttest_model-accuracy_no_oov: \t\t3.167%\t\t2.837%\n",
      "Epoch: 47\n"
     ]
    },
    {
     "data": {
      "application/vnd.jupyter.widget-view+json": {
       "model_id": "",
       "version_major": 2,
       "version_minor": 0
      },
      "text/plain": [
       "Evaluating agents:   0%|          | 0/100 [00:00<?, ?it/s]"
      ]
     },
     "metadata": {},
     "output_type": "display_data"
    },
    {
     "name": "stdout",
     "output_type": "stream",
     "text": [
      "\tMetric                      \t\tMean\t\tMedian\n",
      "\t---------------------------------------------------------------\n",
      "\ttrain_model-accuracy_no_oov:\t\t78.076%\t\t81.882%\n",
      "\tval_model-accuracy_no_oov:  \t\t4.616%\t\t3.395%\n",
      "\ttest_model-accuracy_no_oov: \t\t3.141%\t\t2.825%\n",
      "Epoch: 48\n"
     ]
    },
    {
     "data": {
      "application/vnd.jupyter.widget-view+json": {
       "model_id": "",
       "version_major": 2,
       "version_minor": 0
      },
      "text/plain": [
       "Evaluating agents:   0%|          | 0/100 [00:00<?, ?it/s]"
      ]
     },
     "metadata": {},
     "output_type": "display_data"
    },
    {
     "name": "stdout",
     "output_type": "stream",
     "text": [
      "\tMetric                      \t\tMean\t\tMedian\n",
      "\t---------------------------------------------------------------\n",
      "\ttrain_model-accuracy_no_oov:\t\t78.028%\t\t81.427%\n",
      "\tval_model-accuracy_no_oov:  \t\t4.612%\t\t3.434%\n",
      "\ttest_model-accuracy_no_oov: \t\t3.122%\t\t2.845%\n",
      "Epoch: 49\n"
     ]
    },
    {
     "data": {
      "application/vnd.jupyter.widget-view+json": {
       "model_id": "",
       "version_major": 2,
       "version_minor": 0
      },
      "text/plain": [
       "Evaluating agents:   0%|          | 0/100 [00:00<?, ?it/s]"
      ]
     },
     "metadata": {},
     "output_type": "display_data"
    },
    {
     "name": "stdout",
     "output_type": "stream",
     "text": [
      "\tMetric                      \t\tMean\t\tMedian\n",
      "\t---------------------------------------------------------------\n",
      "\ttrain_model-accuracy_no_oov:\t\t78.053%\t\t81.882%\n",
      "\tval_model-accuracy_no_oov:  \t\t4.603%\t\t3.434%\n",
      "\ttest_model-accuracy_no_oov: \t\t3.131%\t\t2.845%\n",
      "Epoch: 50\n"
     ]
    },
    {
     "data": {
      "application/vnd.jupyter.widget-view+json": {
       "model_id": "",
       "version_major": 2,
       "version_minor": 0
      },
      "text/plain": [
       "Evaluating agents:   0%|          | 0/100 [00:00<?, ?it/s]"
      ]
     },
     "metadata": {},
     "output_type": "display_data"
    },
    {
     "name": "stdout",
     "output_type": "stream",
     "text": [
      "\tMetric                      \t\tMean\t\tMedian\n",
      "\t---------------------------------------------------------------\n",
      "\ttrain_model-accuracy_no_oov:\t\t78.087%\t\t81.725%\n",
      "\tval_model-accuracy_no_oov:  \t\t4.611%\t\t3.434%\n",
      "\ttest_model-accuracy_no_oov: \t\t3.107%\t\t2.797%\n",
      "Epoch: 51\n"
     ]
    },
    {
     "data": {
      "application/vnd.jupyter.widget-view+json": {
       "model_id": "",
       "version_major": 2,
       "version_minor": 0
      },
      "text/plain": [
       "Evaluating agents:   0%|          | 0/100 [00:00<?, ?it/s]"
      ]
     },
     "metadata": {},
     "output_type": "display_data"
    },
    {
     "name": "stdout",
     "output_type": "stream",
     "text": [
      "\tMetric                      \t\tMean\t\tMedian\n",
      "\t---------------------------------------------------------------\n",
      "\ttrain_model-accuracy_no_oov:\t\t78.058%\t\t81.126%\n",
      "\tval_model-accuracy_no_oov:  \t\t4.643%\t\t3.434%\n",
      "\ttest_model-accuracy_no_oov: \t\t3.124%\t\t2.797%\n",
      "Epoch: 52\n"
     ]
    },
    {
     "data": {
      "application/vnd.jupyter.widget-view+json": {
       "model_id": "",
       "version_major": 2,
       "version_minor": 0
      },
      "text/plain": [
       "Evaluating agents:   0%|          | 0/100 [00:00<?, ?it/s]"
      ]
     },
     "metadata": {},
     "output_type": "display_data"
    },
    {
     "name": "stdout",
     "output_type": "stream",
     "text": [
      "\tMetric                      \t\tMean\t\tMedian\n",
      "\t---------------------------------------------------------------\n",
      "\ttrain_model-accuracy_no_oov:\t\t78.115%\t\t81.569%\n",
      "\tval_model-accuracy_no_oov:  \t\t4.667%\t\t3.434%\n",
      "\ttest_model-accuracy_no_oov: \t\t3.069%\t\t2.713%\n",
      "Epoch: 53\n"
     ]
    },
    {
     "data": {
      "application/vnd.jupyter.widget-view+json": {
       "model_id": "",
       "version_major": 2,
       "version_minor": 0
      },
      "text/plain": [
       "Evaluating agents:   0%|          | 0/100 [00:00<?, ?it/s]"
      ]
     },
     "metadata": {},
     "output_type": "display_data"
    },
    {
     "name": "stdout",
     "output_type": "stream",
     "text": [
      "\tMetric                      \t\tMean\t\tMedian\n",
      "\t---------------------------------------------------------------\n",
      "\ttrain_model-accuracy_no_oov:\t\t78.111%\t\t81.725%\n",
      "\tval_model-accuracy_no_oov:  \t\t4.662%\t\t3.434%\n",
      "\ttest_model-accuracy_no_oov: \t\t3.109%\t\t2.707%\n",
      "Epoch: 54\n"
     ]
    },
    {
     "data": {
      "application/vnd.jupyter.widget-view+json": {
       "model_id": "",
       "version_major": 2,
       "version_minor": 0
      },
      "text/plain": [
       "Evaluating agents:   0%|          | 0/100 [00:00<?, ?it/s]"
      ]
     },
     "metadata": {},
     "output_type": "display_data"
    },
    {
     "name": "stdout",
     "output_type": "stream",
     "text": [
      "\tMetric                      \t\tMean\t\tMedian\n",
      "\t---------------------------------------------------------------\n",
      "\ttrain_model-accuracy_no_oov:\t\t78.135%\t\t81.882%\n",
      "\tval_model-accuracy_no_oov:  \t\t4.653%\t\t3.395%\n",
      "\ttest_model-accuracy_no_oov: \t\t3.139%\t\t2.797%\n",
      "Epoch: 55\n"
     ]
    },
    {
     "data": {
      "application/vnd.jupyter.widget-view+json": {
       "model_id": "",
       "version_major": 2,
       "version_minor": 0
      },
      "text/plain": [
       "Evaluating agents:   0%|          | 0/100 [00:00<?, ?it/s]"
      ]
     },
     "metadata": {},
     "output_type": "display_data"
    },
    {
     "name": "stdout",
     "output_type": "stream",
     "text": [
      "\tMetric                      \t\tMean\t\tMedian\n",
      "\t---------------------------------------------------------------\n",
      "\ttrain_model-accuracy_no_oov:\t\t78.260%\t\t81.725%\n",
      "\tval_model-accuracy_no_oov:  \t\t4.626%\t\t3.303%\n",
      "\ttest_model-accuracy_no_oov: \t\t3.126%\t\t2.797%\n",
      "Epoch: 56\n"
     ]
    },
    {
     "data": {
      "application/vnd.jupyter.widget-view+json": {
       "model_id": "",
       "version_major": 2,
       "version_minor": 0
      },
      "text/plain": [
       "Evaluating agents:   0%|          | 0/100 [00:00<?, ?it/s]"
      ]
     },
     "metadata": {},
     "output_type": "display_data"
    },
    {
     "name": "stdout",
     "output_type": "stream",
     "text": [
      "\tMetric                      \t\tMean\t\tMedian\n",
      "\t---------------------------------------------------------------\n",
      "\ttrain_model-accuracy_no_oov:\t\t78.284%\t\t82.445%\n",
      "\tval_model-accuracy_no_oov:  \t\t4.669%\t\t3.340%\n",
      "\ttest_model-accuracy_no_oov: \t\t3.091%\t\t2.688%\n",
      "Epoch: 57\n"
     ]
    },
    {
     "data": {
      "application/vnd.jupyter.widget-view+json": {
       "model_id": "",
       "version_major": 2,
       "version_minor": 0
      },
      "text/plain": [
       "Evaluating agents:   0%|          | 0/100 [00:00<?, ?it/s]"
      ]
     },
     "metadata": {},
     "output_type": "display_data"
    },
    {
     "name": "stdout",
     "output_type": "stream",
     "text": [
      "\tMetric                      \t\tMean\t\tMedian\n",
      "\t---------------------------------------------------------------\n",
      "\ttrain_model-accuracy_no_oov:\t\t78.302%\t\t81.818%\n",
      "\tval_model-accuracy_no_oov:  \t\t4.654%\t\t3.334%\n",
      "\ttest_model-accuracy_no_oov: \t\t3.081%\t\t2.797%\n",
      "Epoch: 58\n"
     ]
    },
    {
     "data": {
      "application/vnd.jupyter.widget-view+json": {
       "model_id": "",
       "version_major": 2,
       "version_minor": 0
      },
      "text/plain": [
       "Evaluating agents:   0%|          | 0/100 [00:00<?, ?it/s]"
      ]
     },
     "metadata": {},
     "output_type": "display_data"
    },
    {
     "name": "stdout",
     "output_type": "stream",
     "text": [
      "\tMetric                      \t\tMean\t\tMedian\n",
      "\t---------------------------------------------------------------\n",
      "\ttrain_model-accuracy_no_oov:\t\t78.351%\t\t81.975%\n",
      "\tval_model-accuracy_no_oov:  \t\t4.654%\t\t3.334%\n",
      "\ttest_model-accuracy_no_oov: \t\t3.063%\t\t2.825%\n",
      "Epoch: 59\n"
     ]
    },
    {
     "data": {
      "application/vnd.jupyter.widget-view+json": {
       "model_id": "",
       "version_major": 2,
       "version_minor": 0
      },
      "text/plain": [
       "Evaluating agents:   0%|          | 0/100 [00:00<?, ?it/s]"
      ]
     },
     "metadata": {},
     "output_type": "display_data"
    },
    {
     "name": "stdout",
     "output_type": "stream",
     "text": [
      "\tMetric                      \t\tMean\t\tMedian\n",
      "\t---------------------------------------------------------------\n",
      "\ttrain_model-accuracy_no_oov:\t\t78.333%\t\t81.975%\n",
      "\tval_model-accuracy_no_oov:  \t\t4.644%\t\t3.395%\n",
      "\ttest_model-accuracy_no_oov: \t\t3.034%\t\t2.581%\n",
      "Epoch: 60\n"
     ]
    },
    {
     "data": {
      "application/vnd.jupyter.widget-view+json": {
       "model_id": "",
       "version_major": 2,
       "version_minor": 0
      },
      "text/plain": [
       "Evaluating agents:   0%|          | 0/100 [00:00<?, ?it/s]"
      ]
     },
     "metadata": {},
     "output_type": "display_data"
    },
    {
     "name": "stdout",
     "output_type": "stream",
     "text": [
      "\tMetric                      \t\tMean\t\tMedian\n",
      "\t---------------------------------------------------------------\n",
      "\ttrain_model-accuracy_no_oov:\t\t78.421%\t\t81.818%\n",
      "\tval_model-accuracy_no_oov:  \t\t4.634%\t\t3.395%\n",
      "\ttest_model-accuracy_no_oov: \t\t3.085%\t\t2.581%\n",
      "Epoch: 61\n"
     ]
    },
    {
     "data": {
      "application/vnd.jupyter.widget-view+json": {
       "model_id": "",
       "version_major": 2,
       "version_minor": 0
      },
      "text/plain": [
       "Evaluating agents:   0%|          | 0/100 [00:00<?, ?it/s]"
      ]
     },
     "metadata": {},
     "output_type": "display_data"
    },
    {
     "name": "stdout",
     "output_type": "stream",
     "text": [
      "\tMetric                      \t\tMean\t\tMedian\n",
      "\t---------------------------------------------------------------\n",
      "\ttrain_model-accuracy_no_oov:\t\t78.496%\t\t81.975%\n",
      "\tval_model-accuracy_no_oov:  \t\t4.652%\t\t3.434%\n",
      "\ttest_model-accuracy_no_oov: \t\t3.069%\t\t2.845%\n",
      "Epoch: 62\n"
     ]
    },
    {
     "data": {
      "application/vnd.jupyter.widget-view+json": {
       "model_id": "",
       "version_major": 2,
       "version_minor": 0
      },
      "text/plain": [
       "Evaluating agents:   0%|          | 0/100 [00:00<?, ?it/s]"
      ]
     },
     "metadata": {},
     "output_type": "display_data"
    },
    {
     "name": "stdout",
     "output_type": "stream",
     "text": [
      "\tMetric                      \t\tMean\t\tMedian\n",
      "\t---------------------------------------------------------------\n",
      "\ttrain_model-accuracy_no_oov:\t\t78.479%\t\t81.975%\n",
      "\tval_model-accuracy_no_oov:  \t\t4.655%\t\t3.395%\n",
      "\ttest_model-accuracy_no_oov: \t\t3.075%\t\t2.825%\n",
      "Epoch: 63\n"
     ]
    },
    {
     "data": {
      "application/vnd.jupyter.widget-view+json": {
       "model_id": "",
       "version_major": 2,
       "version_minor": 0
      },
      "text/plain": [
       "Evaluating agents:   0%|          | 0/100 [00:00<?, ?it/s]"
      ]
     },
     "metadata": {},
     "output_type": "display_data"
    },
    {
     "name": "stdout",
     "output_type": "stream",
     "text": [
      "\tMetric                      \t\tMean\t\tMedian\n",
      "\t---------------------------------------------------------------\n",
      "\ttrain_model-accuracy_no_oov:\t\t78.645%\t\t82.445%\n",
      "\tval_model-accuracy_no_oov:  \t\t4.608%\t\t3.303%\n",
      "\ttest_model-accuracy_no_oov: \t\t3.071%\t\t2.825%\n",
      "Epoch: 64\n"
     ]
    },
    {
     "data": {
      "application/vnd.jupyter.widget-view+json": {
       "model_id": "",
       "version_major": 2,
       "version_minor": 0
      },
      "text/plain": [
       "Evaluating agents:   0%|          | 0/100 [00:00<?, ?it/s]"
      ]
     },
     "metadata": {},
     "output_type": "display_data"
    },
    {
     "name": "stdout",
     "output_type": "stream",
     "text": [
      "\tMetric                      \t\tMean\t\tMedian\n",
      "\t---------------------------------------------------------------\n",
      "\ttrain_model-accuracy_no_oov:\t\t78.751%\t\t82.445%\n",
      "\tval_model-accuracy_no_oov:  \t\t4.652%\t\t3.434%\n",
      "\ttest_model-accuracy_no_oov: \t\t3.122%\t\t2.825%\n",
      "Epoch: 65\n"
     ]
    },
    {
     "data": {
      "application/vnd.jupyter.widget-view+json": {
       "model_id": "",
       "version_major": 2,
       "version_minor": 0
      },
      "text/plain": [
       "Evaluating agents:   0%|          | 0/100 [00:00<?, ?it/s]"
      ]
     },
     "metadata": {},
     "output_type": "display_data"
    },
    {
     "name": "stdout",
     "output_type": "stream",
     "text": [
      "\tMetric                      \t\tMean\t\tMedian\n",
      "\t---------------------------------------------------------------\n",
      "\ttrain_model-accuracy_no_oov:\t\t78.615%\t\t82.445%\n",
      "\tval_model-accuracy_no_oov:  \t\t4.669%\t\t3.340%\n",
      "\ttest_model-accuracy_no_oov: \t\t3.099%\t\t2.845%\n",
      "Epoch: 66\n"
     ]
    },
    {
     "data": {
      "application/vnd.jupyter.widget-view+json": {
       "model_id": "",
       "version_major": 2,
       "version_minor": 0
      },
      "text/plain": [
       "Evaluating agents:   0%|          | 0/100 [00:00<?, ?it/s]"
      ]
     },
     "metadata": {},
     "output_type": "display_data"
    },
    {
     "name": "stdout",
     "output_type": "stream",
     "text": [
      "\tMetric                      \t\tMean\t\tMedian\n",
      "\t---------------------------------------------------------------\n",
      "\ttrain_model-accuracy_no_oov:\t\t78.666%\t\t82.445%\n",
      "\tval_model-accuracy_no_oov:  \t\t4.657%\t\t3.395%\n",
      "\ttest_model-accuracy_no_oov: \t\t3.114%\t\t2.837%\n",
      "Epoch: 67\n"
     ]
    },
    {
     "data": {
      "application/vnd.jupyter.widget-view+json": {
       "model_id": "",
       "version_major": 2,
       "version_minor": 0
      },
      "text/plain": [
       "Evaluating agents:   0%|          | 0/100 [00:00<?, ?it/s]"
      ]
     },
     "metadata": {},
     "output_type": "display_data"
    },
    {
     "name": "stdout",
     "output_type": "stream",
     "text": [
      "\tMetric                      \t\tMean\t\tMedian\n",
      "\t---------------------------------------------------------------\n",
      "\ttrain_model-accuracy_no_oov:\t\t78.759%\t\t82.288%\n",
      "\tval_model-accuracy_no_oov:  \t\t4.650%\t\t3.434%\n",
      "\ttest_model-accuracy_no_oov: \t\t3.111%\t\t2.837%\n",
      "Epoch: 68\n"
     ]
    },
    {
     "data": {
      "application/vnd.jupyter.widget-view+json": {
       "model_id": "",
       "version_major": 2,
       "version_minor": 0
      },
      "text/plain": [
       "Evaluating agents:   0%|          | 0/100 [00:00<?, ?it/s]"
      ]
     },
     "metadata": {},
     "output_type": "display_data"
    },
    {
     "name": "stdout",
     "output_type": "stream",
     "text": [
      "\tMetric                      \t\tMean\t\tMedian\n",
      "\t---------------------------------------------------------------\n",
      "\ttrain_model-accuracy_no_oov:\t\t78.830%\t\t82.445%\n",
      "\tval_model-accuracy_no_oov:  \t\t4.693%\t\t3.434%\n",
      "\ttest_model-accuracy_no_oov: \t\t3.085%\t\t2.707%\n",
      "Epoch: 69\n"
     ]
    },
    {
     "data": {
      "application/vnd.jupyter.widget-view+json": {
       "model_id": "",
       "version_major": 2,
       "version_minor": 0
      },
      "text/plain": [
       "Evaluating agents:   0%|          | 0/100 [00:00<?, ?it/s]"
      ]
     },
     "metadata": {},
     "output_type": "display_data"
    },
    {
     "name": "stdout",
     "output_type": "stream",
     "text": [
      "\tMetric                      \t\tMean\t\tMedian\n",
      "\t---------------------------------------------------------------\n",
      "\ttrain_model-accuracy_no_oov:\t\t78.927%\t\t83.722%\n",
      "\tval_model-accuracy_no_oov:  \t\t4.673%\t\t3.395%\n",
      "\ttest_model-accuracy_no_oov: \t\t3.119%\t\t2.837%\n",
      "Epoch: 70\n"
     ]
    },
    {
     "data": {
      "application/vnd.jupyter.widget-view+json": {
       "model_id": "",
       "version_major": 2,
       "version_minor": 0
      },
      "text/plain": [
       "Evaluating agents:   0%|          | 0/100 [00:00<?, ?it/s]"
      ]
     },
     "metadata": {},
     "output_type": "display_data"
    },
    {
     "name": "stdout",
     "output_type": "stream",
     "text": [
      "\tMetric                      \t\tMean\t\tMedian\n",
      "\t---------------------------------------------------------------\n",
      "\ttrain_model-accuracy_no_oov:\t\t78.907%\t\t83.722%\n",
      "\tval_model-accuracy_no_oov:  \t\t4.620%\t\t3.334%\n",
      "\ttest_model-accuracy_no_oov: \t\t3.067%\t\t2.837%\n",
      "Epoch: 71\n"
     ]
    },
    {
     "data": {
      "application/vnd.jupyter.widget-view+json": {
       "model_id": "",
       "version_major": 2,
       "version_minor": 0
      },
      "text/plain": [
       "Evaluating agents:   0%|          | 0/100 [00:00<?, ?it/s]"
      ]
     },
     "metadata": {},
     "output_type": "display_data"
    },
    {
     "name": "stdout",
     "output_type": "stream",
     "text": [
      "\tMetric                      \t\tMean\t\tMedian\n",
      "\t---------------------------------------------------------------\n",
      "\ttrain_model-accuracy_no_oov:\t\t78.834%\t\t83.536%\n",
      "\tval_model-accuracy_no_oov:  \t\t4.677%\t\t3.395%\n",
      "\ttest_model-accuracy_no_oov: \t\t3.118%\t\t2.825%\n",
      "Epoch: 72\n"
     ]
    },
    {
     "data": {
      "application/vnd.jupyter.widget-view+json": {
       "model_id": "",
       "version_major": 2,
       "version_minor": 0
      },
      "text/plain": [
       "Evaluating agents:   0%|          | 0/100 [00:00<?, ?it/s]"
      ]
     },
     "metadata": {},
     "output_type": "display_data"
    },
    {
     "name": "stdout",
     "output_type": "stream",
     "text": [
      "\tMetric                      \t\tMean\t\tMedian\n",
      "\t---------------------------------------------------------------\n",
      "\ttrain_model-accuracy_no_oov:\t\t78.953%\t\t83.536%\n",
      "\tval_model-accuracy_no_oov:  \t\t4.682%\t\t3.395%\n",
      "\ttest_model-accuracy_no_oov: \t\t3.092%\t\t2.932%\n",
      "Epoch: 73\n"
     ]
    },
    {
     "data": {
      "application/vnd.jupyter.widget-view+json": {
       "model_id": "",
       "version_major": 2,
       "version_minor": 0
      },
      "text/plain": [
       "Evaluating agents:   0%|          | 0/100 [00:00<?, ?it/s]"
      ]
     },
     "metadata": {},
     "output_type": "display_data"
    },
    {
     "name": "stdout",
     "output_type": "stream",
     "text": [
      "\tMetric                      \t\tMean\t\tMedian\n",
      "\t---------------------------------------------------------------\n",
      "\ttrain_model-accuracy_no_oov:\t\t78.944%\t\t83.271%\n",
      "\tval_model-accuracy_no_oov:  \t\t4.665%\t\t3.395%\n",
      "\ttest_model-accuracy_no_oov: \t\t3.086%\t\t2.837%\n",
      "Epoch: 74\n"
     ]
    },
    {
     "data": {
      "application/vnd.jupyter.widget-view+json": {
       "model_id": "",
       "version_major": 2,
       "version_minor": 0
      },
      "text/plain": [
       "Evaluating agents:   0%|          | 0/100 [00:00<?, ?it/s]"
      ]
     },
     "metadata": {},
     "output_type": "display_data"
    },
    {
     "name": "stdout",
     "output_type": "stream",
     "text": [
      "\tMetric                      \t\tMean\t\tMedian\n",
      "\t---------------------------------------------------------------\n",
      "\ttrain_model-accuracy_no_oov:\t\t78.986%\t\t83.536%\n",
      "\tval_model-accuracy_no_oov:  \t\t4.701%\t\t3.434%\n",
      "\ttest_model-accuracy_no_oov: \t\t3.098%\t\t2.825%\n",
      "Epoch: 75\n"
     ]
    },
    {
     "data": {
      "application/vnd.jupyter.widget-view+json": {
       "model_id": "",
       "version_major": 2,
       "version_minor": 0
      },
      "text/plain": [
       "Evaluating agents:   0%|          | 0/100 [00:00<?, ?it/s]"
      ]
     },
     "metadata": {},
     "output_type": "display_data"
    },
    {
     "name": "stdout",
     "output_type": "stream",
     "text": [
      "\tMetric                      \t\tMean\t\tMedian\n",
      "\t---------------------------------------------------------------\n",
      "\ttrain_model-accuracy_no_oov:\t\t78.961%\t\t83.994%\n",
      "\tval_model-accuracy_no_oov:  \t\t4.711%\t\t3.434%\n",
      "\ttest_model-accuracy_no_oov: \t\t3.053%\t\t2.899%\n",
      "Epoch: 76\n"
     ]
    },
    {
     "data": {
      "application/vnd.jupyter.widget-view+json": {
       "model_id": "",
       "version_major": 2,
       "version_minor": 0
      },
      "text/plain": [
       "Evaluating agents:   0%|          | 0/100 [00:00<?, ?it/s]"
      ]
     },
     "metadata": {},
     "output_type": "display_data"
    },
    {
     "name": "stdout",
     "output_type": "stream",
     "text": [
      "\tMetric                      \t\tMean\t\tMedian\n",
      "\t---------------------------------------------------------------\n",
      "\ttrain_model-accuracy_no_oov:\t\t78.987%\t\t85.147%\n",
      "\tval_model-accuracy_no_oov:  \t\t4.705%\t\t3.434%\n",
      "\ttest_model-accuracy_no_oov: \t\t3.073%\t\t2.797%\n",
      "Epoch: 77\n"
     ]
    },
    {
     "data": {
      "application/vnd.jupyter.widget-view+json": {
       "model_id": "",
       "version_major": 2,
       "version_minor": 0
      },
      "text/plain": [
       "Evaluating agents:   0%|          | 0/100 [00:00<?, ?it/s]"
      ]
     },
     "metadata": {},
     "output_type": "display_data"
    },
    {
     "name": "stdout",
     "output_type": "stream",
     "text": [
      "\tMetric                      \t\tMean\t\tMedian\n",
      "\t---------------------------------------------------------------\n",
      "\ttrain_model-accuracy_no_oov:\t\t78.958%\t\t85.147%\n",
      "\tval_model-accuracy_no_oov:  \t\t4.668%\t\t3.434%\n",
      "\ttest_model-accuracy_no_oov: \t\t3.128%\t\t2.825%\n",
      "Epoch: 78\n"
     ]
    },
    {
     "data": {
      "application/vnd.jupyter.widget-view+json": {
       "model_id": "",
       "version_major": 2,
       "version_minor": 0
      },
      "text/plain": [
       "Evaluating agents:   0%|          | 0/100 [00:00<?, ?it/s]"
      ]
     },
     "metadata": {},
     "output_type": "display_data"
    },
    {
     "name": "stdout",
     "output_type": "stream",
     "text": [
      "\tMetric                      \t\tMean\t\tMedian\n",
      "\t---------------------------------------------------------------\n",
      "\ttrain_model-accuracy_no_oov:\t\t78.937%\t\t84.842%\n",
      "\tval_model-accuracy_no_oov:  \t\t4.652%\t\t3.395%\n",
      "\ttest_model-accuracy_no_oov: \t\t3.165%\t\t2.845%\n",
      "Epoch: 79\n"
     ]
    },
    {
     "data": {
      "application/vnd.jupyter.widget-view+json": {
       "model_id": "",
       "version_major": 2,
       "version_minor": 0
      },
      "text/plain": [
       "Evaluating agents:   0%|          | 0/100 [00:00<?, ?it/s]"
      ]
     },
     "metadata": {},
     "output_type": "display_data"
    },
    {
     "name": "stdout",
     "output_type": "stream",
     "text": [
      "\tMetric                      \t\tMean\t\tMedian\n",
      "\t---------------------------------------------------------------\n",
      "\ttrain_model-accuracy_no_oov:\t\t78.867%\t\t84.049%\n",
      "\tval_model-accuracy_no_oov:  \t\t4.710%\t\t3.434%\n",
      "\ttest_model-accuracy_no_oov: \t\t3.111%\t\t2.797%\n",
      "Epoch: 80\n"
     ]
    },
    {
     "data": {
      "application/vnd.jupyter.widget-view+json": {
       "model_id": "",
       "version_major": 2,
       "version_minor": 0
      },
      "text/plain": [
       "Evaluating agents:   0%|          | 0/100 [00:00<?, ?it/s]"
      ]
     },
     "metadata": {},
     "output_type": "display_data"
    },
    {
     "name": "stdout",
     "output_type": "stream",
     "text": [
      "\tMetric                      \t\tMean\t\tMedian\n",
      "\t---------------------------------------------------------------\n",
      "\ttrain_model-accuracy_no_oov:\t\t78.937%\t\t84.392%\n",
      "\tval_model-accuracy_no_oov:  \t\t4.682%\t\t3.395%\n",
      "\ttest_model-accuracy_no_oov: \t\t3.159%\t\t2.797%\n",
      "Epoch: 81\n"
     ]
    },
    {
     "data": {
      "application/vnd.jupyter.widget-view+json": {
       "model_id": "",
       "version_major": 2,
       "version_minor": 0
      },
      "text/plain": [
       "Evaluating agents:   0%|          | 0/100 [00:00<?, ?it/s]"
      ]
     },
     "metadata": {},
     "output_type": "display_data"
    },
    {
     "name": "stdout",
     "output_type": "stream",
     "text": [
      "\tMetric                      \t\tMean\t\tMedian\n",
      "\t---------------------------------------------------------------\n",
      "\ttrain_model-accuracy_no_oov:\t\t78.914%\t\t84.392%\n",
      "\tval_model-accuracy_no_oov:  \t\t4.729%\t\t3.434%\n",
      "\ttest_model-accuracy_no_oov: \t\t3.117%\t\t2.837%\n",
      "Epoch: 82\n"
     ]
    },
    {
     "data": {
      "application/vnd.jupyter.widget-view+json": {
       "model_id": "",
       "version_major": 2,
       "version_minor": 0
      },
      "text/plain": [
       "Evaluating agents:   0%|          | 0/100 [00:00<?, ?it/s]"
      ]
     },
     "metadata": {},
     "output_type": "display_data"
    },
    {
     "name": "stdout",
     "output_type": "stream",
     "text": [
      "\tMetric                      \t\tMean\t\tMedian\n",
      "\t---------------------------------------------------------------\n",
      "\ttrain_model-accuracy_no_oov:\t\t78.958%\t\t84.842%\n",
      "\tval_model-accuracy_no_oov:  \t\t4.665%\t\t3.434%\n",
      "\ttest_model-accuracy_no_oov: \t\t3.081%\t\t2.845%\n",
      "Epoch: 83\n"
     ]
    },
    {
     "data": {
      "application/vnd.jupyter.widget-view+json": {
       "model_id": "",
       "version_major": 2,
       "version_minor": 0
      },
      "text/plain": [
       "Evaluating agents:   0%|          | 0/100 [00:00<?, ?it/s]"
      ]
     },
     "metadata": {},
     "output_type": "display_data"
    },
    {
     "name": "stdout",
     "output_type": "stream",
     "text": [
      "\tMetric                      \t\tMean\t\tMedian\n",
      "\t---------------------------------------------------------------\n",
      "\ttrain_model-accuracy_no_oov:\t\t78.932%\t\t83.729%\n",
      "\tval_model-accuracy_no_oov:  \t\t4.672%\t\t3.434%\n",
      "\ttest_model-accuracy_no_oov: \t\t3.146%\t\t2.825%\n",
      "Epoch: 84\n"
     ]
    },
    {
     "data": {
      "application/vnd.jupyter.widget-view+json": {
       "model_id": "",
       "version_major": 2,
       "version_minor": 0
      },
      "text/plain": [
       "Evaluating agents:   0%|          | 0/100 [00:00<?, ?it/s]"
      ]
     },
     "metadata": {},
     "output_type": "display_data"
    },
    {
     "name": "stdout",
     "output_type": "stream",
     "text": [
      "\tMetric                      \t\tMean\t\tMedian\n",
      "\t---------------------------------------------------------------\n",
      "\ttrain_model-accuracy_no_oov:\t\t79.049%\t\t83.729%\n",
      "\tval_model-accuracy_no_oov:  \t\t4.718%\t\t3.446%\n",
      "\ttest_model-accuracy_no_oov: \t\t3.114%\t\t2.683%\n",
      "Epoch: 85\n"
     ]
    },
    {
     "data": {
      "application/vnd.jupyter.widget-view+json": {
       "model_id": "",
       "version_major": 2,
       "version_minor": 0
      },
      "text/plain": [
       "Evaluating agents:   0%|          | 0/100 [00:00<?, ?it/s]"
      ]
     },
     "metadata": {},
     "output_type": "display_data"
    },
    {
     "name": "stdout",
     "output_type": "stream",
     "text": [
      "\tMetric                      \t\tMean\t\tMedian\n",
      "\t---------------------------------------------------------------\n",
      "\ttrain_model-accuracy_no_oov:\t\t79.058%\t\t83.729%\n",
      "\tval_model-accuracy_no_oov:  \t\t4.707%\t\t3.497%\n",
      "\ttest_model-accuracy_no_oov: \t\t3.124%\t\t2.688%\n",
      "Epoch: 86\n"
     ]
    },
    {
     "data": {
      "application/vnd.jupyter.widget-view+json": {
       "model_id": "",
       "version_major": 2,
       "version_minor": 0
      },
      "text/plain": [
       "Evaluating agents:   0%|          | 0/100 [00:00<?, ?it/s]"
      ]
     },
     "metadata": {},
     "output_type": "display_data"
    },
    {
     "name": "stdout",
     "output_type": "stream",
     "text": [
      "\tMetric                      \t\tMean\t\tMedian\n",
      "\t---------------------------------------------------------------\n",
      "\ttrain_model-accuracy_no_oov:\t\t79.133%\t\t83.994%\n",
      "\tval_model-accuracy_no_oov:  \t\t4.743%\t\t3.497%\n",
      "\ttest_model-accuracy_no_oov: \t\t3.102%\t\t2.845%\n",
      "Epoch: 87\n"
     ]
    },
    {
     "data": {
      "application/vnd.jupyter.widget-view+json": {
       "model_id": "",
       "version_major": 2,
       "version_minor": 0
      },
      "text/plain": [
       "Evaluating agents:   0%|          | 0/100 [00:00<?, ?it/s]"
      ]
     },
     "metadata": {},
     "output_type": "display_data"
    },
    {
     "name": "stdout",
     "output_type": "stream",
     "text": [
      "\tMetric                      \t\tMean\t\tMedian\n",
      "\t---------------------------------------------------------------\n",
      "\ttrain_model-accuracy_no_oov:\t\t79.077%\t\t83.589%\n",
      "\tval_model-accuracy_no_oov:  \t\t4.656%\t\t3.434%\n",
      "\ttest_model-accuracy_no_oov: \t\t3.074%\t\t2.774%\n",
      "Epoch: 88\n"
     ]
    },
    {
     "data": {
      "application/vnd.jupyter.widget-view+json": {
       "model_id": "",
       "version_major": 2,
       "version_minor": 0
      },
      "text/plain": [
       "Evaluating agents:   0%|          | 0/100 [00:00<?, ?it/s]"
      ]
     },
     "metadata": {},
     "output_type": "display_data"
    },
    {
     "name": "stdout",
     "output_type": "stream",
     "text": [
      "\tMetric                      \t\tMean\t\tMedian\n",
      "\t---------------------------------------------------------------\n",
      "\ttrain_model-accuracy_no_oov:\t\t79.034%\t\t83.589%\n",
      "\tval_model-accuracy_no_oov:  \t\t4.709%\t\t3.434%\n",
      "\ttest_model-accuracy_no_oov: \t\t3.111%\t\t2.837%\n",
      "Epoch: 89\n"
     ]
    },
    {
     "data": {
      "application/vnd.jupyter.widget-view+json": {
       "model_id": "",
       "version_major": 2,
       "version_minor": 0
      },
      "text/plain": [
       "Evaluating agents:   0%|          | 0/100 [00:00<?, ?it/s]"
      ]
     },
     "metadata": {},
     "output_type": "display_data"
    },
    {
     "name": "stdout",
     "output_type": "stream",
     "text": [
      "\tMetric                      \t\tMean\t\tMedian\n",
      "\t---------------------------------------------------------------\n",
      "\ttrain_model-accuracy_no_oov:\t\t79.049%\t\t83.729%\n",
      "\tval_model-accuracy_no_oov:  \t\t4.680%\t\t3.395%\n",
      "\ttest_model-accuracy_no_oov: \t\t3.122%\t\t2.845%\n",
      "Epoch: 90\n"
     ]
    },
    {
     "data": {
      "application/vnd.jupyter.widget-view+json": {
       "model_id": "",
       "version_major": 2,
       "version_minor": 0
      },
      "text/plain": [
       "Evaluating agents:   0%|          | 0/100 [00:00<?, ?it/s]"
      ]
     },
     "metadata": {},
     "output_type": "display_data"
    },
    {
     "name": "stdout",
     "output_type": "stream",
     "text": [
      "\tMetric                      \t\tMean\t\tMedian\n",
      "\t---------------------------------------------------------------\n",
      "\ttrain_model-accuracy_no_oov:\t\t79.135%\t\t83.278%\n",
      "\tval_model-accuracy_no_oov:  \t\t4.682%\t\t3.434%\n",
      "\ttest_model-accuracy_no_oov: \t\t3.163%\t\t2.974%\n",
      "Epoch: 91\n"
     ]
    },
    {
     "data": {
      "application/vnd.jupyter.widget-view+json": {
       "model_id": "",
       "version_major": 2,
       "version_minor": 0
      },
      "text/plain": [
       "Evaluating agents:   0%|          | 0/100 [00:00<?, ?it/s]"
      ]
     },
     "metadata": {},
     "output_type": "display_data"
    },
    {
     "name": "stdout",
     "output_type": "stream",
     "text": [
      "\tMetric                      \t\tMean\t\tMedian\n",
      "\t---------------------------------------------------------------\n",
      "\ttrain_model-accuracy_no_oov:\t\t79.172%\t\t84.105%\n",
      "\tval_model-accuracy_no_oov:  \t\t4.706%\t\t3.448%\n",
      "\ttest_model-accuracy_no_oov: \t\t3.077%\t\t2.899%\n",
      "Epoch: 92\n"
     ]
    },
    {
     "data": {
      "application/vnd.jupyter.widget-view+json": {
       "model_id": "",
       "version_major": 2,
       "version_minor": 0
      },
      "text/plain": [
       "Evaluating agents:   0%|          | 0/100 [00:00<?, ?it/s]"
      ]
     },
     "metadata": {},
     "output_type": "display_data"
    },
    {
     "name": "stdout",
     "output_type": "stream",
     "text": [
      "\tMetric                      \t\tMean\t\tMedian\n",
      "\t---------------------------------------------------------------\n",
      "\ttrain_model-accuracy_no_oov:\t\t79.224%\t\t83.729%\n",
      "\tval_model-accuracy_no_oov:  \t\t4.668%\t\t3.395%\n",
      "\ttest_model-accuracy_no_oov: \t\t3.081%\t\t2.581%\n",
      "Epoch: 93\n"
     ]
    },
    {
     "data": {
      "application/vnd.jupyter.widget-view+json": {
       "model_id": "",
       "version_major": 2,
       "version_minor": 0
      },
      "text/plain": [
       "Evaluating agents:   0%|          | 0/100 [00:00<?, ?it/s]"
      ]
     },
     "metadata": {},
     "output_type": "display_data"
    },
    {
     "name": "stdout",
     "output_type": "stream",
     "text": [
      "\tMetric                      \t\tMean\t\tMedian\n",
      "\t---------------------------------------------------------------\n",
      "\ttrain_model-accuracy_no_oov:\t\t79.214%\t\t84.337%\n",
      "\tval_model-accuracy_no_oov:  \t\t4.693%\t\t3.434%\n",
      "\ttest_model-accuracy_no_oov: \t\t3.181%\t\t2.837%\n",
      "Epoch: 94\n"
     ]
    },
    {
     "data": {
      "application/vnd.jupyter.widget-view+json": {
       "model_id": "",
       "version_major": 2,
       "version_minor": 0
      },
      "text/plain": [
       "Evaluating agents:   0%|          | 0/100 [00:00<?, ?it/s]"
      ]
     },
     "metadata": {},
     "output_type": "display_data"
    },
    {
     "name": "stdout",
     "output_type": "stream",
     "text": [
      "\tMetric                      \t\tMean\t\tMedian\n",
      "\t---------------------------------------------------------------\n",
      "\ttrain_model-accuracy_no_oov:\t\t79.188%\t\t83.729%\n",
      "\tval_model-accuracy_no_oov:  \t\t4.702%\t\t3.434%\n",
      "\ttest_model-accuracy_no_oov: \t\t3.135%\t\t2.688%\n",
      "Epoch: 95\n"
     ]
    },
    {
     "data": {
      "application/vnd.jupyter.widget-view+json": {
       "model_id": "",
       "version_major": 2,
       "version_minor": 0
      },
      "text/plain": [
       "Evaluating agents:   0%|          | 0/100 [00:00<?, ?it/s]"
      ]
     },
     "metadata": {},
     "output_type": "display_data"
    },
    {
     "name": "stdout",
     "output_type": "stream",
     "text": [
      "\tMetric                      \t\tMean\t\tMedian\n",
      "\t---------------------------------------------------------------\n",
      "\ttrain_model-accuracy_no_oov:\t\t79.109%\t\t84.337%\n",
      "\tval_model-accuracy_no_oov:  \t\t4.674%\t\t3.434%\n",
      "\ttest_model-accuracy_no_oov: \t\t3.064%\t\t2.825%\n",
      "Epoch: 96\n"
     ]
    },
    {
     "data": {
      "application/vnd.jupyter.widget-view+json": {
       "model_id": "",
       "version_major": 2,
       "version_minor": 0
      },
      "text/plain": [
       "Evaluating agents:   0%|          | 0/100 [00:00<?, ?it/s]"
      ]
     },
     "metadata": {},
     "output_type": "display_data"
    },
    {
     "name": "stdout",
     "output_type": "stream",
     "text": [
      "\tMetric                      \t\tMean\t\tMedian\n",
      "\t---------------------------------------------------------------\n",
      "\ttrain_model-accuracy_no_oov:\t\t79.124%\t\t83.278%\n",
      "\tval_model-accuracy_no_oov:  \t\t4.667%\t\t3.434%\n",
      "\ttest_model-accuracy_no_oov: \t\t3.131%\t\t2.837%\n",
      "Epoch: 97\n"
     ]
    },
    {
     "data": {
      "application/vnd.jupyter.widget-view+json": {
       "model_id": "",
       "version_major": 2,
       "version_minor": 0
      },
      "text/plain": [
       "Evaluating agents:   0%|          | 0/100 [00:00<?, ?it/s]"
      ]
     },
     "metadata": {},
     "output_type": "display_data"
    },
    {
     "name": "stdout",
     "output_type": "stream",
     "text": [
      "\tMetric                      \t\tMean\t\tMedian\n",
      "\t---------------------------------------------------------------\n",
      "\ttrain_model-accuracy_no_oov:\t\t79.136%\t\t84.179%\n",
      "\tval_model-accuracy_no_oov:  \t\t4.650%\t\t3.395%\n",
      "\ttest_model-accuracy_no_oov: \t\t3.185%\t\t2.963%\n",
      "Epoch: 98\n"
     ]
    },
    {
     "data": {
      "application/vnd.jupyter.widget-view+json": {
       "model_id": "",
       "version_major": 2,
       "version_minor": 0
      },
      "text/plain": [
       "Evaluating agents:   0%|          | 0/100 [00:00<?, ?it/s]"
      ]
     },
     "metadata": {},
     "output_type": "display_data"
    },
    {
     "name": "stdout",
     "output_type": "stream",
     "text": [
      "\tMetric                      \t\tMean\t\tMedian\n",
      "\t---------------------------------------------------------------\n",
      "\ttrain_model-accuracy_no_oov:\t\t79.190%\t\t83.729%\n",
      "\tval_model-accuracy_no_oov:  \t\t4.683%\t\t3.395%\n",
      "\ttest_model-accuracy_no_oov: \t\t3.128%\t\t2.845%\n",
      "Epoch: 99\n"
     ]
    },
    {
     "data": {
      "application/vnd.jupyter.widget-view+json": {
       "model_id": "",
       "version_major": 2,
       "version_minor": 0
      },
      "text/plain": [
       "Evaluating agents:   0%|          | 0/100 [00:00<?, ?it/s]"
      ]
     },
     "metadata": {},
     "output_type": "display_data"
    },
    {
     "name": "stdout",
     "output_type": "stream",
     "text": [
      "\tMetric                      \t\tMean\t\tMedian\n",
      "\t---------------------------------------------------------------\n",
      "\ttrain_model-accuracy_no_oov:\t\t79.184%\t\t84.179%\n",
      "\tval_model-accuracy_no_oov:  \t\t4.722%\t\t3.497%\n",
      "\ttest_model-accuracy_no_oov: \t\t3.159%\t\t2.845%\n",
      "Saved to log/P2PAgent_100A_100E_50B_4V_21-02-2022_21_20.json\n"
     ]
    }
   ],
   "source": [
    "train_agents_independent(100, 0)"
   ]
  },
  {
   "cell_type": "code",
   "execution_count": 4,
   "id": "937e0a42",
   "metadata": {
    "collapsed": true
   },
   "outputs": [
    {
     "name": "stdout",
     "output_type": "stream",
     "text": [
      "Seed: 123\n",
      "Epoch: 0\n"
     ]
    },
    {
     "data": {
      "application/vnd.jupyter.widget-view+json": {
       "model_id": "",
       "version_major": 2,
       "version_minor": 0
      },
      "text/plain": [
       "Evaluating agents:   0%|          | 0/100 [00:00<?, ?it/s]"
      ]
     },
     "metadata": {},
     "output_type": "display_data"
    },
    {
     "name": "stdout",
     "output_type": "stream",
     "text": [
      "\tMetric                      \t\tMean\t\tMedian\n",
      "\t---------------------------------------------------------------\n",
      "\ttrain_model-accuracy_no_oov:\t\t31.194%\t\t22.989%\n",
      "\tval_model-accuracy_no_oov:  \t\t2.582%\t\t1.802%\n",
      "\ttest_model-accuracy_no_oov: \t\t2.879%\t\t2.410%\n",
      "Epoch: 1\n"
     ]
    },
    {
     "data": {
      "application/vnd.jupyter.widget-view+json": {
       "model_id": "",
       "version_major": 2,
       "version_minor": 0
      },
      "text/plain": [
       "Evaluating agents:   0%|          | 0/100 [00:00<?, ?it/s]"
      ]
     },
     "metadata": {},
     "output_type": "display_data"
    },
    {
     "name": "stdout",
     "output_type": "stream",
     "text": [
      "\tMetric                      \t\tMean\t\tMedian\n",
      "\t---------------------------------------------------------------\n",
      "\ttrain_model-accuracy_no_oov:\t\t42.866%\t\t40.579%\n",
      "\tval_model-accuracy_no_oov:  \t\t3.336%\t\t2.266%\n",
      "\ttest_model-accuracy_no_oov: \t\t3.746%\t\t3.439%\n",
      "Epoch: 2\n"
     ]
    },
    {
     "data": {
      "application/vnd.jupyter.widget-view+json": {
       "model_id": "",
       "version_major": 2,
       "version_minor": 0
      },
      "text/plain": [
       "Evaluating agents:   0%|          | 0/100 [00:00<?, ?it/s]"
      ]
     },
     "metadata": {},
     "output_type": "display_data"
    },
    {
     "name": "stdout",
     "output_type": "stream",
     "text": [
      "\tMetric                      \t\tMean\t\tMedian\n",
      "\t---------------------------------------------------------------\n",
      "\ttrain_model-accuracy_no_oov:\t\t48.553%\t\t48.223%\n",
      "\tval_model-accuracy_no_oov:  \t\t3.461%\t\t2.834%\n",
      "\ttest_model-accuracy_no_oov: \t\t3.751%\t\t3.402%\n",
      "Epoch: 3\n"
     ]
    },
    {
     "data": {
      "application/vnd.jupyter.widget-view+json": {
       "model_id": "",
       "version_major": 2,
       "version_minor": 0
      },
      "text/plain": [
       "Evaluating agents:   0%|          | 0/100 [00:00<?, ?it/s]"
      ]
     },
     "metadata": {},
     "output_type": "display_data"
    },
    {
     "name": "stdout",
     "output_type": "stream",
     "text": [
      "\tMetric                      \t\tMean\t\tMedian\n",
      "\t---------------------------------------------------------------\n",
      "\ttrain_model-accuracy_no_oov:\t\t52.237%\t\t54.001%\n",
      "\tval_model-accuracy_no_oov:  \t\t3.499%\t\t2.570%\n",
      "\ttest_model-accuracy_no_oov: \t\t3.619%\t\t3.362%\n",
      "Epoch: 4\n"
     ]
    },
    {
     "data": {
      "application/vnd.jupyter.widget-view+json": {
       "model_id": "",
       "version_major": 2,
       "version_minor": 0
      },
      "text/plain": [
       "Evaluating agents:   0%|          | 0/100 [00:00<?, ?it/s]"
      ]
     },
     "metadata": {},
     "output_type": "display_data"
    },
    {
     "name": "stdout",
     "output_type": "stream",
     "text": [
      "\tMetric                      \t\tMean\t\tMedian\n",
      "\t---------------------------------------------------------------\n",
      "\ttrain_model-accuracy_no_oov:\t\t55.209%\t\t54.737%\n",
      "\tval_model-accuracy_no_oov:  \t\t3.612%\t\t2.778%\n",
      "\ttest_model-accuracy_no_oov: \t\t3.558%\t\t3.333%\n",
      "Epoch: 5\n"
     ]
    },
    {
     "data": {
      "application/vnd.jupyter.widget-view+json": {
       "model_id": "",
       "version_major": 2,
       "version_minor": 0
      },
      "text/plain": [
       "Evaluating agents:   0%|          | 0/100 [00:00<?, ?it/s]"
      ]
     },
     "metadata": {},
     "output_type": "display_data"
    },
    {
     "name": "stdout",
     "output_type": "stream",
     "text": [
      "\tMetric                      \t\tMean\t\tMedian\n",
      "\t---------------------------------------------------------------\n",
      "\ttrain_model-accuracy_no_oov:\t\t57.177%\t\t57.519%\n",
      "\tval_model-accuracy_no_oov:  \t\t3.668%\t\t2.391%\n",
      "\ttest_model-accuracy_no_oov: \t\t3.591%\t\t3.333%\n",
      "Epoch: 6\n"
     ]
    },
    {
     "data": {
      "application/vnd.jupyter.widget-view+json": {
       "model_id": "",
       "version_major": 2,
       "version_minor": 0
      },
      "text/plain": [
       "Evaluating agents:   0%|          | 0/100 [00:00<?, ?it/s]"
      ]
     },
     "metadata": {},
     "output_type": "display_data"
    },
    {
     "name": "stdout",
     "output_type": "stream",
     "text": [
      "\tMetric                      \t\tMean\t\tMedian\n",
      "\t---------------------------------------------------------------\n",
      "\ttrain_model-accuracy_no_oov:\t\t58.991%\t\t59.608%\n",
      "\tval_model-accuracy_no_oov:  \t\t3.718%\t\t2.570%\n",
      "\ttest_model-accuracy_no_oov: \t\t3.584%\t\t3.362%\n",
      "Epoch: 7\n"
     ]
    },
    {
     "data": {
      "application/vnd.jupyter.widget-view+json": {
       "model_id": "",
       "version_major": 2,
       "version_minor": 0
      },
      "text/plain": [
       "Evaluating agents:   0%|          | 0/100 [00:00<?, ?it/s]"
      ]
     },
     "metadata": {},
     "output_type": "display_data"
    },
    {
     "name": "stdout",
     "output_type": "stream",
     "text": [
      "\tMetric                      \t\tMean\t\tMedian\n",
      "\t---------------------------------------------------------------\n",
      "\ttrain_model-accuracy_no_oov:\t\t60.755%\t\t62.176%\n",
      "\tval_model-accuracy_no_oov:  \t\t3.790%\t\t2.778%\n",
      "\ttest_model-accuracy_no_oov: \t\t3.563%\t\t3.362%\n",
      "Epoch: 8\n"
     ]
    },
    {
     "data": {
      "application/vnd.jupyter.widget-view+json": {
       "model_id": "",
       "version_major": 2,
       "version_minor": 0
      },
      "text/plain": [
       "Evaluating agents:   0%|          | 0/100 [00:00<?, ?it/s]"
      ]
     },
     "metadata": {},
     "output_type": "display_data"
    },
    {
     "name": "stdout",
     "output_type": "stream",
     "text": [
      "\tMetric                      \t\tMean\t\tMedian\n",
      "\t---------------------------------------------------------------\n",
      "\ttrain_model-accuracy_no_oov:\t\t62.426%\t\t64.258%\n",
      "\tval_model-accuracy_no_oov:  \t\t3.895%\t\t2.778%\n",
      "\ttest_model-accuracy_no_oov: \t\t3.594%\t\t3.390%\n",
      "Epoch: 9\n"
     ]
    },
    {
     "data": {
      "application/vnd.jupyter.widget-view+json": {
       "model_id": "",
       "version_major": 2,
       "version_minor": 0
      },
      "text/plain": [
       "Evaluating agents:   0%|          | 0/100 [00:00<?, ?it/s]"
      ]
     },
     "metadata": {},
     "output_type": "display_data"
    },
    {
     "name": "stdout",
     "output_type": "stream",
     "text": [
      "\tMetric                      \t\tMean\t\tMedian\n",
      "\t---------------------------------------------------------------\n",
      "\ttrain_model-accuracy_no_oov:\t\t63.772%\t\t65.499%\n",
      "\tval_model-accuracy_no_oov:  \t\t3.974%\t\t3.125%\n",
      "\ttest_model-accuracy_no_oov: \t\t3.574%\t\t3.374%\n",
      "Epoch: 10\n"
     ]
    },
    {
     "data": {
      "application/vnd.jupyter.widget-view+json": {
       "model_id": "",
       "version_major": 2,
       "version_minor": 0
      },
      "text/plain": [
       "Evaluating agents:   0%|          | 0/100 [00:00<?, ?it/s]"
      ]
     },
     "metadata": {},
     "output_type": "display_data"
    },
    {
     "name": "stdout",
     "output_type": "stream",
     "text": [
      "\tMetric                      \t\tMean\t\tMedian\n",
      "\t---------------------------------------------------------------\n",
      "\ttrain_model-accuracy_no_oov:\t\t64.903%\t\t66.422%\n",
      "\tval_model-accuracy_no_oov:  \t\t3.957%\t\t3.125%\n",
      "\ttest_model-accuracy_no_oov: \t\t3.594%\t\t3.390%\n",
      "Epoch: 11\n"
     ]
    },
    {
     "data": {
      "application/vnd.jupyter.widget-view+json": {
       "model_id": "",
       "version_major": 2,
       "version_minor": 0
      },
      "text/plain": [
       "Evaluating agents:   0%|          | 0/100 [00:00<?, ?it/s]"
      ]
     },
     "metadata": {},
     "output_type": "display_data"
    },
    {
     "name": "stdout",
     "output_type": "stream",
     "text": [
      "\tMetric                      \t\tMean\t\tMedian\n",
      "\t---------------------------------------------------------------\n",
      "\ttrain_model-accuracy_no_oov:\t\t65.815%\t\t67.904%\n",
      "\tval_model-accuracy_no_oov:  \t\t3.994%\t\t3.125%\n",
      "\ttest_model-accuracy_no_oov: \t\t3.607%\t\t3.404%\n",
      "Epoch: 12\n"
     ]
    },
    {
     "data": {
      "application/vnd.jupyter.widget-view+json": {
       "model_id": "",
       "version_major": 2,
       "version_minor": 0
      },
      "text/plain": [
       "Evaluating agents:   0%|          | 0/100 [00:00<?, ?it/s]"
      ]
     },
     "metadata": {},
     "output_type": "display_data"
    },
    {
     "name": "stdout",
     "output_type": "stream",
     "text": [
      "\tMetric                      \t\tMean\t\tMedian\n",
      "\t---------------------------------------------------------------\n",
      "\ttrain_model-accuracy_no_oov:\t\t66.722%\t\t68.193%\n",
      "\tval_model-accuracy_no_oov:  \t\t3.957%\t\t2.951%\n",
      "\ttest_model-accuracy_no_oov: \t\t3.606%\t\t3.362%\n",
      "Epoch: 13\n"
     ]
    },
    {
     "data": {
      "application/vnd.jupyter.widget-view+json": {
       "model_id": "",
       "version_major": 2,
       "version_minor": 0
      },
      "text/plain": [
       "Evaluating agents:   0%|          | 0/100 [00:00<?, ?it/s]"
      ]
     },
     "metadata": {},
     "output_type": "display_data"
    },
    {
     "name": "stdout",
     "output_type": "stream",
     "text": [
      "\tMetric                      \t\tMean\t\tMedian\n",
      "\t---------------------------------------------------------------\n",
      "\ttrain_model-accuracy_no_oov:\t\t67.442%\t\t68.193%\n",
      "\tval_model-accuracy_no_oov:  \t\t3.995%\t\t3.078%\n",
      "\ttest_model-accuracy_no_oov: \t\t3.633%\t\t3.439%\n",
      "Epoch: 14\n"
     ]
    },
    {
     "data": {
      "application/vnd.jupyter.widget-view+json": {
       "model_id": "",
       "version_major": 2,
       "version_minor": 0
      },
      "text/plain": [
       "Evaluating agents:   0%|          | 0/100 [00:00<?, ?it/s]"
      ]
     },
     "metadata": {},
     "output_type": "display_data"
    },
    {
     "name": "stdout",
     "output_type": "stream",
     "text": [
      "\tMetric                      \t\tMean\t\tMedian\n",
      "\t---------------------------------------------------------------\n",
      "\ttrain_model-accuracy_no_oov:\t\t68.239%\t\t68.573%\n",
      "\tval_model-accuracy_no_oov:  \t\t3.937%\t\t3.008%\n",
      "\ttest_model-accuracy_no_oov: \t\t3.563%\t\t3.374%\n",
      "Epoch: 15\n"
     ]
    },
    {
     "data": {
      "application/vnd.jupyter.widget-view+json": {
       "model_id": "",
       "version_major": 2,
       "version_minor": 0
      },
      "text/plain": [
       "Evaluating agents:   0%|          | 0/100 [00:00<?, ?it/s]"
      ]
     },
     "metadata": {},
     "output_type": "display_data"
    },
    {
     "name": "stdout",
     "output_type": "stream",
     "text": [
      "\tMetric                      \t\tMean\t\tMedian\n",
      "\t---------------------------------------------------------------\n",
      "\ttrain_model-accuracy_no_oov:\t\t68.731%\t\t68.548%\n",
      "\tval_model-accuracy_no_oov:  \t\t3.943%\t\t3.078%\n",
      "\ttest_model-accuracy_no_oov: \t\t3.591%\t\t3.404%\n",
      "Epoch: 16\n"
     ]
    },
    {
     "data": {
      "application/vnd.jupyter.widget-view+json": {
       "model_id": "",
       "version_major": 2,
       "version_minor": 0
      },
      "text/plain": [
       "Evaluating agents:   0%|          | 0/100 [00:00<?, ?it/s]"
      ]
     },
     "metadata": {},
     "output_type": "display_data"
    },
    {
     "name": "stdout",
     "output_type": "stream",
     "text": [
      "\tMetric                      \t\tMean\t\tMedian\n",
      "\t---------------------------------------------------------------\n",
      "\ttrain_model-accuracy_no_oov:\t\t69.411%\t\t69.258%\n",
      "\tval_model-accuracy_no_oov:  \t\t3.924%\t\t2.834%\n",
      "\ttest_model-accuracy_no_oov: \t\t3.445%\t\t3.239%\n",
      "Epoch: 17\n"
     ]
    },
    {
     "data": {
      "application/vnd.jupyter.widget-view+json": {
       "model_id": "",
       "version_major": 2,
       "version_minor": 0
      },
      "text/plain": [
       "Evaluating agents:   0%|          | 0/100 [00:00<?, ?it/s]"
      ]
     },
     "metadata": {},
     "output_type": "display_data"
    },
    {
     "name": "stdout",
     "output_type": "stream",
     "text": [
      "\tMetric                      \t\tMean\t\tMedian\n",
      "\t---------------------------------------------------------------\n",
      "\ttrain_model-accuracy_no_oov:\t\t69.961%\t\t69.939%\n",
      "\tval_model-accuracy_no_oov:  \t\t3.939%\t\t3.125%\n",
      "\ttest_model-accuracy_no_oov: \t\t3.452%\t\t3.306%\n",
      "Epoch: 18\n"
     ]
    },
    {
     "data": {
      "application/vnd.jupyter.widget-view+json": {
       "model_id": "",
       "version_major": 2,
       "version_minor": 0
      },
      "text/plain": [
       "Evaluating agents:   0%|          | 0/100 [00:00<?, ?it/s]"
      ]
     },
     "metadata": {},
     "output_type": "display_data"
    },
    {
     "name": "stdout",
     "output_type": "stream",
     "text": [
      "\tMetric                      \t\tMean\t\tMedian\n",
      "\t---------------------------------------------------------------\n",
      "\ttrain_model-accuracy_no_oov:\t\t70.371%\t\t71.249%\n",
      "\tval_model-accuracy_no_oov:  \t\t3.975%\t\t3.008%\n",
      "\ttest_model-accuracy_no_oov: \t\t3.434%\t\t3.239%\n",
      "Epoch: 19\n"
     ]
    },
    {
     "data": {
      "application/vnd.jupyter.widget-view+json": {
       "model_id": "",
       "version_major": 2,
       "version_minor": 0
      },
      "text/plain": [
       "Evaluating agents:   0%|          | 0/100 [00:00<?, ?it/s]"
      ]
     },
     "metadata": {},
     "output_type": "display_data"
    },
    {
     "name": "stdout",
     "output_type": "stream",
     "text": [
      "\tMetric                      \t\tMean\t\tMedian\n",
      "\t---------------------------------------------------------------\n",
      "\ttrain_model-accuracy_no_oov:\t\t70.926%\t\t72.155%\n",
      "\tval_model-accuracy_no_oov:  \t\t3.883%\t\t2.834%\n",
      "\ttest_model-accuracy_no_oov: \t\t3.429%\t\t3.265%\n",
      "Epoch: 20\n"
     ]
    },
    {
     "data": {
      "application/vnd.jupyter.widget-view+json": {
       "model_id": "",
       "version_major": 2,
       "version_minor": 0
      },
      "text/plain": [
       "Evaluating agents:   0%|          | 0/100 [00:00<?, ?it/s]"
      ]
     },
     "metadata": {},
     "output_type": "display_data"
    },
    {
     "name": "stdout",
     "output_type": "stream",
     "text": [
      "\tMetric                      \t\tMean\t\tMedian\n",
      "\t---------------------------------------------------------------\n",
      "\ttrain_model-accuracy_no_oov:\t\t71.077%\t\t73.048%\n",
      "\tval_model-accuracy_no_oov:  \t\t3.841%\t\t2.778%\n",
      "\ttest_model-accuracy_no_oov: \t\t3.408%\t\t3.239%\n",
      "Epoch: 21\n"
     ]
    },
    {
     "data": {
      "application/vnd.jupyter.widget-view+json": {
       "model_id": "",
       "version_major": 2,
       "version_minor": 0
      },
      "text/plain": [
       "Evaluating agents:   0%|          | 0/100 [00:00<?, ?it/s]"
      ]
     },
     "metadata": {},
     "output_type": "display_data"
    },
    {
     "name": "stdout",
     "output_type": "stream",
     "text": [
      "\tMetric                      \t\tMean\t\tMedian\n",
      "\t---------------------------------------------------------------\n",
      "\ttrain_model-accuracy_no_oov:\t\t71.334%\t\t73.643%\n",
      "\tval_model-accuracy_no_oov:  \t\t3.914%\t\t2.960%\n",
      "\ttest_model-accuracy_no_oov: \t\t3.439%\t\t3.265%\n",
      "Epoch: 22\n"
     ]
    },
    {
     "data": {
      "application/vnd.jupyter.widget-view+json": {
       "model_id": "",
       "version_major": 2,
       "version_minor": 0
      },
      "text/plain": [
       "Evaluating agents:   0%|          | 0/100 [00:00<?, ?it/s]"
      ]
     },
     "metadata": {},
     "output_type": "display_data"
    },
    {
     "name": "stdout",
     "output_type": "stream",
     "text": [
      "\tMetric                      \t\tMean\t\tMedian\n",
      "\t---------------------------------------------------------------\n",
      "\ttrain_model-accuracy_no_oov:\t\t71.677%\t\t73.345%\n",
      "\tval_model-accuracy_no_oov:  \t\t3.891%\t\t2.947%\n",
      "\ttest_model-accuracy_no_oov: \t\t3.441%\t\t3.265%\n",
      "Epoch: 23\n"
     ]
    },
    {
     "data": {
      "application/vnd.jupyter.widget-view+json": {
       "model_id": "",
       "version_major": 2,
       "version_minor": 0
      },
      "text/plain": [
       "Evaluating agents:   0%|          | 0/100 [00:00<?, ?it/s]"
      ]
     },
     "metadata": {},
     "output_type": "display_data"
    },
    {
     "name": "stdout",
     "output_type": "stream",
     "text": [
      "\tMetric                      \t\tMean\t\tMedian\n",
      "\t---------------------------------------------------------------\n",
      "\ttrain_model-accuracy_no_oov:\t\t71.909%\t\t73.941%\n",
      "\tval_model-accuracy_no_oov:  \t\t3.900%\t\t3.037%\n",
      "\ttest_model-accuracy_no_oov: \t\t3.374%\t\t3.265%\n",
      "Epoch: 24\n"
     ]
    },
    {
     "data": {
      "application/vnd.jupyter.widget-view+json": {
       "model_id": "",
       "version_major": 2,
       "version_minor": 0
      },
      "text/plain": [
       "Evaluating agents:   0%|          | 0/100 [00:00<?, ?it/s]"
      ]
     },
     "metadata": {},
     "output_type": "display_data"
    },
    {
     "name": "stdout",
     "output_type": "stream",
     "text": [
      "\tMetric                      \t\tMean\t\tMedian\n",
      "\t---------------------------------------------------------------\n",
      "\ttrain_model-accuracy_no_oov:\t\t71.987%\t\t74.536%\n",
      "\tval_model-accuracy_no_oov:  \t\t3.959%\t\t3.075%\n",
      "\ttest_model-accuracy_no_oov: \t\t3.417%\t\t3.288%\n",
      "Epoch: 25\n"
     ]
    },
    {
     "data": {
      "application/vnd.jupyter.widget-view+json": {
       "model_id": "",
       "version_major": 2,
       "version_minor": 0
      },
      "text/plain": [
       "Evaluating agents:   0%|          | 0/100 [00:00<?, ?it/s]"
      ]
     },
     "metadata": {},
     "output_type": "display_data"
    },
    {
     "name": "stdout",
     "output_type": "stream",
     "text": [
      "\tMetric                      \t\tMean\t\tMedian\n",
      "\t---------------------------------------------------------------\n",
      "\ttrain_model-accuracy_no_oov:\t\t72.372%\t\t76.458%\n",
      "\tval_model-accuracy_no_oov:  \t\t3.971%\t\t3.125%\n",
      "\ttest_model-accuracy_no_oov: \t\t3.410%\t\t3.239%\n",
      "Epoch: 26\n"
     ]
    },
    {
     "data": {
      "application/vnd.jupyter.widget-view+json": {
       "model_id": "",
       "version_major": 2,
       "version_minor": 0
      },
      "text/plain": [
       "Evaluating agents:   0%|          | 0/100 [00:00<?, ?it/s]"
      ]
     },
     "metadata": {},
     "output_type": "display_data"
    },
    {
     "name": "stdout",
     "output_type": "stream",
     "text": [
      "\tMetric                      \t\tMean\t\tMedian\n",
      "\t---------------------------------------------------------------\n",
      "\ttrain_model-accuracy_no_oov:\t\t72.580%\t\t76.751%\n",
      "\tval_model-accuracy_no_oov:  \t\t3.929%\t\t3.125%\n",
      "\ttest_model-accuracy_no_oov: \t\t3.438%\t\t3.315%\n",
      "Epoch: 27\n"
     ]
    },
    {
     "data": {
      "application/vnd.jupyter.widget-view+json": {
       "model_id": "",
       "version_major": 2,
       "version_minor": 0
      },
      "text/plain": [
       "Evaluating agents:   0%|          | 0/100 [00:00<?, ?it/s]"
      ]
     },
     "metadata": {},
     "output_type": "display_data"
    },
    {
     "name": "stdout",
     "output_type": "stream",
     "text": [
      "\tMetric                      \t\tMean\t\tMedian\n",
      "\t---------------------------------------------------------------\n",
      "\ttrain_model-accuracy_no_oov:\t\t72.772%\t\t76.674%\n",
      "\tval_model-accuracy_no_oov:  \t\t3.925%\t\t3.125%\n",
      "\ttest_model-accuracy_no_oov: \t\t3.439%\t\t3.306%\n",
      "Epoch: 28\n"
     ]
    },
    {
     "data": {
      "application/vnd.jupyter.widget-view+json": {
       "model_id": "",
       "version_major": 2,
       "version_minor": 0
      },
      "text/plain": [
       "Evaluating agents:   0%|          | 0/100 [00:00<?, ?it/s]"
      ]
     },
     "metadata": {},
     "output_type": "display_data"
    },
    {
     "name": "stdout",
     "output_type": "stream",
     "text": [
      "\tMetric                      \t\tMean\t\tMedian\n",
      "\t---------------------------------------------------------------\n",
      "\ttrain_model-accuracy_no_oov:\t\t72.946%\t\t76.387%\n",
      "\tval_model-accuracy_no_oov:  \t\t3.898%\t\t3.084%\n",
      "\ttest_model-accuracy_no_oov: \t\t3.490%\t\t3.293%\n",
      "Epoch: 29\n"
     ]
    },
    {
     "data": {
      "application/vnd.jupyter.widget-view+json": {
       "model_id": "",
       "version_major": 2,
       "version_minor": 0
      },
      "text/plain": [
       "Evaluating agents:   0%|          | 0/100 [00:00<?, ?it/s]"
      ]
     },
     "metadata": {},
     "output_type": "display_data"
    },
    {
     "name": "stdout",
     "output_type": "stream",
     "text": [
      "\tMetric                      \t\tMean\t\tMedian\n",
      "\t---------------------------------------------------------------\n",
      "\ttrain_model-accuracy_no_oov:\t\t73.031%\t\t76.247%\n",
      "\tval_model-accuracy_no_oov:  \t\t3.928%\t\t3.008%\n",
      "\ttest_model-accuracy_no_oov: \t\t3.495%\t\t3.346%\n",
      "Epoch: 30\n"
     ]
    },
    {
     "data": {
      "application/vnd.jupyter.widget-view+json": {
       "model_id": "",
       "version_major": 2,
       "version_minor": 0
      },
      "text/plain": [
       "Evaluating agents:   0%|          | 0/100 [00:00<?, ?it/s]"
      ]
     },
     "metadata": {},
     "output_type": "display_data"
    },
    {
     "name": "stdout",
     "output_type": "stream",
     "text": [
      "\tMetric                      \t\tMean\t\tMedian\n",
      "\t---------------------------------------------------------------\n",
      "\ttrain_model-accuracy_no_oov:\t\t73.117%\t\t76.458%\n",
      "\tval_model-accuracy_no_oov:  \t\t3.957%\t\t3.186%\n",
      "\ttest_model-accuracy_no_oov: \t\t3.411%\t\t3.265%\n",
      "Epoch: 31\n"
     ]
    },
    {
     "data": {
      "application/vnd.jupyter.widget-view+json": {
       "model_id": "",
       "version_major": 2,
       "version_minor": 0
      },
      "text/plain": [
       "Evaluating agents:   0%|          | 0/100 [00:00<?, ?it/s]"
      ]
     },
     "metadata": {},
     "output_type": "display_data"
    },
    {
     "name": "stdout",
     "output_type": "stream",
     "text": [
      "\tMetric                      \t\tMean\t\tMedian\n",
      "\t---------------------------------------------------------------\n",
      "\ttrain_model-accuracy_no_oov:\t\t73.260%\t\t77.098%\n",
      "\tval_model-accuracy_no_oov:  \t\t3.969%\t\t3.125%\n",
      "\ttest_model-accuracy_no_oov: \t\t3.381%\t\t3.215%\n",
      "Epoch: 32\n"
     ]
    },
    {
     "data": {
      "application/vnd.jupyter.widget-view+json": {
       "model_id": "",
       "version_major": 2,
       "version_minor": 0
      },
      "text/plain": [
       "Evaluating agents:   0%|          | 0/100 [00:00<?, ?it/s]"
      ]
     },
     "metadata": {},
     "output_type": "display_data"
    },
    {
     "name": "stdout",
     "output_type": "stream",
     "text": [
      "\tMetric                      \t\tMean\t\tMedian\n",
      "\t---------------------------------------------------------------\n",
      "\ttrain_model-accuracy_no_oov:\t\t73.337%\t\t76.739%\n",
      "\tval_model-accuracy_no_oov:  \t\t3.942%\t\t3.125%\n",
      "\ttest_model-accuracy_no_oov: \t\t3.350%\t\t3.239%\n",
      "Epoch: 33\n"
     ]
    },
    {
     "data": {
      "application/vnd.jupyter.widget-view+json": {
       "model_id": "",
       "version_major": 2,
       "version_minor": 0
      },
      "text/plain": [
       "Evaluating agents:   0%|          | 0/100 [00:00<?, ?it/s]"
      ]
     },
     "metadata": {},
     "output_type": "display_data"
    },
    {
     "name": "stdout",
     "output_type": "stream",
     "text": [
      "\tMetric                      \t\tMean\t\tMedian\n",
      "\t---------------------------------------------------------------\n",
      "\ttrain_model-accuracy_no_oov:\t\t73.432%\t\t76.495%\n",
      "\tval_model-accuracy_no_oov:  \t\t3.953%\t\t3.192%\n",
      "\ttest_model-accuracy_no_oov: \t\t3.366%\t\t3.239%\n",
      "Epoch: 34\n"
     ]
    },
    {
     "data": {
      "application/vnd.jupyter.widget-view+json": {
       "model_id": "",
       "version_major": 2,
       "version_minor": 0
      },
      "text/plain": [
       "Evaluating agents:   0%|          | 0/100 [00:00<?, ?it/s]"
      ]
     },
     "metadata": {},
     "output_type": "display_data"
    },
    {
     "name": "stdout",
     "output_type": "stream",
     "text": [
      "\tMetric                      \t\tMean\t\tMedian\n",
      "\t---------------------------------------------------------------\n",
      "\ttrain_model-accuracy_no_oov:\t\t73.498%\t\t76.674%\n",
      "\tval_model-accuracy_no_oov:  \t\t3.943%\t\t3.213%\n",
      "\ttest_model-accuracy_no_oov: \t\t3.379%\t\t3.265%\n",
      "Epoch: 35\n"
     ]
    },
    {
     "data": {
      "application/vnd.jupyter.widget-view+json": {
       "model_id": "",
       "version_major": 2,
       "version_minor": 0
      },
      "text/plain": [
       "Evaluating agents:   0%|          | 0/100 [00:00<?, ?it/s]"
      ]
     },
     "metadata": {},
     "output_type": "display_data"
    },
    {
     "name": "stdout",
     "output_type": "stream",
     "text": [
      "\tMetric                      \t\tMean\t\tMedian\n",
      "\t---------------------------------------------------------------\n",
      "\ttrain_model-accuracy_no_oov:\t\t73.556%\t\t76.542%\n",
      "\tval_model-accuracy_no_oov:  \t\t3.945%\t\t3.253%\n",
      "\ttest_model-accuracy_no_oov: \t\t3.394%\t\t3.346%\n",
      "Epoch: 36\n"
     ]
    },
    {
     "data": {
      "application/vnd.jupyter.widget-view+json": {
       "model_id": "",
       "version_major": 2,
       "version_minor": 0
      },
      "text/plain": [
       "Evaluating agents:   0%|          | 0/100 [00:00<?, ?it/s]"
      ]
     },
     "metadata": {},
     "output_type": "display_data"
    },
    {
     "name": "stdout",
     "output_type": "stream",
     "text": [
      "\tMetric                      \t\tMean\t\tMedian\n",
      "\t---------------------------------------------------------------\n",
      "\ttrain_model-accuracy_no_oov:\t\t73.549%\t\t76.495%\n",
      "\tval_model-accuracy_no_oov:  \t\t3.954%\t\t3.253%\n",
      "\ttest_model-accuracy_no_oov: \t\t3.419%\t\t3.315%\n",
      "Epoch: 37\n"
     ]
    },
    {
     "data": {
      "application/vnd.jupyter.widget-view+json": {
       "model_id": "",
       "version_major": 2,
       "version_minor": 0
      },
      "text/plain": [
       "Evaluating agents:   0%|          | 0/100 [00:00<?, ?it/s]"
      ]
     },
     "metadata": {},
     "output_type": "display_data"
    },
    {
     "name": "stdout",
     "output_type": "stream",
     "text": [
      "\tMetric                      \t\tMean\t\tMedian\n",
      "\t---------------------------------------------------------------\n",
      "\ttrain_model-accuracy_no_oov:\t\t73.519%\t\t76.542%\n",
      "\tval_model-accuracy_no_oov:  \t\t3.927%\t\t3.192%\n",
      "\ttest_model-accuracy_no_oov: \t\t3.382%\t\t3.346%\n",
      "Epoch: 38\n"
     ]
    },
    {
     "data": {
      "application/vnd.jupyter.widget-view+json": {
       "model_id": "",
       "version_major": 2,
       "version_minor": 0
      },
      "text/plain": [
       "Evaluating agents:   0%|          | 0/100 [00:00<?, ?it/s]"
      ]
     },
     "metadata": {},
     "output_type": "display_data"
    },
    {
     "name": "stdout",
     "output_type": "stream",
     "text": [
      "\tMetric                      \t\tMean\t\tMedian\n",
      "\t---------------------------------------------------------------\n",
      "\ttrain_model-accuracy_no_oov:\t\t73.522%\t\t76.363%\n",
      "\tval_model-accuracy_no_oov:  \t\t3.939%\t\t3.192%\n",
      "\ttest_model-accuracy_no_oov: \t\t3.381%\t\t3.306%\n",
      "Epoch: 39\n"
     ]
    },
    {
     "data": {
      "application/vnd.jupyter.widget-view+json": {
       "model_id": "",
       "version_major": 2,
       "version_minor": 0
      },
      "text/plain": [
       "Evaluating agents:   0%|          | 0/100 [00:00<?, ?it/s]"
      ]
     },
     "metadata": {},
     "output_type": "display_data"
    },
    {
     "name": "stdout",
     "output_type": "stream",
     "text": [
      "\tMetric                      \t\tMean\t\tMedian\n",
      "\t---------------------------------------------------------------\n",
      "\ttrain_model-accuracy_no_oov:\t\t73.518%\t\t76.682%\n",
      "\tval_model-accuracy_no_oov:  \t\t3.938%\t\t3.125%\n",
      "\ttest_model-accuracy_no_oov: \t\t3.358%\t\t3.293%\n",
      "Epoch: 40\n"
     ]
    },
    {
     "data": {
      "application/vnd.jupyter.widget-view+json": {
       "model_id": "",
       "version_major": 2,
       "version_minor": 0
      },
      "text/plain": [
       "Evaluating agents:   0%|          | 0/100 [00:00<?, ?it/s]"
      ]
     },
     "metadata": {},
     "output_type": "display_data"
    },
    {
     "name": "stdout",
     "output_type": "stream",
     "text": [
      "\tMetric                      \t\tMean\t\tMedian\n",
      "\t---------------------------------------------------------------\n",
      "\ttrain_model-accuracy_no_oov:\t\t73.567%\t\t76.883%\n",
      "\tval_model-accuracy_no_oov:  \t\t3.925%\t\t3.125%\n",
      "\ttest_model-accuracy_no_oov: \t\t3.396%\t\t3.346%\n",
      "Epoch: 41\n"
     ]
    },
    {
     "data": {
      "application/vnd.jupyter.widget-view+json": {
       "model_id": "",
       "version_major": 2,
       "version_minor": 0
      },
      "text/plain": [
       "Evaluating agents:   0%|          | 0/100 [00:00<?, ?it/s]"
      ]
     },
     "metadata": {},
     "output_type": "display_data"
    },
    {
     "name": "stdout",
     "output_type": "stream",
     "text": [
      "\tMetric                      \t\tMean\t\tMedian\n",
      "\t---------------------------------------------------------------\n",
      "\ttrain_model-accuracy_no_oov:\t\t73.652%\t\t76.883%\n",
      "\tval_model-accuracy_no_oov:  \t\t3.924%\t\t3.296%\n",
      "\ttest_model-accuracy_no_oov: \t\t3.469%\t\t3.346%\n",
      "Epoch: 42\n"
     ]
    },
    {
     "data": {
      "application/vnd.jupyter.widget-view+json": {
       "model_id": "",
       "version_major": 2,
       "version_minor": 0
      },
      "text/plain": [
       "Evaluating agents:   0%|          | 0/100 [00:00<?, ?it/s]"
      ]
     },
     "metadata": {},
     "output_type": "display_data"
    },
    {
     "name": "stdout",
     "output_type": "stream",
     "text": [
      "\tMetric                      \t\tMean\t\tMedian\n",
      "\t---------------------------------------------------------------\n",
      "\ttrain_model-accuracy_no_oov:\t\t73.648%\t\t76.682%\n",
      "\tval_model-accuracy_no_oov:  \t\t3.963%\t\t3.192%\n",
      "\ttest_model-accuracy_no_oov: \t\t3.421%\t\t3.265%\n",
      "Epoch: 43\n"
     ]
    },
    {
     "data": {
      "application/vnd.jupyter.widget-view+json": {
       "model_id": "",
       "version_major": 2,
       "version_minor": 0
      },
      "text/plain": [
       "Evaluating agents:   0%|          | 0/100 [00:00<?, ?it/s]"
      ]
     },
     "metadata": {},
     "output_type": "display_data"
    },
    {
     "name": "stdout",
     "output_type": "stream",
     "text": [
      "\tMetric                      \t\tMean\t\tMedian\n",
      "\t---------------------------------------------------------------\n",
      "\ttrain_model-accuracy_no_oov:\t\t73.742%\t\t77.029%\n",
      "\tval_model-accuracy_no_oov:  \t\t3.919%\t\t3.125%\n",
      "\ttest_model-accuracy_no_oov: \t\t3.408%\t\t3.242%\n",
      "Epoch: 44\n"
     ]
    },
    {
     "data": {
      "application/vnd.jupyter.widget-view+json": {
       "model_id": "",
       "version_major": 2,
       "version_minor": 0
      },
      "text/plain": [
       "Evaluating agents:   0%|          | 0/100 [00:00<?, ?it/s]"
      ]
     },
     "metadata": {},
     "output_type": "display_data"
    },
    {
     "name": "stdout",
     "output_type": "stream",
     "text": [
      "\tMetric                      \t\tMean\t\tMedian\n",
      "\t---------------------------------------------------------------\n",
      "\ttrain_model-accuracy_no_oov:\t\t73.705%\t\t76.883%\n",
      "\tval_model-accuracy_no_oov:  \t\t3.969%\t\t3.229%\n",
      "\ttest_model-accuracy_no_oov: \t\t3.429%\t\t3.242%\n",
      "Epoch: 45\n"
     ]
    },
    {
     "data": {
      "application/vnd.jupyter.widget-view+json": {
       "model_id": "",
       "version_major": 2,
       "version_minor": 0
      },
      "text/plain": [
       "Evaluating agents:   0%|          | 0/100 [00:00<?, ?it/s]"
      ]
     },
     "metadata": {},
     "output_type": "display_data"
    },
    {
     "name": "stdout",
     "output_type": "stream",
     "text": [
      "\tMetric                      \t\tMean\t\tMedian\n",
      "\t---------------------------------------------------------------\n",
      "\ttrain_model-accuracy_no_oov:\t\t73.792%\t\t77.057%\n",
      "\tval_model-accuracy_no_oov:  \t\t3.937%\t\t3.125%\n",
      "\ttest_model-accuracy_no_oov: \t\t3.466%\t\t3.306%\n",
      "Epoch: 46\n"
     ]
    },
    {
     "data": {
      "application/vnd.jupyter.widget-view+json": {
       "model_id": "",
       "version_major": 2,
       "version_minor": 0
      },
      "text/plain": [
       "Evaluating agents:   0%|          | 0/100 [00:00<?, ?it/s]"
      ]
     },
     "metadata": {},
     "output_type": "display_data"
    },
    {
     "name": "stdout",
     "output_type": "stream",
     "text": [
      "\tMetric                      \t\tMean\t\tMedian\n",
      "\t---------------------------------------------------------------\n",
      "\ttrain_model-accuracy_no_oov:\t\t73.781%\t\t76.854%\n",
      "\tval_model-accuracy_no_oov:  \t\t3.926%\t\t3.125%\n",
      "\ttest_model-accuracy_no_oov: \t\t3.451%\t\t3.265%\n",
      "Epoch: 47\n"
     ]
    },
    {
     "data": {
      "application/vnd.jupyter.widget-view+json": {
       "model_id": "",
       "version_major": 2,
       "version_minor": 0
      },
      "text/plain": [
       "Evaluating agents:   0%|          | 0/100 [00:00<?, ?it/s]"
      ]
     },
     "metadata": {},
     "output_type": "display_data"
    },
    {
     "name": "stdout",
     "output_type": "stream",
     "text": [
      "\tMetric                      \t\tMean\t\tMedian\n",
      "\t---------------------------------------------------------------\n",
      "\ttrain_model-accuracy_no_oov:\t\t73.952%\t\t76.854%\n",
      "\tval_model-accuracy_no_oov:  \t\t3.923%\t\t3.186%\n",
      "\ttest_model-accuracy_no_oov: \t\t3.458%\t\t3.349%\n",
      "Epoch: 48\n"
     ]
    },
    {
     "data": {
      "application/vnd.jupyter.widget-view+json": {
       "model_id": "",
       "version_major": 2,
       "version_minor": 0
      },
      "text/plain": [
       "Evaluating agents:   0%|          | 0/100 [00:00<?, ?it/s]"
      ]
     },
     "metadata": {},
     "output_type": "display_data"
    },
    {
     "name": "stdout",
     "output_type": "stream",
     "text": [
      "\tMetric                      \t\tMean\t\tMedian\n",
      "\t---------------------------------------------------------------\n",
      "\ttrain_model-accuracy_no_oov:\t\t73.859%\t\t76.854%\n",
      "\tval_model-accuracy_no_oov:  \t\t3.944%\t\t3.125%\n",
      "\ttest_model-accuracy_no_oov: \t\t3.456%\t\t3.346%\n",
      "Epoch: 49\n"
     ]
    },
    {
     "data": {
      "application/vnd.jupyter.widget-view+json": {
       "model_id": "",
       "version_major": 2,
       "version_minor": 0
      },
      "text/plain": [
       "Evaluating agents:   0%|          | 0/100 [00:00<?, ?it/s]"
      ]
     },
     "metadata": {},
     "output_type": "display_data"
    },
    {
     "name": "stdout",
     "output_type": "stream",
     "text": [
      "\tMetric                      \t\tMean\t\tMedian\n",
      "\t---------------------------------------------------------------\n",
      "\ttrain_model-accuracy_no_oov:\t\t73.922%\t\t76.814%\n",
      "\tval_model-accuracy_no_oov:  \t\t3.911%\t\t3.125%\n",
      "\ttest_model-accuracy_no_oov: \t\t3.482%\t\t3.288%\n",
      "Epoch: 50\n"
     ]
    },
    {
     "data": {
      "application/vnd.jupyter.widget-view+json": {
       "model_id": "",
       "version_major": 2,
       "version_minor": 0
      },
      "text/plain": [
       "Evaluating agents:   0%|          | 0/100 [00:00<?, ?it/s]"
      ]
     },
     "metadata": {},
     "output_type": "display_data"
    },
    {
     "name": "stdout",
     "output_type": "stream",
     "text": [
      "\tMetric                      \t\tMean\t\tMedian\n",
      "\t---------------------------------------------------------------\n",
      "\ttrain_model-accuracy_no_oov:\t\t73.888%\t\t76.682%\n",
      "\tval_model-accuracy_no_oov:  \t\t3.943%\t\t2.976%\n",
      "\ttest_model-accuracy_no_oov: \t\t3.475%\t\t3.306%\n",
      "Epoch: 51\n"
     ]
    },
    {
     "data": {
      "application/vnd.jupyter.widget-view+json": {
       "model_id": "",
       "version_major": 2,
       "version_minor": 0
      },
      "text/plain": [
       "Evaluating agents:   0%|          | 0/100 [00:00<?, ?it/s]"
      ]
     },
     "metadata": {},
     "output_type": "display_data"
    },
    {
     "name": "stdout",
     "output_type": "stream",
     "text": [
      "\tMetric                      \t\tMean\t\tMedian\n",
      "\t---------------------------------------------------------------\n",
      "\ttrain_model-accuracy_no_oov:\t\t73.954%\t\t76.682%\n",
      "\tval_model-accuracy_no_oov:  \t\t3.927%\t\t3.125%\n",
      "\ttest_model-accuracy_no_oov: \t\t3.486%\t\t3.265%\n",
      "Epoch: 52\n"
     ]
    },
    {
     "data": {
      "application/vnd.jupyter.widget-view+json": {
       "model_id": "",
       "version_major": 2,
       "version_minor": 0
      },
      "text/plain": [
       "Evaluating agents:   0%|          | 0/100 [00:00<?, ?it/s]"
      ]
     },
     "metadata": {},
     "output_type": "display_data"
    },
    {
     "name": "stdout",
     "output_type": "stream",
     "text": [
      "\tMetric                      \t\tMean\t\tMedian\n",
      "\t---------------------------------------------------------------\n",
      "\ttrain_model-accuracy_no_oov:\t\t74.118%\t\t76.814%\n",
      "\tval_model-accuracy_no_oov:  \t\t3.967%\t\t3.105%\n",
      "\ttest_model-accuracy_no_oov: \t\t3.427%\t\t3.265%\n",
      "Epoch: 53\n"
     ]
    },
    {
     "data": {
      "application/vnd.jupyter.widget-view+json": {
       "model_id": "",
       "version_major": 2,
       "version_minor": 0
      },
      "text/plain": [
       "Evaluating agents:   0%|          | 0/100 [00:00<?, ?it/s]"
      ]
     },
     "metadata": {},
     "output_type": "display_data"
    },
    {
     "name": "stdout",
     "output_type": "stream",
     "text": [
      "\tMetric                      \t\tMean\t\tMedian\n",
      "\t---------------------------------------------------------------\n",
      "\ttrain_model-accuracy_no_oov:\t\t74.178%\t\t76.682%\n",
      "\tval_model-accuracy_no_oov:  \t\t3.936%\t\t3.226%\n",
      "\ttest_model-accuracy_no_oov: \t\t3.426%\t\t3.293%\n",
      "Epoch: 54\n"
     ]
    },
    {
     "data": {
      "application/vnd.jupyter.widget-view+json": {
       "model_id": "",
       "version_major": 2,
       "version_minor": 0
      },
      "text/plain": [
       "Evaluating agents:   0%|          | 0/100 [00:00<?, ?it/s]"
      ]
     },
     "metadata": {},
     "output_type": "display_data"
    },
    {
     "name": "stdout",
     "output_type": "stream",
     "text": [
      "\tMetric                      \t\tMean\t\tMedian\n",
      "\t---------------------------------------------------------------\n",
      "\ttrain_model-accuracy_no_oov:\t\t74.249%\t\t76.682%\n",
      "\tval_model-accuracy_no_oov:  \t\t3.933%\t\t3.014%\n",
      "\ttest_model-accuracy_no_oov: \t\t3.437%\t\t3.337%\n",
      "Epoch: 55\n"
     ]
    },
    {
     "data": {
      "application/vnd.jupyter.widget-view+json": {
       "model_id": "",
       "version_major": 2,
       "version_minor": 0
      },
      "text/plain": [
       "Evaluating agents:   0%|          | 0/100 [00:00<?, ?it/s]"
      ]
     },
     "metadata": {},
     "output_type": "display_data"
    },
    {
     "name": "stdout",
     "output_type": "stream",
     "text": [
      "\tMetric                      \t\tMean\t\tMedian\n",
      "\t---------------------------------------------------------------\n",
      "\ttrain_model-accuracy_no_oov:\t\t74.187%\t\t76.682%\n",
      "\tval_model-accuracy_no_oov:  \t\t3.935%\t\t3.116%\n",
      "\ttest_model-accuracy_no_oov: \t\t3.398%\t\t3.306%\n",
      "Epoch: 56\n"
     ]
    },
    {
     "data": {
      "application/vnd.jupyter.widget-view+json": {
       "model_id": "",
       "version_major": 2,
       "version_minor": 0
      },
      "text/plain": [
       "Evaluating agents:   0%|          | 0/100 [00:00<?, ?it/s]"
      ]
     },
     "metadata": {},
     "output_type": "display_data"
    },
    {
     "name": "stdout",
     "output_type": "stream",
     "text": [
      "\tMetric                      \t\tMean\t\tMedian\n",
      "\t---------------------------------------------------------------\n",
      "\ttrain_model-accuracy_no_oov:\t\t74.155%\t\t76.814%\n",
      "\tval_model-accuracy_no_oov:  \t\t3.967%\t\t3.125%\n",
      "\ttest_model-accuracy_no_oov: \t\t3.435%\t\t3.306%\n",
      "Epoch: 57\n"
     ]
    },
    {
     "data": {
      "application/vnd.jupyter.widget-view+json": {
       "model_id": "",
       "version_major": 2,
       "version_minor": 0
      },
      "text/plain": [
       "Evaluating agents:   0%|          | 0/100 [00:00<?, ?it/s]"
      ]
     },
     "metadata": {},
     "output_type": "display_data"
    },
    {
     "name": "stdout",
     "output_type": "stream",
     "text": [
      "\tMetric                      \t\tMean\t\tMedian\n",
      "\t---------------------------------------------------------------\n",
      "\ttrain_model-accuracy_no_oov:\t\t74.248%\t\t77.098%\n",
      "\tval_model-accuracy_no_oov:  \t\t3.970%\t\t3.125%\n",
      "\ttest_model-accuracy_no_oov: \t\t3.441%\t\t3.374%\n",
      "Epoch: 58\n"
     ]
    },
    {
     "data": {
      "application/vnd.jupyter.widget-view+json": {
       "model_id": "",
       "version_major": 2,
       "version_minor": 0
      },
      "text/plain": [
       "Evaluating agents:   0%|          | 0/100 [00:00<?, ?it/s]"
      ]
     },
     "metadata": {},
     "output_type": "display_data"
    },
    {
     "name": "stdout",
     "output_type": "stream",
     "text": [
      "\tMetric                      \t\tMean\t\tMedian\n",
      "\t---------------------------------------------------------------\n",
      "\ttrain_model-accuracy_no_oov:\t\t74.185%\t\t77.057%\n",
      "\tval_model-accuracy_no_oov:  \t\t3.973%\t\t3.192%\n",
      "\ttest_model-accuracy_no_oov: \t\t3.434%\t\t3.346%\n",
      "Epoch: 59\n"
     ]
    },
    {
     "data": {
      "application/vnd.jupyter.widget-view+json": {
       "model_id": "",
       "version_major": 2,
       "version_minor": 0
      },
      "text/plain": [
       "Evaluating agents:   0%|          | 0/100 [00:00<?, ?it/s]"
      ]
     },
     "metadata": {},
     "output_type": "display_data"
    },
    {
     "name": "stdout",
     "output_type": "stream",
     "text": [
      "\tMetric                      \t\tMean\t\tMedian\n",
      "\t---------------------------------------------------------------\n",
      "\ttrain_model-accuracy_no_oov:\t\t74.154%\t\t77.029%\n",
      "\tval_model-accuracy_no_oov:  \t\t3.957%\t\t3.192%\n",
      "\ttest_model-accuracy_no_oov: \t\t3.454%\t\t3.306%\n",
      "Epoch: 60\n"
     ]
    },
    {
     "data": {
      "application/vnd.jupyter.widget-view+json": {
       "model_id": "",
       "version_major": 2,
       "version_minor": 0
      },
      "text/plain": [
       "Evaluating agents:   0%|          | 0/100 [00:00<?, ?it/s]"
      ]
     },
     "metadata": {},
     "output_type": "display_data"
    },
    {
     "name": "stdout",
     "output_type": "stream",
     "text": [
      "\tMetric                      \t\tMean\t\tMedian\n",
      "\t---------------------------------------------------------------\n",
      "\ttrain_model-accuracy_no_oov:\t\t74.194%\t\t77.029%\n",
      "\tval_model-accuracy_no_oov:  \t\t3.962%\t\t3.187%\n",
      "\ttest_model-accuracy_no_oov: \t\t3.419%\t\t3.306%\n",
      "Epoch: 61\n"
     ]
    },
    {
     "data": {
      "application/vnd.jupyter.widget-view+json": {
       "model_id": "",
       "version_major": 2,
       "version_minor": 0
      },
      "text/plain": [
       "Evaluating agents:   0%|          | 0/100 [00:00<?, ?it/s]"
      ]
     },
     "metadata": {},
     "output_type": "display_data"
    },
    {
     "name": "stdout",
     "output_type": "stream",
     "text": [
      "\tMetric                      \t\tMean\t\tMedian\n",
      "\t---------------------------------------------------------------\n",
      "\ttrain_model-accuracy_no_oov:\t\t74.070%\t\t77.327%\n",
      "\tval_model-accuracy_no_oov:  \t\t3.987%\t\t3.213%\n",
      "\ttest_model-accuracy_no_oov: \t\t3.395%\t\t3.306%\n",
      "Epoch: 62\n"
     ]
    },
    {
     "data": {
      "application/vnd.jupyter.widget-view+json": {
       "model_id": "",
       "version_major": 2,
       "version_minor": 0
      },
      "text/plain": [
       "Evaluating agents:   0%|          | 0/100 [00:00<?, ?it/s]"
      ]
     },
     "metadata": {},
     "output_type": "display_data"
    },
    {
     "name": "stdout",
     "output_type": "stream",
     "text": [
      "\tMetric                      \t\tMean\t\tMedian\n",
      "\t---------------------------------------------------------------\n",
      "\ttrain_model-accuracy_no_oov:\t\t73.765%\t\t76.814%\n",
      "\tval_model-accuracy_no_oov:  \t\t3.943%\t\t3.125%\n",
      "\ttest_model-accuracy_no_oov: \t\t3.376%\t\t3.265%\n",
      "Epoch: 63\n"
     ]
    },
    {
     "data": {
      "application/vnd.jupyter.widget-view+json": {
       "model_id": "",
       "version_major": 2,
       "version_minor": 0
      },
      "text/plain": [
       "Evaluating agents:   0%|          | 0/100 [00:00<?, ?it/s]"
      ]
     },
     "metadata": {},
     "output_type": "display_data"
    },
    {
     "name": "stdout",
     "output_type": "stream",
     "text": [
      "\tMetric                      \t\tMean\t\tMedian\n",
      "\t---------------------------------------------------------------\n",
      "\ttrain_model-accuracy_no_oov:\t\t73.781%\t\t76.814%\n",
      "\tval_model-accuracy_no_oov:  \t\t3.962%\t\t3.125%\n",
      "\ttest_model-accuracy_no_oov: \t\t3.429%\t\t3.306%\n",
      "Epoch: 64\n"
     ]
    },
    {
     "data": {
      "application/vnd.jupyter.widget-view+json": {
       "model_id": "",
       "version_major": 2,
       "version_minor": 0
      },
      "text/plain": [
       "Evaluating agents:   0%|          | 0/100 [00:00<?, ?it/s]"
      ]
     },
     "metadata": {},
     "output_type": "display_data"
    },
    {
     "name": "stdout",
     "output_type": "stream",
     "text": [
      "\tMetric                      \t\tMean\t\tMedian\n",
      "\t---------------------------------------------------------------\n",
      "\ttrain_model-accuracy_no_oov:\t\t73.906%\t\t76.814%\n",
      "\tval_model-accuracy_no_oov:  \t\t3.936%\t\t3.125%\n",
      "\ttest_model-accuracy_no_oov: \t\t3.411%\t\t3.239%\n",
      "Epoch: 65\n"
     ]
    },
    {
     "data": {
      "application/vnd.jupyter.widget-view+json": {
       "model_id": "",
       "version_major": 2,
       "version_minor": 0
      },
      "text/plain": [
       "Evaluating agents:   0%|          | 0/100 [00:00<?, ?it/s]"
      ]
     },
     "metadata": {},
     "output_type": "display_data"
    },
    {
     "name": "stdout",
     "output_type": "stream",
     "text": [
      "\tMetric                      \t\tMean\t\tMedian\n",
      "\t---------------------------------------------------------------\n",
      "\ttrain_model-accuracy_no_oov:\t\t73.932%\t\t76.682%\n",
      "\tval_model-accuracy_no_oov:  \t\t3.959%\t\t3.125%\n",
      "\ttest_model-accuracy_no_oov: \t\t3.454%\t\t3.265%\n",
      "Epoch: 66\n"
     ]
    },
    {
     "data": {
      "application/vnd.jupyter.widget-view+json": {
       "model_id": "",
       "version_major": 2,
       "version_minor": 0
      },
      "text/plain": [
       "Evaluating agents:   0%|          | 0/100 [00:00<?, ?it/s]"
      ]
     },
     "metadata": {},
     "output_type": "display_data"
    },
    {
     "name": "stdout",
     "output_type": "stream",
     "text": [
      "\tMetric                      \t\tMean\t\tMedian\n",
      "\t---------------------------------------------------------------\n",
      "\ttrain_model-accuracy_no_oov:\t\t73.961%\t\t76.542%\n",
      "\tval_model-accuracy_no_oov:  \t\t3.961%\t\t3.125%\n",
      "\ttest_model-accuracy_no_oov: \t\t3.424%\t\t3.306%\n",
      "Epoch: 67\n"
     ]
    },
    {
     "data": {
      "application/vnd.jupyter.widget-view+json": {
       "model_id": "",
       "version_major": 2,
       "version_minor": 0
      },
      "text/plain": [
       "Evaluating agents:   0%|          | 0/100 [00:00<?, ?it/s]"
      ]
     },
     "metadata": {},
     "output_type": "display_data"
    },
    {
     "name": "stdout",
     "output_type": "stream",
     "text": [
      "\tMetric                      \t\tMean\t\tMedian\n",
      "\t---------------------------------------------------------------\n",
      "\ttrain_model-accuracy_no_oov:\t\t73.993%\t\t76.542%\n",
      "\tval_model-accuracy_no_oov:  \t\t3.943%\t\t3.019%\n",
      "\ttest_model-accuracy_no_oov: \t\t3.459%\t\t3.306%\n",
      "Epoch: 68\n"
     ]
    },
    {
     "data": {
      "application/vnd.jupyter.widget-view+json": {
       "model_id": "",
       "version_major": 2,
       "version_minor": 0
      },
      "text/plain": [
       "Evaluating agents:   0%|          | 0/100 [00:00<?, ?it/s]"
      ]
     },
     "metadata": {},
     "output_type": "display_data"
    },
    {
     "name": "stdout",
     "output_type": "stream",
     "text": [
      "\tMetric                      \t\tMean\t\tMedian\n",
      "\t---------------------------------------------------------------\n",
      "\ttrain_model-accuracy_no_oov:\t\t74.178%\t\t77.523%\n",
      "\tval_model-accuracy_no_oov:  \t\t3.980%\t\t3.125%\n",
      "\ttest_model-accuracy_no_oov: \t\t3.454%\t\t3.265%\n",
      "Epoch: 69\n"
     ]
    },
    {
     "data": {
      "application/vnd.jupyter.widget-view+json": {
       "model_id": "",
       "version_major": 2,
       "version_minor": 0
      },
      "text/plain": [
       "Evaluating agents:   0%|          | 0/100 [00:00<?, ?it/s]"
      ]
     },
     "metadata": {},
     "output_type": "display_data"
    },
    {
     "name": "stdout",
     "output_type": "stream",
     "text": [
      "\tMetric                      \t\tMean\t\tMedian\n",
      "\t---------------------------------------------------------------\n",
      "\ttrain_model-accuracy_no_oov:\t\t74.388%\t\t77.484%\n",
      "\tval_model-accuracy_no_oov:  \t\t3.963%\t\t3.229%\n",
      "\ttest_model-accuracy_no_oov: \t\t3.531%\t\t3.398%\n",
      "Epoch: 70\n"
     ]
    },
    {
     "data": {
      "application/vnd.jupyter.widget-view+json": {
       "model_id": "",
       "version_major": 2,
       "version_minor": 0
      },
      "text/plain": [
       "Evaluating agents:   0%|          | 0/100 [00:00<?, ?it/s]"
      ]
     },
     "metadata": {},
     "output_type": "display_data"
    },
    {
     "name": "stdout",
     "output_type": "stream",
     "text": [
      "\tMetric                      \t\tMean\t\tMedian\n",
      "\t---------------------------------------------------------------\n",
      "\ttrain_model-accuracy_no_oov:\t\t74.486%\t\t77.484%\n",
      "\tval_model-accuracy_no_oov:  \t\t3.957%\t\t3.125%\n",
      "\ttest_model-accuracy_no_oov: \t\t3.459%\t\t3.374%\n",
      "Epoch: 71\n"
     ]
    },
    {
     "data": {
      "application/vnd.jupyter.widget-view+json": {
       "model_id": "",
       "version_major": 2,
       "version_minor": 0
      },
      "text/plain": [
       "Evaluating agents:   0%|          | 0/100 [00:00<?, ?it/s]"
      ]
     },
     "metadata": {},
     "output_type": "display_data"
    },
    {
     "name": "stdout",
     "output_type": "stream",
     "text": [
      "\tMetric                      \t\tMean\t\tMedian\n",
      "\t---------------------------------------------------------------\n",
      "\ttrain_model-accuracy_no_oov:\t\t74.456%\t\t77.029%\n",
      "\tval_model-accuracy_no_oov:  \t\t3.953%\t\t3.125%\n",
      "\ttest_model-accuracy_no_oov: \t\t3.420%\t\t3.315%\n",
      "Epoch: 72\n"
     ]
    },
    {
     "data": {
      "application/vnd.jupyter.widget-view+json": {
       "model_id": "",
       "version_major": 2,
       "version_minor": 0
      },
      "text/plain": [
       "Evaluating agents:   0%|          | 0/100 [00:00<?, ?it/s]"
      ]
     },
     "metadata": {},
     "output_type": "display_data"
    },
    {
     "name": "stdout",
     "output_type": "stream",
     "text": [
      "\tMetric                      \t\tMean\t\tMedian\n",
      "\t---------------------------------------------------------------\n",
      "\ttrain_model-accuracy_no_oov:\t\t74.411%\t\t77.057%\n",
      "\tval_model-accuracy_no_oov:  \t\t3.963%\t\t3.125%\n",
      "\ttest_model-accuracy_no_oov: \t\t3.440%\t\t3.374%\n",
      "Epoch: 73\n"
     ]
    },
    {
     "data": {
      "application/vnd.jupyter.widget-view+json": {
       "model_id": "",
       "version_major": 2,
       "version_minor": 0
      },
      "text/plain": [
       "Evaluating agents:   0%|          | 0/100 [00:00<?, ?it/s]"
      ]
     },
     "metadata": {},
     "output_type": "display_data"
    },
    {
     "name": "stdout",
     "output_type": "stream",
     "text": [
      "\tMetric                      \t\tMean\t\tMedian\n",
      "\t---------------------------------------------------------------\n",
      "\ttrain_model-accuracy_no_oov:\t\t74.551%\t\t77.057%\n",
      "\tval_model-accuracy_no_oov:  \t\t3.941%\t\t3.125%\n",
      "\ttest_model-accuracy_no_oov: \t\t3.506%\t\t3.353%\n",
      "Epoch: 74\n"
     ]
    },
    {
     "data": {
      "application/vnd.jupyter.widget-view+json": {
       "model_id": "",
       "version_major": 2,
       "version_minor": 0
      },
      "text/plain": [
       "Evaluating agents:   0%|          | 0/100 [00:00<?, ?it/s]"
      ]
     },
     "metadata": {},
     "output_type": "display_data"
    },
    {
     "name": "stdout",
     "output_type": "stream",
     "text": [
      "\tMetric                      \t\tMean\t\tMedian\n",
      "\t---------------------------------------------------------------\n",
      "\ttrain_model-accuracy_no_oov:\t\t74.637%\t\t76.926%\n",
      "\tval_model-accuracy_no_oov:  \t\t3.956%\t\t3.125%\n",
      "\ttest_model-accuracy_no_oov: \t\t3.503%\t\t3.340%\n",
      "Epoch: 75\n"
     ]
    },
    {
     "data": {
      "application/vnd.jupyter.widget-view+json": {
       "model_id": "",
       "version_major": 2,
       "version_minor": 0
      },
      "text/plain": [
       "Evaluating agents:   0%|          | 0/100 [00:00<?, ?it/s]"
      ]
     },
     "metadata": {},
     "output_type": "display_data"
    },
    {
     "name": "stdout",
     "output_type": "stream",
     "text": [
      "\tMetric                      \t\tMean\t\tMedian\n",
      "\t---------------------------------------------------------------\n",
      "\ttrain_model-accuracy_no_oov:\t\t74.756%\t\t77.029%\n",
      "\tval_model-accuracy_no_oov:  \t\t3.945%\t\t3.125%\n",
      "\ttest_model-accuracy_no_oov: \t\t3.491%\t\t3.369%\n",
      "Epoch: 76\n"
     ]
    },
    {
     "data": {
      "application/vnd.jupyter.widget-view+json": {
       "model_id": "",
       "version_major": 2,
       "version_minor": 0
      },
      "text/plain": [
       "Evaluating agents:   0%|          | 0/100 [00:00<?, ?it/s]"
      ]
     },
     "metadata": {},
     "output_type": "display_data"
    },
    {
     "name": "stdout",
     "output_type": "stream",
     "text": [
      "\tMetric                      \t\tMean\t\tMedian\n",
      "\t---------------------------------------------------------------\n",
      "\ttrain_model-accuracy_no_oov:\t\t74.879%\t\t77.273%\n",
      "\tval_model-accuracy_no_oov:  \t\t3.929%\t\t2.983%\n",
      "\ttest_model-accuracy_no_oov: \t\t3.476%\t\t3.369%\n",
      "Epoch: 77\n"
     ]
    },
    {
     "data": {
      "application/vnd.jupyter.widget-view+json": {
       "model_id": "",
       "version_major": 2,
       "version_minor": 0
      },
      "text/plain": [
       "Evaluating agents:   0%|          | 0/100 [00:00<?, ?it/s]"
      ]
     },
     "metadata": {},
     "output_type": "display_data"
    },
    {
     "name": "stdout",
     "output_type": "stream",
     "text": [
      "\tMetric                      \t\tMean\t\tMedian\n",
      "\t---------------------------------------------------------------\n",
      "\ttrain_model-accuracy_no_oov:\t\t74.878%\t\t77.273%\n",
      "\tval_model-accuracy_no_oov:  \t\t3.942%\t\t3.125%\n",
      "\ttest_model-accuracy_no_oov: \t\t3.477%\t\t3.353%\n",
      "Epoch: 78\n"
     ]
    },
    {
     "data": {
      "application/vnd.jupyter.widget-view+json": {
       "model_id": "",
       "version_major": 2,
       "version_minor": 0
      },
      "text/plain": [
       "Evaluating agents:   0%|          | 0/100 [00:00<?, ?it/s]"
      ]
     },
     "metadata": {},
     "output_type": "display_data"
    },
    {
     "name": "stdout",
     "output_type": "stream",
     "text": [
      "\tMetric                      \t\tMean\t\tMedian\n",
      "\t---------------------------------------------------------------\n",
      "\ttrain_model-accuracy_no_oov:\t\t74.977%\t\t77.273%\n",
      "\tval_model-accuracy_no_oov:  \t\t3.930%\t\t3.125%\n",
      "\ttest_model-accuracy_no_oov: \t\t3.522%\t\t3.460%\n",
      "Epoch: 79\n"
     ]
    },
    {
     "data": {
      "application/vnd.jupyter.widget-view+json": {
       "model_id": "",
       "version_major": 2,
       "version_minor": 0
      },
      "text/plain": [
       "Evaluating agents:   0%|          | 0/100 [00:00<?, ?it/s]"
      ]
     },
     "metadata": {},
     "output_type": "display_data"
    },
    {
     "name": "stdout",
     "output_type": "stream",
     "text": [
      "\tMetric                      \t\tMean\t\tMedian\n",
      "\t---------------------------------------------------------------\n",
      "\ttrain_model-accuracy_no_oov:\t\t75.032%\t\t77.273%\n",
      "\tval_model-accuracy_no_oov:  \t\t3.949%\t\t3.125%\n",
      "\ttest_model-accuracy_no_oov: \t\t3.438%\t\t3.306%\n",
      "Epoch: 80\n"
     ]
    },
    {
     "data": {
      "application/vnd.jupyter.widget-view+json": {
       "model_id": "",
       "version_major": 2,
       "version_minor": 0
      },
      "text/plain": [
       "Evaluating agents:   0%|          | 0/100 [00:00<?, ?it/s]"
      ]
     },
     "metadata": {},
     "output_type": "display_data"
    },
    {
     "name": "stdout",
     "output_type": "stream",
     "text": [
      "\tMetric                      \t\tMean\t\tMedian\n",
      "\t---------------------------------------------------------------\n",
      "\ttrain_model-accuracy_no_oov:\t\t75.002%\t\t77.273%\n",
      "\tval_model-accuracy_no_oov:  \t\t3.957%\t\t3.125%\n",
      "\ttest_model-accuracy_no_oov: \t\t3.420%\t\t3.265%\n",
      "Epoch: 81\n"
     ]
    },
    {
     "data": {
      "application/vnd.jupyter.widget-view+json": {
       "model_id": "",
       "version_major": 2,
       "version_minor": 0
      },
      "text/plain": [
       "Evaluating agents:   0%|          | 0/100 [00:00<?, ?it/s]"
      ]
     },
     "metadata": {},
     "output_type": "display_data"
    },
    {
     "name": "stdout",
     "output_type": "stream",
     "text": [
      "\tMetric                      \t\tMean\t\tMedian\n",
      "\t---------------------------------------------------------------\n",
      "\ttrain_model-accuracy_no_oov:\t\t75.044%\t\t77.273%\n",
      "\tval_model-accuracy_no_oov:  \t\t3.933%\t\t3.125%\n",
      "\ttest_model-accuracy_no_oov: \t\t3.393%\t\t3.239%\n",
      "Epoch: 82\n"
     ]
    },
    {
     "data": {
      "application/vnd.jupyter.widget-view+json": {
       "model_id": "",
       "version_major": 2,
       "version_minor": 0
      },
      "text/plain": [
       "Evaluating agents:   0%|          | 0/100 [00:00<?, ?it/s]"
      ]
     },
     "metadata": {},
     "output_type": "display_data"
    },
    {
     "name": "stdout",
     "output_type": "stream",
     "text": [
      "\tMetric                      \t\tMean\t\tMedian\n",
      "\t---------------------------------------------------------------\n",
      "\ttrain_model-accuracy_no_oov:\t\t74.985%\t\t77.273%\n",
      "\tval_model-accuracy_no_oov:  \t\t3.951%\t\t3.125%\n",
      "\ttest_model-accuracy_no_oov: \t\t3.439%\t\t3.265%\n",
      "Epoch: 83\n"
     ]
    },
    {
     "data": {
      "application/vnd.jupyter.widget-view+json": {
       "model_id": "",
       "version_major": 2,
       "version_minor": 0
      },
      "text/plain": [
       "Evaluating agents:   0%|          | 0/100 [00:00<?, ?it/s]"
      ]
     },
     "metadata": {},
     "output_type": "display_data"
    },
    {
     "name": "stdout",
     "output_type": "stream",
     "text": [
      "\tMetric                      \t\tMean\t\tMedian\n",
      "\t---------------------------------------------------------------\n",
      "\ttrain_model-accuracy_no_oov:\t\t74.927%\t\t77.029%\n",
      "\tval_model-accuracy_no_oov:  \t\t3.950%\t\t3.125%\n",
      "\ttest_model-accuracy_no_oov: \t\t3.473%\t\t3.306%\n",
      "Epoch: 84\n"
     ]
    },
    {
     "data": {
      "application/vnd.jupyter.widget-view+json": {
       "model_id": "",
       "version_major": 2,
       "version_minor": 0
      },
      "text/plain": [
       "Evaluating agents:   0%|          | 0/100 [00:00<?, ?it/s]"
      ]
     },
     "metadata": {},
     "output_type": "display_data"
    },
    {
     "name": "stdout",
     "output_type": "stream",
     "text": [
      "\tMetric                      \t\tMean\t\tMedian\n",
      "\t---------------------------------------------------------------\n",
      "\ttrain_model-accuracy_no_oov:\t\t74.964%\t\t77.727%\n",
      "\tval_model-accuracy_no_oov:  \t\t3.948%\t\t3.125%\n",
      "\ttest_model-accuracy_no_oov: \t\t3.461%\t\t3.362%\n",
      "Epoch: 85\n"
     ]
    },
    {
     "data": {
      "application/vnd.jupyter.widget-view+json": {
       "model_id": "",
       "version_major": 2,
       "version_minor": 0
      },
      "text/plain": [
       "Evaluating agents:   0%|          | 0/100 [00:00<?, ?it/s]"
      ]
     },
     "metadata": {},
     "output_type": "display_data"
    },
    {
     "name": "stdout",
     "output_type": "stream",
     "text": [
      "\tMetric                      \t\tMean\t\tMedian\n",
      "\t---------------------------------------------------------------\n",
      "\ttrain_model-accuracy_no_oov:\t\t74.904%\t\t77.273%\n",
      "\tval_model-accuracy_no_oov:  \t\t3.944%\t\t3.125%\n",
      "\ttest_model-accuracy_no_oov: \t\t3.467%\t\t3.306%\n",
      "Epoch: 86\n"
     ]
    },
    {
     "data": {
      "application/vnd.jupyter.widget-view+json": {
       "model_id": "",
       "version_major": 2,
       "version_minor": 0
      },
      "text/plain": [
       "Evaluating agents:   0%|          | 0/100 [00:00<?, ?it/s]"
      ]
     },
     "metadata": {},
     "output_type": "display_data"
    },
    {
     "name": "stdout",
     "output_type": "stream",
     "text": [
      "\tMetric                      \t\tMean\t\tMedian\n",
      "\t---------------------------------------------------------------\n",
      "\ttrain_model-accuracy_no_oov:\t\t74.952%\t\t77.273%\n",
      "\tval_model-accuracy_no_oov:  \t\t3.940%\t\t3.116%\n",
      "\ttest_model-accuracy_no_oov: \t\t3.443%\t\t3.306%\n",
      "Epoch: 87\n"
     ]
    },
    {
     "data": {
      "application/vnd.jupyter.widget-view+json": {
       "model_id": "",
       "version_major": 2,
       "version_minor": 0
      },
      "text/plain": [
       "Evaluating agents:   0%|          | 0/100 [00:00<?, ?it/s]"
      ]
     },
     "metadata": {},
     "output_type": "display_data"
    },
    {
     "name": "stdout",
     "output_type": "stream",
     "text": [
      "\tMetric                      \t\tMean\t\tMedian\n",
      "\t---------------------------------------------------------------\n",
      "\ttrain_model-accuracy_no_oov:\t\t74.921%\t\t77.727%\n",
      "\tval_model-accuracy_no_oov:  \t\t3.931%\t\t3.125%\n",
      "\ttest_model-accuracy_no_oov: \t\t3.483%\t\t3.346%\n",
      "Epoch: 88\n"
     ]
    },
    {
     "data": {
      "application/vnd.jupyter.widget-view+json": {
       "model_id": "",
       "version_major": 2,
       "version_minor": 0
      },
      "text/plain": [
       "Evaluating agents:   0%|          | 0/100 [00:00<?, ?it/s]"
      ]
     },
     "metadata": {},
     "output_type": "display_data"
    },
    {
     "name": "stdout",
     "output_type": "stream",
     "text": [
      "\tMetric                      \t\tMean\t\tMedian\n",
      "\t---------------------------------------------------------------\n",
      "\ttrain_model-accuracy_no_oov:\t\t74.957%\t\t77.767%\n",
      "\tval_model-accuracy_no_oov:  \t\t3.950%\t\t3.125%\n",
      "\ttest_model-accuracy_no_oov: \t\t3.420%\t\t3.265%\n",
      "Epoch: 89\n"
     ]
    },
    {
     "data": {
      "application/vnd.jupyter.widget-view+json": {
       "model_id": "",
       "version_major": 2,
       "version_minor": 0
      },
      "text/plain": [
       "Evaluating agents:   0%|          | 0/100 [00:00<?, ?it/s]"
      ]
     },
     "metadata": {},
     "output_type": "display_data"
    },
    {
     "name": "stdout",
     "output_type": "stream",
     "text": [
      "\tMetric                      \t\tMean\t\tMedian\n",
      "\t---------------------------------------------------------------\n",
      "\ttrain_model-accuracy_no_oov:\t\t74.880%\t\t77.420%\n",
      "\tval_model-accuracy_no_oov:  \t\t3.962%\t\t3.125%\n",
      "\ttest_model-accuracy_no_oov: \t\t3.421%\t\t3.239%\n",
      "Epoch: 90\n"
     ]
    },
    {
     "data": {
      "application/vnd.jupyter.widget-view+json": {
       "model_id": "",
       "version_major": 2,
       "version_minor": 0
      },
      "text/plain": [
       "Evaluating agents:   0%|          | 0/100 [00:00<?, ?it/s]"
      ]
     },
     "metadata": {},
     "output_type": "display_data"
    },
    {
     "name": "stdout",
     "output_type": "stream",
     "text": [
      "\tMetric                      \t\tMean\t\tMedian\n",
      "\t---------------------------------------------------------------\n",
      "\ttrain_model-accuracy_no_oov:\t\t74.945%\t\t77.057%\n",
      "\tval_model-accuracy_no_oov:  \t\t3.971%\t\t3.125%\n",
      "\ttest_model-accuracy_no_oov: \t\t3.418%\t\t3.306%\n",
      "Epoch: 91\n"
     ]
    },
    {
     "data": {
      "application/vnd.jupyter.widget-view+json": {
       "model_id": "",
       "version_major": 2,
       "version_minor": 0
      },
      "text/plain": [
       "Evaluating agents:   0%|          | 0/100 [00:00<?, ?it/s]"
      ]
     },
     "metadata": {},
     "output_type": "display_data"
    },
    {
     "name": "stdout",
     "output_type": "stream",
     "text": [
      "\tMetric                      \t\tMean\t\tMedian\n",
      "\t---------------------------------------------------------------\n",
      "\ttrain_model-accuracy_no_oov:\t\t74.870%\t\t77.057%\n",
      "\tval_model-accuracy_no_oov:  \t\t3.941%\t\t3.145%\n",
      "\ttest_model-accuracy_no_oov: \t\t3.432%\t\t3.362%\n",
      "Epoch: 92\n"
     ]
    },
    {
     "data": {
      "application/vnd.jupyter.widget-view+json": {
       "model_id": "",
       "version_major": 2,
       "version_minor": 0
      },
      "text/plain": [
       "Evaluating agents:   0%|          | 0/100 [00:00<?, ?it/s]"
      ]
     },
     "metadata": {},
     "output_type": "display_data"
    },
    {
     "name": "stdout",
     "output_type": "stream",
     "text": [
      "\tMetric                      \t\tMean\t\tMedian\n",
      "\t---------------------------------------------------------------\n",
      "\ttrain_model-accuracy_no_oov:\t\t74.831%\t\t77.273%\n",
      "\tval_model-accuracy_no_oov:  \t\t3.951%\t\t3.125%\n",
      "\ttest_model-accuracy_no_oov: \t\t3.444%\t\t3.346%\n",
      "Epoch: 93\n"
     ]
    },
    {
     "data": {
      "application/vnd.jupyter.widget-view+json": {
       "model_id": "",
       "version_major": 2,
       "version_minor": 0
      },
      "text/plain": [
       "Evaluating agents:   0%|          | 0/100 [00:00<?, ?it/s]"
      ]
     },
     "metadata": {},
     "output_type": "display_data"
    },
    {
     "name": "stdout",
     "output_type": "stream",
     "text": [
      "\tMetric                      \t\tMean\t\tMedian\n",
      "\t---------------------------------------------------------------\n",
      "\ttrain_model-accuracy_no_oov:\t\t74.863%\t\t77.057%\n",
      "\tval_model-accuracy_no_oov:  \t\t3.958%\t\t3.145%\n",
      "\ttest_model-accuracy_no_oov: \t\t3.421%\t\t3.265%\n",
      "Epoch: 94\n"
     ]
    },
    {
     "data": {
      "application/vnd.jupyter.widget-view+json": {
       "model_id": "",
       "version_major": 2,
       "version_minor": 0
      },
      "text/plain": [
       "Evaluating agents:   0%|          | 0/100 [00:00<?, ?it/s]"
      ]
     },
     "metadata": {},
     "output_type": "display_data"
    },
    {
     "name": "stdout",
     "output_type": "stream",
     "text": [
      "\tMetric                      \t\tMean\t\tMedian\n",
      "\t---------------------------------------------------------------\n",
      "\ttrain_model-accuracy_no_oov:\t\t74.725%\t\t77.327%\n",
      "\tval_model-accuracy_no_oov:  \t\t3.961%\t\t3.290%\n",
      "\ttest_model-accuracy_no_oov: \t\t3.464%\t\t3.306%\n",
      "Epoch: 95\n"
     ]
    },
    {
     "data": {
      "application/vnd.jupyter.widget-view+json": {
       "model_id": "",
       "version_major": 2,
       "version_minor": 0
      },
      "text/plain": [
       "Evaluating agents:   0%|          | 0/100 [00:00<?, ?it/s]"
      ]
     },
     "metadata": {},
     "output_type": "display_data"
    },
    {
     "name": "stdout",
     "output_type": "stream",
     "text": [
      "\tMetric                      \t\tMean\t\tMedian\n",
      "\t---------------------------------------------------------------\n",
      "\ttrain_model-accuracy_no_oov:\t\t74.686%\t\t77.057%\n",
      "\tval_model-accuracy_no_oov:  \t\t3.960%\t\t3.229%\n",
      "\ttest_model-accuracy_no_oov: \t\t3.456%\t\t3.362%\n",
      "Epoch: 96\n"
     ]
    },
    {
     "data": {
      "application/vnd.jupyter.widget-view+json": {
       "model_id": "",
       "version_major": 2,
       "version_minor": 0
      },
      "text/plain": [
       "Evaluating agents:   0%|          | 0/100 [00:00<?, ?it/s]"
      ]
     },
     "metadata": {},
     "output_type": "display_data"
    },
    {
     "name": "stdout",
     "output_type": "stream",
     "text": [
      "\tMetric                      \t\tMean\t\tMedian\n",
      "\t---------------------------------------------------------------\n",
      "\ttrain_model-accuracy_no_oov:\t\t74.668%\t\t77.057%\n",
      "\tval_model-accuracy_no_oov:  \t\t3.941%\t\t3.145%\n",
      "\ttest_model-accuracy_no_oov: \t\t3.450%\t\t3.345%\n",
      "Epoch: 97\n"
     ]
    },
    {
     "data": {
      "application/vnd.jupyter.widget-view+json": {
       "model_id": "",
       "version_major": 2,
       "version_minor": 0
      },
      "text/plain": [
       "Evaluating agents:   0%|          | 0/100 [00:00<?, ?it/s]"
      ]
     },
     "metadata": {},
     "output_type": "display_data"
    },
    {
     "name": "stdout",
     "output_type": "stream",
     "text": [
      "\tMetric                      \t\tMean\t\tMedian\n",
      "\t---------------------------------------------------------------\n",
      "\ttrain_model-accuracy_no_oov:\t\t74.664%\t\t77.029%\n",
      "\tval_model-accuracy_no_oov:  \t\t3.950%\t\t3.145%\n",
      "\ttest_model-accuracy_no_oov: \t\t3.467%\t\t3.306%\n",
      "Epoch: 98\n"
     ]
    },
    {
     "data": {
      "application/vnd.jupyter.widget-view+json": {
       "model_id": "",
       "version_major": 2,
       "version_minor": 0
      },
      "text/plain": [
       "Evaluating agents:   0%|          | 0/100 [00:00<?, ?it/s]"
      ]
     },
     "metadata": {},
     "output_type": "display_data"
    },
    {
     "name": "stdout",
     "output_type": "stream",
     "text": [
      "\tMetric                      \t\tMean\t\tMedian\n",
      "\t---------------------------------------------------------------\n",
      "\ttrain_model-accuracy_no_oov:\t\t74.761%\t\t77.273%\n",
      "\tval_model-accuracy_no_oov:  \t\t3.975%\t\t3.186%\n",
      "\ttest_model-accuracy_no_oov: \t\t3.459%\t\t3.306%\n",
      "Epoch: 99\n"
     ]
    },
    {
     "data": {
      "application/vnd.jupyter.widget-view+json": {
       "model_id": "",
       "version_major": 2,
       "version_minor": 0
      },
      "text/plain": [
       "Evaluating agents:   0%|          | 0/100 [00:00<?, ?it/s]"
      ]
     },
     "metadata": {},
     "output_type": "display_data"
    },
    {
     "name": "stdout",
     "output_type": "stream",
     "text": [
      "\tMetric                      \t\tMean\t\tMedian\n",
      "\t---------------------------------------------------------------\n",
      "\ttrain_model-accuracy_no_oov:\t\t74.700%\t\t77.727%\n",
      "\tval_model-accuracy_no_oov:  \t\t3.946%\t\t3.125%\n",
      "\ttest_model-accuracy_no_oov: \t\t3.468%\t\t3.306%\n",
      "Saved to log/P2PAgent_100A_100E_50B_4V_22-02-2022_00_01.json\n"
     ]
    }
   ],
   "source": [
    "train_agents_independent(100, 100)"
   ]
  },
  {
   "cell_type": "code",
   "execution_count": 5,
   "id": "6b3af5d5",
   "metadata": {
    "collapsed": true
   },
   "outputs": [
    {
     "name": "stdout",
     "output_type": "stream",
     "text": [
      "Seed: 123\n",
      "Epoch: 0\n"
     ]
    },
    {
     "data": {
      "application/vnd.jupyter.widget-view+json": {
       "model_id": "",
       "version_major": 2,
       "version_minor": 0
      },
      "text/plain": [
       "Evaluating agents:   0%|          | 0/100 [00:00<?, ?it/s]"
      ]
     },
     "metadata": {},
     "output_type": "display_data"
    },
    {
     "name": "stdout",
     "output_type": "stream",
     "text": [
      "\tMetric                      \t\tMean\t\tMedian\n",
      "\t---------------------------------------------------------------\n",
      "\ttrain_model-accuracy_no_oov:\t\t32.313%\t\t24.468%\n",
      "\tval_model-accuracy_no_oov:  \t\t3.225%\t\t2.039%\n",
      "\ttest_model-accuracy_no_oov: \t\t3.180%\t\t2.174%\n",
      "Epoch: 1\n"
     ]
    },
    {
     "data": {
      "application/vnd.jupyter.widget-view+json": {
       "model_id": "",
       "version_major": 2,
       "version_minor": 0
      },
      "text/plain": [
       "Evaluating agents:   0%|          | 0/100 [00:00<?, ?it/s]"
      ]
     },
     "metadata": {},
     "output_type": "display_data"
    },
    {
     "name": "stdout",
     "output_type": "stream",
     "text": [
      "\tMetric                      \t\tMean\t\tMedian\n",
      "\t---------------------------------------------------------------\n",
      "\ttrain_model-accuracy_no_oov:\t\t44.302%\t\t40.926%\n",
      "\tval_model-accuracy_no_oov:  \t\t3.837%\t\t2.963%\n",
      "\ttest_model-accuracy_no_oov: \t\t3.969%\t\t2.753%\n",
      "Epoch: 2\n"
     ]
    },
    {
     "data": {
      "application/vnd.jupyter.widget-view+json": {
       "model_id": "",
       "version_major": 2,
       "version_minor": 0
      },
      "text/plain": [
       "Evaluating agents:   0%|          | 0/100 [00:00<?, ?it/s]"
      ]
     },
     "metadata": {},
     "output_type": "display_data"
    },
    {
     "name": "stdout",
     "output_type": "stream",
     "text": [
      "\tMetric                      \t\tMean\t\tMedian\n",
      "\t---------------------------------------------------------------\n",
      "\ttrain_model-accuracy_no_oov:\t\t50.031%\t\t47.349%\n",
      "\tval_model-accuracy_no_oov:  \t\t3.950%\t\t2.502%\n",
      "\ttest_model-accuracy_no_oov: \t\t4.291%\t\t3.514%\n",
      "Epoch: 3\n"
     ]
    },
    {
     "data": {
      "application/vnd.jupyter.widget-view+json": {
       "model_id": "",
       "version_major": 2,
       "version_minor": 0
      },
      "text/plain": [
       "Evaluating agents:   0%|          | 0/100 [00:00<?, ?it/s]"
      ]
     },
     "metadata": {},
     "output_type": "display_data"
    },
    {
     "name": "stdout",
     "output_type": "stream",
     "text": [
      "\tMetric                      \t\tMean\t\tMedian\n",
      "\t---------------------------------------------------------------\n",
      "\ttrain_model-accuracy_no_oov:\t\t54.161%\t\t51.670%\n",
      "\tval_model-accuracy_no_oov:  \t\t4.190%\t\t3.105%\n",
      "\ttest_model-accuracy_no_oov: \t\t4.243%\t\t3.429%\n",
      "Epoch: 4\n"
     ]
    },
    {
     "data": {
      "application/vnd.jupyter.widget-view+json": {
       "model_id": "",
       "version_major": 2,
       "version_minor": 0
      },
      "text/plain": [
       "Evaluating agents:   0%|          | 0/100 [00:00<?, ?it/s]"
      ]
     },
     "metadata": {},
     "output_type": "display_data"
    },
    {
     "name": "stdout",
     "output_type": "stream",
     "text": [
      "\tMetric                      \t\tMean\t\tMedian\n",
      "\t---------------------------------------------------------------\n",
      "\ttrain_model-accuracy_no_oov:\t\t57.624%\t\t55.796%\n",
      "\tval_model-accuracy_no_oov:  \t\t4.338%\t\t3.459%\n",
      "\ttest_model-accuracy_no_oov: \t\t4.275%\t\t3.562%\n",
      "Epoch: 5\n"
     ]
    },
    {
     "data": {
      "application/vnd.jupyter.widget-view+json": {
       "model_id": "",
       "version_major": 2,
       "version_minor": 0
      },
      "text/plain": [
       "Evaluating agents:   0%|          | 0/100 [00:00<?, ?it/s]"
      ]
     },
     "metadata": {},
     "output_type": "display_data"
    },
    {
     "name": "stdout",
     "output_type": "stream",
     "text": [
      "\tMetric                      \t\tMean\t\tMedian\n",
      "\t---------------------------------------------------------------\n",
      "\ttrain_model-accuracy_no_oov:\t\t60.398%\t\t58.315%\n",
      "\tval_model-accuracy_no_oov:  \t\t4.146%\t\t3.015%\n",
      "\ttest_model-accuracy_no_oov: \t\t4.250%\t\t3.494%\n",
      "Epoch: 6\n"
     ]
    },
    {
     "data": {
      "application/vnd.jupyter.widget-view+json": {
       "model_id": "",
       "version_major": 2,
       "version_minor": 0
      },
      "text/plain": [
       "Evaluating agents:   0%|          | 0/100 [00:00<?, ?it/s]"
      ]
     },
     "metadata": {},
     "output_type": "display_data"
    },
    {
     "name": "stdout",
     "output_type": "stream",
     "text": [
      "\tMetric                      \t\tMean\t\tMedian\n",
      "\t---------------------------------------------------------------\n",
      "\ttrain_model-accuracy_no_oov:\t\t62.217%\t\t60.729%\n",
      "\tval_model-accuracy_no_oov:  \t\t4.032%\t\t2.941%\n",
      "\ttest_model-accuracy_no_oov: \t\t4.300%\t\t3.547%\n",
      "Epoch: 7\n"
     ]
    },
    {
     "data": {
      "application/vnd.jupyter.widget-view+json": {
       "model_id": "",
       "version_major": 2,
       "version_minor": 0
      },
      "text/plain": [
       "Evaluating agents:   0%|          | 0/100 [00:00<?, ?it/s]"
      ]
     },
     "metadata": {},
     "output_type": "display_data"
    },
    {
     "name": "stdout",
     "output_type": "stream",
     "text": [
      "\tMetric                      \t\tMean\t\tMedian\n",
      "\t---------------------------------------------------------------\n",
      "\ttrain_model-accuracy_no_oov:\t\t63.541%\t\t62.327%\n",
      "\tval_model-accuracy_no_oov:  \t\t4.107%\t\t3.128%\n",
      "\ttest_model-accuracy_no_oov: \t\t4.291%\t\t3.494%\n",
      "Epoch: 8\n"
     ]
    },
    {
     "data": {
      "application/vnd.jupyter.widget-view+json": {
       "model_id": "",
       "version_major": 2,
       "version_minor": 0
      },
      "text/plain": [
       "Evaluating agents:   0%|          | 0/100 [00:00<?, ?it/s]"
      ]
     },
     "metadata": {},
     "output_type": "display_data"
    },
    {
     "name": "stdout",
     "output_type": "stream",
     "text": [
      "\tMetric                      \t\tMean\t\tMedian\n",
      "\t---------------------------------------------------------------\n",
      "\ttrain_model-accuracy_no_oov:\t\t65.063%\t\t65.646%\n",
      "\tval_model-accuracy_no_oov:  \t\t4.042%\t\t3.115%\n",
      "\ttest_model-accuracy_no_oov: \t\t4.281%\t\t3.429%\n",
      "Epoch: 9\n"
     ]
    },
    {
     "data": {
      "application/vnd.jupyter.widget-view+json": {
       "model_id": "",
       "version_major": 2,
       "version_minor": 0
      },
      "text/plain": [
       "Evaluating agents:   0%|          | 0/100 [00:00<?, ?it/s]"
      ]
     },
     "metadata": {},
     "output_type": "display_data"
    },
    {
     "name": "stdout",
     "output_type": "stream",
     "text": [
      "\tMetric                      \t\tMean\t\tMedian\n",
      "\t---------------------------------------------------------------\n",
      "\ttrain_model-accuracy_no_oov:\t\t66.358%\t\t67.348%\n",
      "\tval_model-accuracy_no_oov:  \t\t4.039%\t\t3.113%\n",
      "\ttest_model-accuracy_no_oov: \t\t4.293%\t\t3.429%\n",
      "Epoch: 10\n"
     ]
    },
    {
     "data": {
      "application/vnd.jupyter.widget-view+json": {
       "model_id": "",
       "version_major": 2,
       "version_minor": 0
      },
      "text/plain": [
       "Evaluating agents:   0%|          | 0/100 [00:00<?, ?it/s]"
      ]
     },
     "metadata": {},
     "output_type": "display_data"
    },
    {
     "name": "stdout",
     "output_type": "stream",
     "text": [
      "\tMetric                      \t\tMean\t\tMedian\n",
      "\t---------------------------------------------------------------\n",
      "\ttrain_model-accuracy_no_oov:\t\t67.464%\t\t68.587%\n",
      "\tval_model-accuracy_no_oov:  \t\t4.029%\t\t3.233%\n",
      "\ttest_model-accuracy_no_oov: \t\t4.262%\t\t3.439%\n",
      "Epoch: 11\n"
     ]
    },
    {
     "data": {
      "application/vnd.jupyter.widget-view+json": {
       "model_id": "",
       "version_major": 2,
       "version_minor": 0
      },
      "text/plain": [
       "Evaluating agents:   0%|          | 0/100 [00:00<?, ?it/s]"
      ]
     },
     "metadata": {},
     "output_type": "display_data"
    },
    {
     "name": "stdout",
     "output_type": "stream",
     "text": [
      "\tMetric                      \t\tMean\t\tMedian\n",
      "\t---------------------------------------------------------------\n",
      "\ttrain_model-accuracy_no_oov:\t\t68.397%\t\t70.049%\n",
      "\tval_model-accuracy_no_oov:  \t\t4.030%\t\t3.254%\n",
      "\ttest_model-accuracy_no_oov: \t\t4.379%\t\t3.627%\n",
      "Epoch: 12\n"
     ]
    },
    {
     "data": {
      "application/vnd.jupyter.widget-view+json": {
       "model_id": "",
       "version_major": 2,
       "version_minor": 0
      },
      "text/plain": [
       "Evaluating agents:   0%|          | 0/100 [00:00<?, ?it/s]"
      ]
     },
     "metadata": {},
     "output_type": "display_data"
    },
    {
     "name": "stdout",
     "output_type": "stream",
     "text": [
      "\tMetric                      \t\tMean\t\tMedian\n",
      "\t---------------------------------------------------------------\n",
      "\ttrain_model-accuracy_no_oov:\t\t69.134%\t\t71.480%\n",
      "\tval_model-accuracy_no_oov:  \t\t4.024%\t\t3.254%\n",
      "\ttest_model-accuracy_no_oov: \t\t4.336%\t\t3.591%\n",
      "Epoch: 13\n"
     ]
    },
    {
     "data": {
      "application/vnd.jupyter.widget-view+json": {
       "model_id": "",
       "version_major": 2,
       "version_minor": 0
      },
      "text/plain": [
       "Evaluating agents:   0%|          | 0/100 [00:00<?, ?it/s]"
      ]
     },
     "metadata": {},
     "output_type": "display_data"
    },
    {
     "name": "stdout",
     "output_type": "stream",
     "text": [
      "\tMetric                      \t\tMean\t\tMedian\n",
      "\t---------------------------------------------------------------\n",
      "\ttrain_model-accuracy_no_oov:\t\t69.646%\t\t71.480%\n",
      "\tval_model-accuracy_no_oov:  \t\t4.022%\t\t3.113%\n",
      "\ttest_model-accuracy_no_oov: \t\t4.373%\t\t3.704%\n",
      "Epoch: 14\n"
     ]
    },
    {
     "data": {
      "application/vnd.jupyter.widget-view+json": {
       "model_id": "",
       "version_major": 2,
       "version_minor": 0
      },
      "text/plain": [
       "Evaluating agents:   0%|          | 0/100 [00:00<?, ?it/s]"
      ]
     },
     "metadata": {},
     "output_type": "display_data"
    },
    {
     "name": "stdout",
     "output_type": "stream",
     "text": [
      "\tMetric                      \t\tMean\t\tMedian\n",
      "\t---------------------------------------------------------------\n",
      "\ttrain_model-accuracy_no_oov:\t\t69.990%\t\t72.278%\n",
      "\tval_model-accuracy_no_oov:  \t\t4.052%\t\t3.113%\n",
      "\ttest_model-accuracy_no_oov: \t\t4.397%\t\t3.627%\n",
      "Epoch: 15\n"
     ]
    },
    {
     "data": {
      "application/vnd.jupyter.widget-view+json": {
       "model_id": "",
       "version_major": 2,
       "version_minor": 0
      },
      "text/plain": [
       "Evaluating agents:   0%|          | 0/100 [00:00<?, ?it/s]"
      ]
     },
     "metadata": {},
     "output_type": "display_data"
    },
    {
     "name": "stdout",
     "output_type": "stream",
     "text": [
      "\tMetric                      \t\tMean\t\tMedian\n",
      "\t---------------------------------------------------------------\n",
      "\ttrain_model-accuracy_no_oov:\t\t70.472%\t\t72.959%\n",
      "\tval_model-accuracy_no_oov:  \t\t3.997%\t\t3.113%\n",
      "\ttest_model-accuracy_no_oov: \t\t4.329%\t\t3.627%\n",
      "Epoch: 16\n"
     ]
    },
    {
     "data": {
      "application/vnd.jupyter.widget-view+json": {
       "model_id": "",
       "version_major": 2,
       "version_minor": 0
      },
      "text/plain": [
       "Evaluating agents:   0%|          | 0/100 [00:00<?, ?it/s]"
      ]
     },
     "metadata": {},
     "output_type": "display_data"
    },
    {
     "name": "stdout",
     "output_type": "stream",
     "text": [
      "\tMetric                      \t\tMean\t\tMedian\n",
      "\t---------------------------------------------------------------\n",
      "\ttrain_model-accuracy_no_oov:\t\t70.956%\t\t72.916%\n",
      "\tval_model-accuracy_no_oov:  \t\t4.056%\t\t3.280%\n",
      "\ttest_model-accuracy_no_oov: \t\t4.343%\t\t3.474%\n",
      "Epoch: 17\n"
     ]
    },
    {
     "data": {
      "application/vnd.jupyter.widget-view+json": {
       "model_id": "",
       "version_major": 2,
       "version_minor": 0
      },
      "text/plain": [
       "Evaluating agents:   0%|          | 0/100 [00:00<?, ?it/s]"
      ]
     },
     "metadata": {},
     "output_type": "display_data"
    },
    {
     "name": "stdout",
     "output_type": "stream",
     "text": [
      "\tMetric                      \t\tMean\t\tMedian\n",
      "\t---------------------------------------------------------------\n",
      "\ttrain_model-accuracy_no_oov:\t\t71.522%\t\t73.863%\n",
      "\tval_model-accuracy_no_oov:  \t\t3.973%\t\t2.971%\n",
      "\ttest_model-accuracy_no_oov: \t\t4.275%\t\t3.388%\n",
      "Epoch: 18\n"
     ]
    },
    {
     "data": {
      "application/vnd.jupyter.widget-view+json": {
       "model_id": "",
       "version_major": 2,
       "version_minor": 0
      },
      "text/plain": [
       "Evaluating agents:   0%|          | 0/100 [00:00<?, ?it/s]"
      ]
     },
     "metadata": {},
     "output_type": "display_data"
    },
    {
     "name": "stdout",
     "output_type": "stream",
     "text": [
      "\tMetric                      \t\tMean\t\tMedian\n",
      "\t---------------------------------------------------------------\n",
      "\ttrain_model-accuracy_no_oov:\t\t71.932%\t\t74.034%\n",
      "\tval_model-accuracy_no_oov:  \t\t4.012%\t\t3.113%\n",
      "\ttest_model-accuracy_no_oov: \t\t4.309%\t\t3.605%\n",
      "Epoch: 19\n"
     ]
    },
    {
     "data": {
      "application/vnd.jupyter.widget-view+json": {
       "model_id": "",
       "version_major": 2,
       "version_minor": 0
      },
      "text/plain": [
       "Evaluating agents:   0%|          | 0/100 [00:00<?, ?it/s]"
      ]
     },
     "metadata": {},
     "output_type": "display_data"
    },
    {
     "name": "stdout",
     "output_type": "stream",
     "text": [
      "\tMetric                      \t\tMean\t\tMedian\n",
      "\t---------------------------------------------------------------\n",
      "\ttrain_model-accuracy_no_oov:\t\t72.298%\t\t75.579%\n",
      "\tval_model-accuracy_no_oov:  \t\t3.990%\t\t2.916%\n",
      "\ttest_model-accuracy_no_oov: \t\t4.309%\t\t3.687%\n",
      "Epoch: 20\n"
     ]
    },
    {
     "data": {
      "application/vnd.jupyter.widget-view+json": {
       "model_id": "",
       "version_major": 2,
       "version_minor": 0
      },
      "text/plain": [
       "Evaluating agents:   0%|          | 0/100 [00:00<?, ?it/s]"
      ]
     },
     "metadata": {},
     "output_type": "display_data"
    },
    {
     "name": "stdout",
     "output_type": "stream",
     "text": [
      "\tMetric                      \t\tMean\t\tMedian\n",
      "\t---------------------------------------------------------------\n",
      "\ttrain_model-accuracy_no_oov:\t\t72.714%\t\t75.463%\n",
      "\tval_model-accuracy_no_oov:  \t\t4.022%\t\t3.090%\n",
      "\ttest_model-accuracy_no_oov: \t\t4.297%\t\t3.621%\n",
      "Epoch: 21\n"
     ]
    },
    {
     "data": {
      "application/vnd.jupyter.widget-view+json": {
       "model_id": "",
       "version_major": 2,
       "version_minor": 0
      },
      "text/plain": [
       "Evaluating agents:   0%|          | 0/100 [00:00<?, ?it/s]"
      ]
     },
     "metadata": {},
     "output_type": "display_data"
    },
    {
     "name": "stdout",
     "output_type": "stream",
     "text": [
      "\tMetric                      \t\tMean\t\tMedian\n",
      "\t---------------------------------------------------------------\n",
      "\ttrain_model-accuracy_no_oov:\t\t73.141%\t\t76.019%\n",
      "\tval_model-accuracy_no_oov:  \t\t4.026%\t\t2.923%\n",
      "\ttest_model-accuracy_no_oov: \t\t4.270%\t\t3.474%\n",
      "Epoch: 22\n"
     ]
    },
    {
     "data": {
      "application/vnd.jupyter.widget-view+json": {
       "model_id": "",
       "version_major": 2,
       "version_minor": 0
      },
      "text/plain": [
       "Evaluating agents:   0%|          | 0/100 [00:00<?, ?it/s]"
      ]
     },
     "metadata": {},
     "output_type": "display_data"
    },
    {
     "name": "stdout",
     "output_type": "stream",
     "text": [
      "\tMetric                      \t\tMean\t\tMedian\n",
      "\t---------------------------------------------------------------\n",
      "\ttrain_model-accuracy_no_oov:\t\t73.336%\t\t76.795%\n",
      "\tval_model-accuracy_no_oov:  \t\t4.005%\t\t3.015%\n",
      "\ttest_model-accuracy_no_oov: \t\t4.304%\t\t3.627%\n",
      "Epoch: 23\n"
     ]
    },
    {
     "data": {
      "application/vnd.jupyter.widget-view+json": {
       "model_id": "",
       "version_major": 2,
       "version_minor": 0
      },
      "text/plain": [
       "Evaluating agents:   0%|          | 0/100 [00:00<?, ?it/s]"
      ]
     },
     "metadata": {},
     "output_type": "display_data"
    },
    {
     "name": "stdout",
     "output_type": "stream",
     "text": [
      "\tMetric                      \t\tMean\t\tMedian\n",
      "\t---------------------------------------------------------------\n",
      "\ttrain_model-accuracy_no_oov:\t\t73.644%\t\t77.188%\n",
      "\tval_model-accuracy_no_oov:  \t\t3.995%\t\t2.925%\n",
      "\ttest_model-accuracy_no_oov: \t\t4.272%\t\t3.292%\n",
      "Epoch: 24\n"
     ]
    },
    {
     "data": {
      "application/vnd.jupyter.widget-view+json": {
       "model_id": "",
       "version_major": 2,
       "version_minor": 0
      },
      "text/plain": [
       "Evaluating agents:   0%|          | 0/100 [00:00<?, ?it/s]"
      ]
     },
     "metadata": {},
     "output_type": "display_data"
    },
    {
     "name": "stdout",
     "output_type": "stream",
     "text": [
      "\tMetric                      \t\tMean\t\tMedian\n",
      "\t---------------------------------------------------------------\n",
      "\ttrain_model-accuracy_no_oov:\t\t73.780%\t\t76.829%\n",
      "\tval_model-accuracy_no_oov:  \t\t4.021%\t\t2.925%\n",
      "\ttest_model-accuracy_no_oov: \t\t4.317%\t\t3.292%\n",
      "Epoch: 25\n"
     ]
    },
    {
     "data": {
      "application/vnd.jupyter.widget-view+json": {
       "model_id": "",
       "version_major": 2,
       "version_minor": 0
      },
      "text/plain": [
       "Evaluating agents:   0%|          | 0/100 [00:00<?, ?it/s]"
      ]
     },
     "metadata": {},
     "output_type": "display_data"
    },
    {
     "name": "stdout",
     "output_type": "stream",
     "text": [
      "\tMetric                      \t\tMean\t\tMedian\n",
      "\t---------------------------------------------------------------\n",
      "\ttrain_model-accuracy_no_oov:\t\t74.016%\t\t77.426%\n",
      "\tval_model-accuracy_no_oov:  \t\t4.042%\t\t2.971%\n",
      "\ttest_model-accuracy_no_oov: \t\t4.336%\t\t3.562%\n",
      "Epoch: 26\n"
     ]
    },
    {
     "data": {
      "application/vnd.jupyter.widget-view+json": {
       "model_id": "",
       "version_major": 2,
       "version_minor": 0
      },
      "text/plain": [
       "Evaluating agents:   0%|          | 0/100 [00:00<?, ?it/s]"
      ]
     },
     "metadata": {},
     "output_type": "display_data"
    },
    {
     "name": "stdout",
     "output_type": "stream",
     "text": [
      "\tMetric                      \t\tMean\t\tMedian\n",
      "\t---------------------------------------------------------------\n",
      "\ttrain_model-accuracy_no_oov:\t\t74.385%\t\t77.841%\n",
      "\tval_model-accuracy_no_oov:  \t\t4.041%\t\t3.113%\n",
      "\ttest_model-accuracy_no_oov: \t\t4.361%\t\t3.474%\n",
      "Epoch: 27\n"
     ]
    },
    {
     "data": {
      "application/vnd.jupyter.widget-view+json": {
       "model_id": "",
       "version_major": 2,
       "version_minor": 0
      },
      "text/plain": [
       "Evaluating agents:   0%|          | 0/100 [00:00<?, ?it/s]"
      ]
     },
     "metadata": {},
     "output_type": "display_data"
    },
    {
     "name": "stdout",
     "output_type": "stream",
     "text": [
      "\tMetric                      \t\tMean\t\tMedian\n",
      "\t---------------------------------------------------------------\n",
      "\ttrain_model-accuracy_no_oov:\t\t74.528%\t\t77.118%\n",
      "\tval_model-accuracy_no_oov:  \t\t3.982%\t\t2.971%\n",
      "\ttest_model-accuracy_no_oov: \t\t4.382%\t\t3.562%\n",
      "Epoch: 28\n"
     ]
    },
    {
     "data": {
      "application/vnd.jupyter.widget-view+json": {
       "model_id": "",
       "version_major": 2,
       "version_minor": 0
      },
      "text/plain": [
       "Evaluating agents:   0%|          | 0/100 [00:00<?, ?it/s]"
      ]
     },
     "metadata": {},
     "output_type": "display_data"
    },
    {
     "name": "stdout",
     "output_type": "stream",
     "text": [
      "\tMetric                      \t\tMean\t\tMedian\n",
      "\t---------------------------------------------------------------\n",
      "\ttrain_model-accuracy_no_oov:\t\t74.609%\t\t77.215%\n",
      "\tval_model-accuracy_no_oov:  \t\t3.964%\t\t2.971%\n",
      "\ttest_model-accuracy_no_oov: \t\t4.350%\t\t3.562%\n",
      "Epoch: 29\n"
     ]
    },
    {
     "data": {
      "application/vnd.jupyter.widget-view+json": {
       "model_id": "",
       "version_major": 2,
       "version_minor": 0
      },
      "text/plain": [
       "Evaluating agents:   0%|          | 0/100 [00:00<?, ?it/s]"
      ]
     },
     "metadata": {},
     "output_type": "display_data"
    },
    {
     "name": "stdout",
     "output_type": "stream",
     "text": [
      "\tMetric                      \t\tMean\t\tMedian\n",
      "\t---------------------------------------------------------------\n",
      "\ttrain_model-accuracy_no_oov:\t\t74.829%\t\t77.793%\n",
      "\tval_model-accuracy_no_oov:  \t\t3.996%\t\t3.113%\n",
      "\ttest_model-accuracy_no_oov: \t\t4.397%\t\t3.605%\n",
      "Epoch: 30\n"
     ]
    },
    {
     "data": {
      "application/vnd.jupyter.widget-view+json": {
       "model_id": "",
       "version_major": 2,
       "version_minor": 0
      },
      "text/plain": [
       "Evaluating agents:   0%|          | 0/100 [00:00<?, ?it/s]"
      ]
     },
     "metadata": {},
     "output_type": "display_data"
    },
    {
     "name": "stdout",
     "output_type": "stream",
     "text": [
      "\tMetric                      \t\tMean\t\tMedian\n",
      "\t---------------------------------------------------------------\n",
      "\ttrain_model-accuracy_no_oov:\t\t74.851%\t\t77.744%\n",
      "\tval_model-accuracy_no_oov:  \t\t3.941%\t\t2.971%\n",
      "\ttest_model-accuracy_no_oov: \t\t4.245%\t\t3.218%\n",
      "Epoch: 31\n"
     ]
    },
    {
     "data": {
      "application/vnd.jupyter.widget-view+json": {
       "model_id": "",
       "version_major": 2,
       "version_minor": 0
      },
      "text/plain": [
       "Evaluating agents:   0%|          | 0/100 [00:00<?, ?it/s]"
      ]
     },
     "metadata": {},
     "output_type": "display_data"
    },
    {
     "name": "stdout",
     "output_type": "stream",
     "text": [
      "\tMetric                      \t\tMean\t\tMedian\n",
      "\t---------------------------------------------------------------\n",
      "\ttrain_model-accuracy_no_oov:\t\t75.015%\t\t77.744%\n",
      "\tval_model-accuracy_no_oov:  \t\t3.945%\t\t2.971%\n",
      "\ttest_model-accuracy_no_oov: \t\t4.331%\t\t3.704%\n",
      "Epoch: 32\n"
     ]
    },
    {
     "data": {
      "application/vnd.jupyter.widget-view+json": {
       "model_id": "",
       "version_major": 2,
       "version_minor": 0
      },
      "text/plain": [
       "Evaluating agents:   0%|          | 0/100 [00:00<?, ?it/s]"
      ]
     },
     "metadata": {},
     "output_type": "display_data"
    },
    {
     "name": "stdout",
     "output_type": "stream",
     "text": [
      "\tMetric                      \t\tMean\t\tMedian\n",
      "\t---------------------------------------------------------------\n",
      "\ttrain_model-accuracy_no_oov:\t\t75.211%\t\t77.793%\n",
      "\tval_model-accuracy_no_oov:  \t\t3.952%\t\t2.896%\n",
      "\ttest_model-accuracy_no_oov: \t\t4.289%\t\t3.556%\n",
      "Epoch: 33\n"
     ]
    },
    {
     "data": {
      "application/vnd.jupyter.widget-view+json": {
       "model_id": "",
       "version_major": 2,
       "version_minor": 0
      },
      "text/plain": [
       "Evaluating agents:   0%|          | 0/100 [00:00<?, ?it/s]"
      ]
     },
     "metadata": {},
     "output_type": "display_data"
    },
    {
     "name": "stdout",
     "output_type": "stream",
     "text": [
      "\tMetric                      \t\tMean\t\tMedian\n",
      "\t---------------------------------------------------------------\n",
      "\ttrain_model-accuracy_no_oov:\t\t75.417%\t\t78.570%\n",
      "\tval_model-accuracy_no_oov:  \t\t3.957%\t\t2.896%\n",
      "\ttest_model-accuracy_no_oov: \t\t4.212%\t\t3.388%\n",
      "Epoch: 34\n"
     ]
    },
    {
     "data": {
      "application/vnd.jupyter.widget-view+json": {
       "model_id": "",
       "version_major": 2,
       "version_minor": 0
      },
      "text/plain": [
       "Evaluating agents:   0%|          | 0/100 [00:00<?, ?it/s]"
      ]
     },
     "metadata": {},
     "output_type": "display_data"
    },
    {
     "name": "stdout",
     "output_type": "stream",
     "text": [
      "\tMetric                      \t\tMean\t\tMedian\n",
      "\t---------------------------------------------------------------\n",
      "\ttrain_model-accuracy_no_oov:\t\t75.535%\t\t78.570%\n",
      "\tval_model-accuracy_no_oov:  \t\t3.913%\t\t2.896%\n",
      "\ttest_model-accuracy_no_oov: \t\t4.228%\t\t3.474%\n",
      "Epoch: 35\n"
     ]
    },
    {
     "data": {
      "application/vnd.jupyter.widget-view+json": {
       "model_id": "",
       "version_major": 2,
       "version_minor": 0
      },
      "text/plain": [
       "Evaluating agents:   0%|          | 0/100 [00:00<?, ?it/s]"
      ]
     },
     "metadata": {},
     "output_type": "display_data"
    },
    {
     "name": "stdout",
     "output_type": "stream",
     "text": [
      "\tMetric                      \t\tMean\t\tMedian\n",
      "\t---------------------------------------------------------------\n",
      "\ttrain_model-accuracy_no_oov:\t\t75.555%\t\t78.570%\n",
      "\tval_model-accuracy_no_oov:  \t\t3.918%\t\t2.814%\n",
      "\ttest_model-accuracy_no_oov: \t\t4.254%\t\t3.562%\n",
      "Epoch: 36\n"
     ]
    },
    {
     "data": {
      "application/vnd.jupyter.widget-view+json": {
       "model_id": "",
       "version_major": 2,
       "version_minor": 0
      },
      "text/plain": [
       "Evaluating agents:   0%|          | 0/100 [00:00<?, ?it/s]"
      ]
     },
     "metadata": {},
     "output_type": "display_data"
    },
    {
     "name": "stdout",
     "output_type": "stream",
     "text": [
      "\tMetric                      \t\tMean\t\tMedian\n",
      "\t---------------------------------------------------------------\n",
      "\ttrain_model-accuracy_no_oov:\t\t75.600%\t\t78.570%\n",
      "\tval_model-accuracy_no_oov:  \t\t3.879%\t\t2.778%\n",
      "\ttest_model-accuracy_no_oov: \t\t4.220%\t\t3.474%\n",
      "Epoch: 37\n"
     ]
    },
    {
     "data": {
      "application/vnd.jupyter.widget-view+json": {
       "model_id": "",
       "version_major": 2,
       "version_minor": 0
      },
      "text/plain": [
       "Evaluating agents:   0%|          | 0/100 [00:00<?, ?it/s]"
      ]
     },
     "metadata": {},
     "output_type": "display_data"
    },
    {
     "name": "stdout",
     "output_type": "stream",
     "text": [
      "\tMetric                      \t\tMean\t\tMedian\n",
      "\t---------------------------------------------------------------\n",
      "\ttrain_model-accuracy_no_oov:\t\t75.670%\t\t78.570%\n",
      "\tval_model-accuracy_no_oov:  \t\t3.911%\t\t2.925%\n",
      "\ttest_model-accuracy_no_oov: \t\t4.278%\t\t3.605%\n",
      "Epoch: 38\n"
     ]
    },
    {
     "data": {
      "application/vnd.jupyter.widget-view+json": {
       "model_id": "",
       "version_major": 2,
       "version_minor": 0
      },
      "text/plain": [
       "Evaluating agents:   0%|          | 0/100 [00:00<?, ?it/s]"
      ]
     },
     "metadata": {},
     "output_type": "display_data"
    },
    {
     "name": "stdout",
     "output_type": "stream",
     "text": [
      "\tMetric                      \t\tMean\t\tMedian\n",
      "\t---------------------------------------------------------------\n",
      "\ttrain_model-accuracy_no_oov:\t\t75.778%\t\t78.570%\n",
      "\tval_model-accuracy_no_oov:  \t\t3.867%\t\t2.814%\n",
      "\ttest_model-accuracy_no_oov: \t\t4.291%\t\t3.474%\n",
      "Epoch: 39\n"
     ]
    },
    {
     "data": {
      "application/vnd.jupyter.widget-view+json": {
       "model_id": "",
       "version_major": 2,
       "version_minor": 0
      },
      "text/plain": [
       "Evaluating agents:   0%|          | 0/100 [00:00<?, ?it/s]"
      ]
     },
     "metadata": {},
     "output_type": "display_data"
    },
    {
     "name": "stdout",
     "output_type": "stream",
     "text": [
      "\tMetric                      \t\tMean\t\tMedian\n",
      "\t---------------------------------------------------------------\n",
      "\ttrain_model-accuracy_no_oov:\t\t75.755%\t\t78.570%\n",
      "\tval_model-accuracy_no_oov:  \t\t3.910%\t\t2.814%\n",
      "\ttest_model-accuracy_no_oov: \t\t4.265%\t\t3.383%\n",
      "Epoch: 40\n"
     ]
    },
    {
     "data": {
      "application/vnd.jupyter.widget-view+json": {
       "model_id": "",
       "version_major": 2,
       "version_minor": 0
      },
      "text/plain": [
       "Evaluating agents:   0%|          | 0/100 [00:00<?, ?it/s]"
      ]
     },
     "metadata": {},
     "output_type": "display_data"
    },
    {
     "name": "stdout",
     "output_type": "stream",
     "text": [
      "\tMetric                      \t\tMean\t\tMedian\n",
      "\t---------------------------------------------------------------\n",
      "\ttrain_model-accuracy_no_oov:\t\t75.675%\t\t78.570%\n",
      "\tval_model-accuracy_no_oov:  \t\t3.892%\t\t2.814%\n",
      "\ttest_model-accuracy_no_oov: \t\t4.299%\t\t3.474%\n",
      "Epoch: 41\n"
     ]
    },
    {
     "data": {
      "application/vnd.jupyter.widget-view+json": {
       "model_id": "",
       "version_major": 2,
       "version_minor": 0
      },
      "text/plain": [
       "Evaluating agents:   0%|          | 0/100 [00:00<?, ?it/s]"
      ]
     },
     "metadata": {},
     "output_type": "display_data"
    },
    {
     "name": "stdout",
     "output_type": "stream",
     "text": [
      "\tMetric                      \t\tMean\t\tMedian\n",
      "\t---------------------------------------------------------------\n",
      "\ttrain_model-accuracy_no_oov:\t\t75.704%\t\t77.939%\n",
      "\tval_model-accuracy_no_oov:  \t\t3.876%\t\t2.814%\n",
      "\ttest_model-accuracy_no_oov: \t\t4.295%\t\t3.362%\n",
      "Epoch: 42\n"
     ]
    },
    {
     "data": {
      "application/vnd.jupyter.widget-view+json": {
       "model_id": "",
       "version_major": 2,
       "version_minor": 0
      },
      "text/plain": [
       "Evaluating agents:   0%|          | 0/100 [00:00<?, ?it/s]"
      ]
     },
     "metadata": {},
     "output_type": "display_data"
    },
    {
     "name": "stdout",
     "output_type": "stream",
     "text": [
      "\tMetric                      \t\tMean\t\tMedian\n",
      "\t---------------------------------------------------------------\n",
      "\ttrain_model-accuracy_no_oov:\t\t75.719%\t\t77.767%\n",
      "\tval_model-accuracy_no_oov:  \t\t3.894%\t\t2.814%\n",
      "\ttest_model-accuracy_no_oov: \t\t4.276%\t\t3.309%\n",
      "Epoch: 43\n"
     ]
    },
    {
     "data": {
      "application/vnd.jupyter.widget-view+json": {
       "model_id": "",
       "version_major": 2,
       "version_minor": 0
      },
      "text/plain": [
       "Evaluating agents:   0%|          | 0/100 [00:00<?, ?it/s]"
      ]
     },
     "metadata": {},
     "output_type": "display_data"
    },
    {
     "name": "stdout",
     "output_type": "stream",
     "text": [
      "\tMetric                      \t\tMean\t\tMedian\n",
      "\t---------------------------------------------------------------\n",
      "\ttrain_model-accuracy_no_oov:\t\t75.718%\t\t77.767%\n",
      "\tval_model-accuracy_no_oov:  \t\t3.892%\t\t2.814%\n",
      "\ttest_model-accuracy_no_oov: \t\t4.254%\t\t3.200%\n",
      "Epoch: 44\n"
     ]
    },
    {
     "data": {
      "application/vnd.jupyter.widget-view+json": {
       "model_id": "",
       "version_major": 2,
       "version_minor": 0
      },
      "text/plain": [
       "Evaluating agents:   0%|          | 0/100 [00:00<?, ?it/s]"
      ]
     },
     "metadata": {},
     "output_type": "display_data"
    },
    {
     "name": "stdout",
     "output_type": "stream",
     "text": [
      "\tMetric                      \t\tMean\t\tMedian\n",
      "\t---------------------------------------------------------------\n",
      "\ttrain_model-accuracy_no_oov:\t\t75.831%\t\t77.793%\n",
      "\tval_model-accuracy_no_oov:  \t\t3.896%\t\t2.875%\n",
      "\ttest_model-accuracy_no_oov: \t\t4.260%\t\t3.309%\n",
      "Epoch: 45\n"
     ]
    },
    {
     "data": {
      "application/vnd.jupyter.widget-view+json": {
       "model_id": "",
       "version_major": 2,
       "version_minor": 0
      },
      "text/plain": [
       "Evaluating agents:   0%|          | 0/100 [00:00<?, ?it/s]"
      ]
     },
     "metadata": {},
     "output_type": "display_data"
    },
    {
     "name": "stdout",
     "output_type": "stream",
     "text": [
      "\tMetric                      \t\tMean\t\tMedian\n",
      "\t---------------------------------------------------------------\n",
      "\ttrain_model-accuracy_no_oov:\t\t75.962%\t\t77.767%\n",
      "\tval_model-accuracy_no_oov:  \t\t3.893%\t\t2.814%\n",
      "\ttest_model-accuracy_no_oov: \t\t4.238%\t\t3.243%\n",
      "Epoch: 46\n"
     ]
    },
    {
     "data": {
      "application/vnd.jupyter.widget-view+json": {
       "model_id": "",
       "version_major": 2,
       "version_minor": 0
      },
      "text/plain": [
       "Evaluating agents:   0%|          | 0/100 [00:00<?, ?it/s]"
      ]
     },
     "metadata": {},
     "output_type": "display_data"
    },
    {
     "name": "stdout",
     "output_type": "stream",
     "text": [
      "\tMetric                      \t\tMean\t\tMedian\n",
      "\t---------------------------------------------------------------\n",
      "\ttrain_model-accuracy_no_oov:\t\t76.040%\t\t77.793%\n",
      "\tval_model-accuracy_no_oov:  \t\t3.913%\t\t2.875%\n",
      "\ttest_model-accuracy_no_oov: \t\t4.286%\t\t3.362%\n",
      "Epoch: 47\n"
     ]
    },
    {
     "data": {
      "application/vnd.jupyter.widget-view+json": {
       "model_id": "",
       "version_major": 2,
       "version_minor": 0
      },
      "text/plain": [
       "Evaluating agents:   0%|          | 0/100 [00:00<?, ?it/s]"
      ]
     },
     "metadata": {},
     "output_type": "display_data"
    },
    {
     "name": "stdout",
     "output_type": "stream",
     "text": [
      "\tMetric                      \t\tMean\t\tMedian\n",
      "\t---------------------------------------------------------------\n",
      "\ttrain_model-accuracy_no_oov:\t\t76.039%\t\t77.834%\n",
      "\tval_model-accuracy_no_oov:  \t\t3.914%\t\t2.875%\n",
      "\ttest_model-accuracy_no_oov: \t\t4.216%\t\t3.118%\n",
      "Epoch: 48\n"
     ]
    },
    {
     "data": {
      "application/vnd.jupyter.widget-view+json": {
       "model_id": "",
       "version_major": 2,
       "version_minor": 0
      },
      "text/plain": [
       "Evaluating agents:   0%|          | 0/100 [00:00<?, ?it/s]"
      ]
     },
     "metadata": {},
     "output_type": "display_data"
    },
    {
     "name": "stdout",
     "output_type": "stream",
     "text": [
      "\tMetric                      \t\tMean\t\tMedian\n",
      "\t---------------------------------------------------------------\n",
      "\ttrain_model-accuracy_no_oov:\t\t76.208%\t\t77.841%\n",
      "\tval_model-accuracy_no_oov:  \t\t3.897%\t\t2.814%\n",
      "\ttest_model-accuracy_no_oov: \t\t4.202%\t\t3.046%\n",
      "Epoch: 49\n"
     ]
    },
    {
     "data": {
      "application/vnd.jupyter.widget-view+json": {
       "model_id": "",
       "version_major": 2,
       "version_minor": 0
      },
      "text/plain": [
       "Evaluating agents:   0%|          | 0/100 [00:00<?, ?it/s]"
      ]
     },
     "metadata": {},
     "output_type": "display_data"
    },
    {
     "name": "stdout",
     "output_type": "stream",
     "text": [
      "\tMetric                      \t\tMean\t\tMedian\n",
      "\t---------------------------------------------------------------\n",
      "\ttrain_model-accuracy_no_oov:\t\t76.313%\t\t78.570%\n",
      "\tval_model-accuracy_no_oov:  \t\t3.877%\t\t2.778%\n",
      "\ttest_model-accuracy_no_oov: \t\t4.258%\t\t3.309%\n",
      "Epoch: 50\n"
     ]
    },
    {
     "data": {
      "application/vnd.jupyter.widget-view+json": {
       "model_id": "",
       "version_major": 2,
       "version_minor": 0
      },
      "text/plain": [
       "Evaluating agents:   0%|          | 0/100 [00:00<?, ?it/s]"
      ]
     },
     "metadata": {},
     "output_type": "display_data"
    },
    {
     "name": "stdout",
     "output_type": "stream",
     "text": [
      "\tMetric                      \t\tMean\t\tMedian\n",
      "\t---------------------------------------------------------------\n",
      "\ttrain_model-accuracy_no_oov:\t\t76.321%\t\t78.570%\n",
      "\tval_model-accuracy_no_oov:  \t\t3.865%\t\t2.778%\n",
      "\ttest_model-accuracy_no_oov: \t\t4.216%\t\t3.144%\n",
      "Epoch: 51\n"
     ]
    },
    {
     "data": {
      "application/vnd.jupyter.widget-view+json": {
       "model_id": "",
       "version_major": 2,
       "version_minor": 0
      },
      "text/plain": [
       "Evaluating agents:   0%|          | 0/100 [00:00<?, ?it/s]"
      ]
     },
     "metadata": {},
     "output_type": "display_data"
    },
    {
     "name": "stdout",
     "output_type": "stream",
     "text": [
      "\tMetric                      \t\tMean\t\tMedian\n",
      "\t---------------------------------------------------------------\n",
      "\ttrain_model-accuracy_no_oov:\t\t76.254%\t\t78.570%\n",
      "\tval_model-accuracy_no_oov:  \t\t3.869%\t\t2.778%\n",
      "\ttest_model-accuracy_no_oov: \t\t4.190%\t\t3.118%\n",
      "Epoch: 52\n"
     ]
    },
    {
     "data": {
      "application/vnd.jupyter.widget-view+json": {
       "model_id": "",
       "version_major": 2,
       "version_minor": 0
      },
      "text/plain": [
       "Evaluating agents:   0%|          | 0/100 [00:00<?, ?it/s]"
      ]
     },
     "metadata": {},
     "output_type": "display_data"
    },
    {
     "name": "stdout",
     "output_type": "stream",
     "text": [
      "\tMetric                      \t\tMean\t\tMedian\n",
      "\t---------------------------------------------------------------\n",
      "\ttrain_model-accuracy_no_oov:\t\t76.247%\t\t78.570%\n",
      "\tval_model-accuracy_no_oov:  \t\t3.902%\t\t2.778%\n",
      "\ttest_model-accuracy_no_oov: \t\t4.209%\t\t3.118%\n",
      "Epoch: 53\n"
     ]
    },
    {
     "data": {
      "application/vnd.jupyter.widget-view+json": {
       "model_id": "",
       "version_major": 2,
       "version_minor": 0
      },
      "text/plain": [
       "Evaluating agents:   0%|          | 0/100 [00:00<?, ?it/s]"
      ]
     },
     "metadata": {},
     "output_type": "display_data"
    },
    {
     "name": "stdout",
     "output_type": "stream",
     "text": [
      "\tMetric                      \t\tMean\t\tMedian\n",
      "\t---------------------------------------------------------------\n",
      "\ttrain_model-accuracy_no_oov:\t\t76.396%\t\t79.175%\n",
      "\tval_model-accuracy_no_oov:  \t\t3.882%\t\t2.778%\n",
      "\ttest_model-accuracy_no_oov: \t\t4.232%\t\t3.175%\n",
      "Epoch: 54\n"
     ]
    },
    {
     "data": {
      "application/vnd.jupyter.widget-view+json": {
       "model_id": "",
       "version_major": 2,
       "version_minor": 0
      },
      "text/plain": [
       "Evaluating agents:   0%|          | 0/100 [00:00<?, ?it/s]"
      ]
     },
     "metadata": {},
     "output_type": "display_data"
    },
    {
     "name": "stdout",
     "output_type": "stream",
     "text": [
      "\tMetric                      \t\tMean\t\tMedian\n",
      "\t---------------------------------------------------------------\n",
      "\ttrain_model-accuracy_no_oov:\t\t76.360%\t\t79.175%\n",
      "\tval_model-accuracy_no_oov:  \t\t3.901%\t\t2.778%\n",
      "\ttest_model-accuracy_no_oov: \t\t4.251%\t\t3.200%\n",
      "Epoch: 55\n"
     ]
    },
    {
     "data": {
      "application/vnd.jupyter.widget-view+json": {
       "model_id": "",
       "version_major": 2,
       "version_minor": 0
      },
      "text/plain": [
       "Evaluating agents:   0%|          | 0/100 [00:00<?, ?it/s]"
      ]
     },
     "metadata": {},
     "output_type": "display_data"
    },
    {
     "name": "stdout",
     "output_type": "stream",
     "text": [
      "\tMetric                      \t\tMean\t\tMedian\n",
      "\t---------------------------------------------------------------\n",
      "\ttrain_model-accuracy_no_oov:\t\t76.464%\t\t78.788%\n",
      "\tval_model-accuracy_no_oov:  \t\t3.889%\t\t2.778%\n",
      "\ttest_model-accuracy_no_oov: \t\t4.256%\t\t3.146%\n",
      "Epoch: 56\n"
     ]
    },
    {
     "data": {
      "application/vnd.jupyter.widget-view+json": {
       "model_id": "",
       "version_major": 2,
       "version_minor": 0
      },
      "text/plain": [
       "Evaluating agents:   0%|          | 0/100 [00:00<?, ?it/s]"
      ]
     },
     "metadata": {},
     "output_type": "display_data"
    },
    {
     "name": "stdout",
     "output_type": "stream",
     "text": [
      "\tMetric                      \t\tMean\t\tMedian\n",
      "\t---------------------------------------------------------------\n",
      "\ttrain_model-accuracy_no_oov:\t\t76.458%\t\t78.253%\n",
      "\tval_model-accuracy_no_oov:  \t\t3.881%\t\t2.778%\n",
      "\ttest_model-accuracy_no_oov: \t\t4.262%\t\t3.175%\n",
      "Epoch: 57\n"
     ]
    },
    {
     "data": {
      "application/vnd.jupyter.widget-view+json": {
       "model_id": "",
       "version_major": 2,
       "version_minor": 0
      },
      "text/plain": [
       "Evaluating agents:   0%|          | 0/100 [00:00<?, ?it/s]"
      ]
     },
     "metadata": {},
     "output_type": "display_data"
    },
    {
     "name": "stdout",
     "output_type": "stream",
     "text": [
      "\tMetric                      \t\tMean\t\tMedian\n",
      "\t---------------------------------------------------------------\n",
      "\ttrain_model-accuracy_no_oov:\t\t76.473%\t\t78.788%\n",
      "\tval_model-accuracy_no_oov:  \t\t3.889%\t\t2.778%\n",
      "\ttest_model-accuracy_no_oov: \t\t4.248%\t\t3.200%\n",
      "Epoch: 58\n"
     ]
    },
    {
     "data": {
      "application/vnd.jupyter.widget-view+json": {
       "model_id": "",
       "version_major": 2,
       "version_minor": 0
      },
      "text/plain": [
       "Evaluating agents:   0%|          | 0/100 [00:00<?, ?it/s]"
      ]
     },
     "metadata": {},
     "output_type": "display_data"
    },
    {
     "name": "stdout",
     "output_type": "stream",
     "text": [
      "\tMetric                      \t\tMean\t\tMedian\n",
      "\t---------------------------------------------------------------\n",
      "\ttrain_model-accuracy_no_oov:\t\t76.473%\t\t78.788%\n",
      "\tval_model-accuracy_no_oov:  \t\t3.886%\t\t2.778%\n",
      "\ttest_model-accuracy_no_oov: \t\t4.251%\t\t3.118%\n",
      "Epoch: 59\n"
     ]
    },
    {
     "data": {
      "application/vnd.jupyter.widget-view+json": {
       "model_id": "",
       "version_major": 2,
       "version_minor": 0
      },
      "text/plain": [
       "Evaluating agents:   0%|          | 0/100 [00:00<?, ?it/s]"
      ]
     },
     "metadata": {},
     "output_type": "display_data"
    },
    {
     "name": "stdout",
     "output_type": "stream",
     "text": [
      "\tMetric                      \t\tMean\t\tMedian\n",
      "\t---------------------------------------------------------------\n",
      "\ttrain_model-accuracy_no_oov:\t\t76.466%\t\t79.136%\n",
      "\tval_model-accuracy_no_oov:  \t\t3.898%\t\t2.778%\n",
      "\ttest_model-accuracy_no_oov: \t\t4.262%\t\t3.144%\n",
      "Epoch: 60\n"
     ]
    },
    {
     "data": {
      "application/vnd.jupyter.widget-view+json": {
       "model_id": "",
       "version_major": 2,
       "version_minor": 0
      },
      "text/plain": [
       "Evaluating agents:   0%|          | 0/100 [00:00<?, ?it/s]"
      ]
     },
     "metadata": {},
     "output_type": "display_data"
    },
    {
     "name": "stdout",
     "output_type": "stream",
     "text": [
      "\tMetric                      \t\tMean\t\tMedian\n",
      "\t---------------------------------------------------------------\n",
      "\ttrain_model-accuracy_no_oov:\t\t76.414%\t\t78.017%\n",
      "\tval_model-accuracy_no_oov:  \t\t3.869%\t\t2.778%\n",
      "\ttest_model-accuracy_no_oov: \t\t4.227%\t\t3.046%\n",
      "Epoch: 61\n"
     ]
    },
    {
     "data": {
      "application/vnd.jupyter.widget-view+json": {
       "model_id": "",
       "version_major": 2,
       "version_minor": 0
      },
      "text/plain": [
       "Evaluating agents:   0%|          | 0/100 [00:00<?, ?it/s]"
      ]
     },
     "metadata": {},
     "output_type": "display_data"
    },
    {
     "name": "stdout",
     "output_type": "stream",
     "text": [
      "\tMetric                      \t\tMean\t\tMedian\n",
      "\t---------------------------------------------------------------\n",
      "\ttrain_model-accuracy_no_oov:\t\t76.414%\t\t79.367%\n",
      "\tval_model-accuracy_no_oov:  \t\t3.864%\t\t2.778%\n",
      "\ttest_model-accuracy_no_oov: \t\t4.225%\t\t3.118%\n",
      "Epoch: 62\n"
     ]
    },
    {
     "data": {
      "application/vnd.jupyter.widget-view+json": {
       "model_id": "",
       "version_major": 2,
       "version_minor": 0
      },
      "text/plain": [
       "Evaluating agents:   0%|          | 0/100 [00:00<?, ?it/s]"
      ]
     },
     "metadata": {},
     "output_type": "display_data"
    },
    {
     "name": "stdout",
     "output_type": "stream",
     "text": [
      "\tMetric                      \t\tMean\t\tMedian\n",
      "\t---------------------------------------------------------------\n",
      "\ttrain_model-accuracy_no_oov:\t\t76.549%\t\t79.136%\n",
      "\tval_model-accuracy_no_oov:  \t\t3.895%\t\t2.778%\n",
      "\ttest_model-accuracy_no_oov: \t\t4.242%\t\t3.118%\n",
      "Epoch: 63\n"
     ]
    },
    {
     "data": {
      "application/vnd.jupyter.widget-view+json": {
       "model_id": "",
       "version_major": 2,
       "version_minor": 0
      },
      "text/plain": [
       "Evaluating agents:   0%|          | 0/100 [00:00<?, ?it/s]"
      ]
     },
     "metadata": {},
     "output_type": "display_data"
    },
    {
     "name": "stdout",
     "output_type": "stream",
     "text": [
      "\tMetric                      \t\tMean\t\tMedian\n",
      "\t---------------------------------------------------------------\n",
      "\ttrain_model-accuracy_no_oov:\t\t76.440%\t\t78.784%\n",
      "\tval_model-accuracy_no_oov:  \t\t3.927%\t\t2.778%\n",
      "\ttest_model-accuracy_no_oov: \t\t4.235%\t\t3.200%\n",
      "Epoch: 64\n"
     ]
    },
    {
     "data": {
      "application/vnd.jupyter.widget-view+json": {
       "model_id": "",
       "version_major": 2,
       "version_minor": 0
      },
      "text/plain": [
       "Evaluating agents:   0%|          | 0/100 [00:00<?, ?it/s]"
      ]
     },
     "metadata": {},
     "output_type": "display_data"
    },
    {
     "name": "stdout",
     "output_type": "stream",
     "text": [
      "\tMetric                      \t\tMean\t\tMedian\n",
      "\t---------------------------------------------------------------\n",
      "\ttrain_model-accuracy_no_oov:\t\t76.376%\t\t78.570%\n",
      "\tval_model-accuracy_no_oov:  \t\t3.904%\t\t2.778%\n",
      "\ttest_model-accuracy_no_oov: \t\t4.277%\t\t3.391%\n",
      "Epoch: 65\n"
     ]
    },
    {
     "data": {
      "application/vnd.jupyter.widget-view+json": {
       "model_id": "",
       "version_major": 2,
       "version_minor": 0
      },
      "text/plain": [
       "Evaluating agents:   0%|          | 0/100 [00:00<?, ?it/s]"
      ]
     },
     "metadata": {},
     "output_type": "display_data"
    },
    {
     "name": "stdout",
     "output_type": "stream",
     "text": [
      "\tMetric                      \t\tMean\t\tMedian\n",
      "\t---------------------------------------------------------------\n",
      "\ttrain_model-accuracy_no_oov:\t\t76.532%\t\t78.570%\n",
      "\tval_model-accuracy_no_oov:  \t\t3.894%\t\t2.778%\n",
      "\ttest_model-accuracy_no_oov: \t\t4.257%\t\t3.200%\n",
      "Epoch: 66\n"
     ]
    },
    {
     "data": {
      "application/vnd.jupyter.widget-view+json": {
       "model_id": "",
       "version_major": 2,
       "version_minor": 0
      },
      "text/plain": [
       "Evaluating agents:   0%|          | 0/100 [00:00<?, ?it/s]"
      ]
     },
     "metadata": {},
     "output_type": "display_data"
    },
    {
     "name": "stdout",
     "output_type": "stream",
     "text": [
      "\tMetric                      \t\tMean\t\tMedian\n",
      "\t---------------------------------------------------------------\n",
      "\ttrain_model-accuracy_no_oov:\t\t76.661%\t\t78.788%\n",
      "\tval_model-accuracy_no_oov:  \t\t3.892%\t\t2.778%\n",
      "\ttest_model-accuracy_no_oov: \t\t4.242%\t\t3.314%\n",
      "Epoch: 67\n"
     ]
    },
    {
     "data": {
      "application/vnd.jupyter.widget-view+json": {
       "model_id": "",
       "version_major": 2,
       "version_minor": 0
      },
      "text/plain": [
       "Evaluating agents:   0%|          | 0/100 [00:00<?, ?it/s]"
      ]
     },
     "metadata": {},
     "output_type": "display_data"
    },
    {
     "name": "stdout",
     "output_type": "stream",
     "text": [
      "\tMetric                      \t\tMean\t\tMedian\n",
      "\t---------------------------------------------------------------\n",
      "\ttrain_model-accuracy_no_oov:\t\t76.677%\t\t78.788%\n",
      "\tval_model-accuracy_no_oov:  \t\t3.884%\t\t2.778%\n",
      "\ttest_model-accuracy_no_oov: \t\t4.221%\t\t3.200%\n",
      "Epoch: 68\n"
     ]
    },
    {
     "data": {
      "application/vnd.jupyter.widget-view+json": {
       "model_id": "",
       "version_major": 2,
       "version_minor": 0
      },
      "text/plain": [
       "Evaluating agents:   0%|          | 0/100 [00:00<?, ?it/s]"
      ]
     },
     "metadata": {},
     "output_type": "display_data"
    },
    {
     "name": "stdout",
     "output_type": "stream",
     "text": [
      "\tMetric                      \t\tMean\t\tMedian\n",
      "\t---------------------------------------------------------------\n",
      "\ttrain_model-accuracy_no_oov:\t\t76.719%\t\t78.788%\n",
      "\tval_model-accuracy_no_oov:  \t\t3.878%\t\t2.778%\n",
      "\ttest_model-accuracy_no_oov: \t\t4.230%\t\t3.200%\n",
      "Epoch: 69\n"
     ]
    },
    {
     "data": {
      "application/vnd.jupyter.widget-view+json": {
       "model_id": "",
       "version_major": 2,
       "version_minor": 0
      },
      "text/plain": [
       "Evaluating agents:   0%|          | 0/100 [00:00<?, ?it/s]"
      ]
     },
     "metadata": {},
     "output_type": "display_data"
    },
    {
     "name": "stdout",
     "output_type": "stream",
     "text": [
      "\tMetric                      \t\tMean\t\tMedian\n",
      "\t---------------------------------------------------------------\n",
      "\ttrain_model-accuracy_no_oov:\t\t76.803%\t\t79.136%\n",
      "\tval_model-accuracy_no_oov:  \t\t3.889%\t\t2.778%\n",
      "\ttest_model-accuracy_no_oov: \t\t4.273%\t\t3.454%\n",
      "Epoch: 70\n"
     ]
    },
    {
     "data": {
      "application/vnd.jupyter.widget-view+json": {
       "model_id": "",
       "version_major": 2,
       "version_minor": 0
      },
      "text/plain": [
       "Evaluating agents:   0%|          | 0/100 [00:00<?, ?it/s]"
      ]
     },
     "metadata": {},
     "output_type": "display_data"
    },
    {
     "name": "stdout",
     "output_type": "stream",
     "text": [
      "\tMetric                      \t\tMean\t\tMedian\n",
      "\t---------------------------------------------------------------\n",
      "\ttrain_model-accuracy_no_oov:\t\t76.873%\t\t78.441%\n",
      "\tval_model-accuracy_no_oov:  \t\t3.875%\t\t2.778%\n",
      "\ttest_model-accuracy_no_oov: \t\t4.236%\t\t3.023%\n",
      "Epoch: 71\n"
     ]
    },
    {
     "data": {
      "application/vnd.jupyter.widget-view+json": {
       "model_id": "",
       "version_major": 2,
       "version_minor": 0
      },
      "text/plain": [
       "Evaluating agents:   0%|          | 0/100 [00:00<?, ?it/s]"
      ]
     },
     "metadata": {},
     "output_type": "display_data"
    },
    {
     "name": "stdout",
     "output_type": "stream",
     "text": [
      "\tMetric                      \t\tMean\t\tMedian\n",
      "\t---------------------------------------------------------------\n",
      "\ttrain_model-accuracy_no_oov:\t\t76.913%\t\t78.788%\n",
      "\tval_model-accuracy_no_oov:  \t\t3.900%\t\t2.778%\n",
      "\ttest_model-accuracy_no_oov: \t\t4.224%\t\t3.317%\n",
      "Epoch: 72\n"
     ]
    },
    {
     "data": {
      "application/vnd.jupyter.widget-view+json": {
       "model_id": "",
       "version_major": 2,
       "version_minor": 0
      },
      "text/plain": [
       "Evaluating agents:   0%|          | 0/100 [00:00<?, ?it/s]"
      ]
     },
     "metadata": {},
     "output_type": "display_data"
    },
    {
     "name": "stdout",
     "output_type": "stream",
     "text": [
      "\tMetric                      \t\tMean\t\tMedian\n",
      "\t---------------------------------------------------------------\n",
      "\ttrain_model-accuracy_no_oov:\t\t76.991%\t\t79.367%\n",
      "\tval_model-accuracy_no_oov:  \t\t3.877%\t\t2.778%\n",
      "\ttest_model-accuracy_no_oov: \t\t4.245%\t\t3.243%\n",
      "Epoch: 73\n"
     ]
    },
    {
     "data": {
      "application/vnd.jupyter.widget-view+json": {
       "model_id": "",
       "version_major": 2,
       "version_minor": 0
      },
      "text/plain": [
       "Evaluating agents:   0%|          | 0/100 [00:00<?, ?it/s]"
      ]
     },
     "metadata": {},
     "output_type": "display_data"
    },
    {
     "name": "stdout",
     "output_type": "stream",
     "text": [
      "\tMetric                      \t\tMean\t\tMedian\n",
      "\t---------------------------------------------------------------\n",
      "\ttrain_model-accuracy_no_oov:\t\t76.933%\t\t79.483%\n",
      "\tval_model-accuracy_no_oov:  \t\t3.888%\t\t2.778%\n",
      "\ttest_model-accuracy_no_oov: \t\t4.232%\t\t3.243%\n",
      "Epoch: 74\n"
     ]
    },
    {
     "data": {
      "application/vnd.jupyter.widget-view+json": {
       "model_id": "",
       "version_major": 2,
       "version_minor": 0
      },
      "text/plain": [
       "Evaluating agents:   0%|          | 0/100 [00:00<?, ?it/s]"
      ]
     },
     "metadata": {},
     "output_type": "display_data"
    },
    {
     "name": "stdout",
     "output_type": "stream",
     "text": [
      "\tMetric                      \t\tMean\t\tMedian\n",
      "\t---------------------------------------------------------------\n",
      "\ttrain_model-accuracy_no_oov:\t\t76.894%\t\t79.483%\n",
      "\tval_model-accuracy_no_oov:  \t\t3.882%\t\t2.778%\n",
      "\ttest_model-accuracy_no_oov: \t\t4.216%\t\t3.046%\n",
      "Epoch: 75\n"
     ]
    },
    {
     "data": {
      "application/vnd.jupyter.widget-view+json": {
       "model_id": "",
       "version_major": 2,
       "version_minor": 0
      },
      "text/plain": [
       "Evaluating agents:   0%|          | 0/100 [00:00<?, ?it/s]"
      ]
     },
     "metadata": {},
     "output_type": "display_data"
    },
    {
     "name": "stdout",
     "output_type": "stream",
     "text": [
      "\tMetric                      \t\tMean\t\tMedian\n",
      "\t---------------------------------------------------------------\n",
      "\ttrain_model-accuracy_no_oov:\t\t76.858%\t\t78.570%\n",
      "\tval_model-accuracy_no_oov:  \t\t3.873%\t\t2.778%\n",
      "\ttest_model-accuracy_no_oov: \t\t4.272%\t\t3.046%\n",
      "Epoch: 76\n"
     ]
    },
    {
     "data": {
      "application/vnd.jupyter.widget-view+json": {
       "model_id": "",
       "version_major": 2,
       "version_minor": 0
      },
      "text/plain": [
       "Evaluating agents:   0%|          | 0/100 [00:00<?, ?it/s]"
      ]
     },
     "metadata": {},
     "output_type": "display_data"
    },
    {
     "name": "stdout",
     "output_type": "stream",
     "text": [
      "\tMetric                      \t\tMean\t\tMedian\n",
      "\t---------------------------------------------------------------\n",
      "\ttrain_model-accuracy_no_oov:\t\t76.938%\t\t78.570%\n",
      "\tval_model-accuracy_no_oov:  \t\t3.882%\t\t2.814%\n",
      "\ttest_model-accuracy_no_oov: \t\t4.286%\t\t3.144%\n",
      "Epoch: 77\n"
     ]
    },
    {
     "data": {
      "application/vnd.jupyter.widget-view+json": {
       "model_id": "",
       "version_major": 2,
       "version_minor": 0
      },
      "text/plain": [
       "Evaluating agents:   0%|          | 0/100 [00:00<?, ?it/s]"
      ]
     },
     "metadata": {},
     "output_type": "display_data"
    },
    {
     "name": "stdout",
     "output_type": "stream",
     "text": [
      "\tMetric                      \t\tMean\t\tMedian\n",
      "\t---------------------------------------------------------------\n",
      "\ttrain_model-accuracy_no_oov:\t\t76.918%\t\t78.570%\n",
      "\tval_model-accuracy_no_oov:  \t\t3.906%\t\t2.778%\n",
      "\ttest_model-accuracy_no_oov: \t\t4.278%\t\t3.144%\n",
      "Epoch: 78\n"
     ]
    },
    {
     "data": {
      "application/vnd.jupyter.widget-view+json": {
       "model_id": "",
       "version_major": 2,
       "version_minor": 0
      },
      "text/plain": [
       "Evaluating agents:   0%|          | 0/100 [00:00<?, ?it/s]"
      ]
     },
     "metadata": {},
     "output_type": "display_data"
    },
    {
     "name": "stdout",
     "output_type": "stream",
     "text": [
      "\tMetric                      \t\tMean\t\tMedian\n",
      "\t---------------------------------------------------------------\n",
      "\ttrain_model-accuracy_no_oov:\t\t76.948%\t\t79.367%\n",
      "\tval_model-accuracy_no_oov:  \t\t3.890%\t\t2.778%\n",
      "\ttest_model-accuracy_no_oov: \t\t4.256%\t\t3.144%\n",
      "Epoch: 79\n"
     ]
    },
    {
     "data": {
      "application/vnd.jupyter.widget-view+json": {
       "model_id": "",
       "version_major": 2,
       "version_minor": 0
      },
      "text/plain": [
       "Evaluating agents:   0%|          | 0/100 [00:00<?, ?it/s]"
      ]
     },
     "metadata": {},
     "output_type": "display_data"
    },
    {
     "name": "stdout",
     "output_type": "stream",
     "text": [
      "\tMetric                      \t\tMean\t\tMedian\n",
      "\t---------------------------------------------------------------\n",
      "\ttrain_model-accuracy_no_oov:\t\t76.883%\t\t78.570%\n",
      "\tval_model-accuracy_no_oov:  \t\t3.877%\t\t2.778%\n",
      "\ttest_model-accuracy_no_oov: \t\t4.243%\t\t3.046%\n",
      "Epoch: 80\n"
     ]
    },
    {
     "data": {
      "application/vnd.jupyter.widget-view+json": {
       "model_id": "",
       "version_major": 2,
       "version_minor": 0
      },
      "text/plain": [
       "Evaluating agents:   0%|          | 0/100 [00:00<?, ?it/s]"
      ]
     },
     "metadata": {},
     "output_type": "display_data"
    },
    {
     "name": "stdout",
     "output_type": "stream",
     "text": [
      "\tMetric                      \t\tMean\t\tMedian\n",
      "\t---------------------------------------------------------------\n",
      "\ttrain_model-accuracy_no_oov:\t\t76.918%\t\t78.570%\n",
      "\tval_model-accuracy_no_oov:  \t\t3.872%\t\t2.778%\n",
      "\ttest_model-accuracy_no_oov: \t\t4.276%\t\t3.118%\n",
      "Epoch: 81\n"
     ]
    },
    {
     "data": {
      "application/vnd.jupyter.widget-view+json": {
       "model_id": "",
       "version_major": 2,
       "version_minor": 0
      },
      "text/plain": [
       "Evaluating agents:   0%|          | 0/100 [00:00<?, ?it/s]"
      ]
     },
     "metadata": {},
     "output_type": "display_data"
    },
    {
     "name": "stdout",
     "output_type": "stream",
     "text": [
      "\tMetric                      \t\tMean\t\tMedian\n",
      "\t---------------------------------------------------------------\n",
      "\ttrain_model-accuracy_no_oov:\t\t76.866%\t\t79.367%\n",
      "\tval_model-accuracy_no_oov:  \t\t3.878%\t\t2.778%\n",
      "\ttest_model-accuracy_no_oov: \t\t4.281%\t\t3.144%\n",
      "Epoch: 82\n"
     ]
    },
    {
     "data": {
      "application/vnd.jupyter.widget-view+json": {
       "model_id": "",
       "version_major": 2,
       "version_minor": 0
      },
      "text/plain": [
       "Evaluating agents:   0%|          | 0/100 [00:00<?, ?it/s]"
      ]
     },
     "metadata": {},
     "output_type": "display_data"
    },
    {
     "name": "stdout",
     "output_type": "stream",
     "text": [
      "\tMetric                      \t\tMean\t\tMedian\n",
      "\t---------------------------------------------------------------\n",
      "\ttrain_model-accuracy_no_oov:\t\t76.933%\t\t79.367%\n",
      "\tval_model-accuracy_no_oov:  \t\t3.885%\t\t2.814%\n",
      "\ttest_model-accuracy_no_oov: \t\t4.261%\t\t3.118%\n",
      "Epoch: 83\n"
     ]
    },
    {
     "data": {
      "application/vnd.jupyter.widget-view+json": {
       "model_id": "",
       "version_major": 2,
       "version_minor": 0
      },
      "text/plain": [
       "Evaluating agents:   0%|          | 0/100 [00:00<?, ?it/s]"
      ]
     },
     "metadata": {},
     "output_type": "display_data"
    },
    {
     "name": "stdout",
     "output_type": "stream",
     "text": [
      "\tMetric                      \t\tMean\t\tMedian\n",
      "\t---------------------------------------------------------------\n",
      "\ttrain_model-accuracy_no_oov:\t\t76.888%\t\t78.788%\n",
      "\tval_model-accuracy_no_oov:  \t\t3.880%\t\t2.778%\n",
      "\ttest_model-accuracy_no_oov: \t\t4.270%\t\t3.118%\n",
      "Epoch: 84\n"
     ]
    },
    {
     "data": {
      "application/vnd.jupyter.widget-view+json": {
       "model_id": "",
       "version_major": 2,
       "version_minor": 0
      },
      "text/plain": [
       "Evaluating agents:   0%|          | 0/100 [00:00<?, ?it/s]"
      ]
     },
     "metadata": {},
     "output_type": "display_data"
    },
    {
     "name": "stdout",
     "output_type": "stream",
     "text": [
      "\tMetric                      \t\tMean\t\tMedian\n",
      "\t---------------------------------------------------------------\n",
      "\ttrain_model-accuracy_no_oov:\t\t76.816%\t\t78.570%\n",
      "\tval_model-accuracy_no_oov:  \t\t3.883%\t\t2.778%\n",
      "\ttest_model-accuracy_no_oov: \t\t4.264%\t\t3.118%\n",
      "Epoch: 85\n"
     ]
    },
    {
     "data": {
      "application/vnd.jupyter.widget-view+json": {
       "model_id": "",
       "version_major": 2,
       "version_minor": 0
      },
      "text/plain": [
       "Evaluating agents:   0%|          | 0/100 [00:00<?, ?it/s]"
      ]
     },
     "metadata": {},
     "output_type": "display_data"
    },
    {
     "name": "stdout",
     "output_type": "stream",
     "text": [
      "\tMetric                      \t\tMean\t\tMedian\n",
      "\t---------------------------------------------------------------\n",
      "\ttrain_model-accuracy_no_oov:\t\t76.869%\t\t79.367%\n",
      "\tval_model-accuracy_no_oov:  \t\t3.877%\t\t2.778%\n",
      "\ttest_model-accuracy_no_oov: \t\t4.205%\t\t3.131%\n",
      "Epoch: 86\n"
     ]
    },
    {
     "data": {
      "application/vnd.jupyter.widget-view+json": {
       "model_id": "",
       "version_major": 2,
       "version_minor": 0
      },
      "text/plain": [
       "Evaluating agents:   0%|          | 0/100 [00:00<?, ?it/s]"
      ]
     },
     "metadata": {},
     "output_type": "display_data"
    },
    {
     "name": "stdout",
     "output_type": "stream",
     "text": [
      "\tMetric                      \t\tMean\t\tMedian\n",
      "\t---------------------------------------------------------------\n",
      "\ttrain_model-accuracy_no_oov:\t\t76.886%\t\t78.570%\n",
      "\tval_model-accuracy_no_oov:  \t\t3.882%\t\t2.778%\n",
      "\ttest_model-accuracy_no_oov: \t\t4.206%\t\t3.131%\n",
      "Epoch: 87\n"
     ]
    },
    {
     "data": {
      "application/vnd.jupyter.widget-view+json": {
       "model_id": "",
       "version_major": 2,
       "version_minor": 0
      },
      "text/plain": [
       "Evaluating agents:   0%|          | 0/100 [00:00<?, ?it/s]"
      ]
     },
     "metadata": {},
     "output_type": "display_data"
    },
    {
     "name": "stdout",
     "output_type": "stream",
     "text": [
      "\tMetric                      \t\tMean\t\tMedian\n",
      "\t---------------------------------------------------------------\n",
      "\ttrain_model-accuracy_no_oov:\t\t76.886%\t\t79.367%\n",
      "\tval_model-accuracy_no_oov:  \t\t3.877%\t\t2.778%\n",
      "\ttest_model-accuracy_no_oov: \t\t4.200%\t\t3.200%\n",
      "Epoch: 88\n"
     ]
    },
    {
     "data": {
      "application/vnd.jupyter.widget-view+json": {
       "model_id": "",
       "version_major": 2,
       "version_minor": 0
      },
      "text/plain": [
       "Evaluating agents:   0%|          | 0/100 [00:00<?, ?it/s]"
      ]
     },
     "metadata": {},
     "output_type": "display_data"
    },
    {
     "name": "stdout",
     "output_type": "stream",
     "text": [
      "\tMetric                      \t\tMean\t\tMedian\n",
      "\t---------------------------------------------------------------\n",
      "\ttrain_model-accuracy_no_oov:\t\t76.907%\t\t79.136%\n",
      "\tval_model-accuracy_no_oov:  \t\t3.870%\t\t2.778%\n",
      "\ttest_model-accuracy_no_oov: \t\t4.216%\t\t3.200%\n",
      "Epoch: 89\n"
     ]
    },
    {
     "data": {
      "application/vnd.jupyter.widget-view+json": {
       "model_id": "",
       "version_major": 2,
       "version_minor": 0
      },
      "text/plain": [
       "Evaluating agents:   0%|          | 0/100 [00:00<?, ?it/s]"
      ]
     },
     "metadata": {},
     "output_type": "display_data"
    },
    {
     "name": "stdout",
     "output_type": "stream",
     "text": [
      "\tMetric                      \t\tMean\t\tMedian\n",
      "\t---------------------------------------------------------------\n",
      "\ttrain_model-accuracy_no_oov:\t\t76.939%\t\t79.367%\n",
      "\tval_model-accuracy_no_oov:  \t\t3.879%\t\t2.778%\n",
      "\ttest_model-accuracy_no_oov: \t\t4.226%\t\t3.346%\n",
      "Epoch: 90\n"
     ]
    },
    {
     "data": {
      "application/vnd.jupyter.widget-view+json": {
       "model_id": "",
       "version_major": 2,
       "version_minor": 0
      },
      "text/plain": [
       "Evaluating agents:   0%|          | 0/100 [00:00<?, ?it/s]"
      ]
     },
     "metadata": {},
     "output_type": "display_data"
    },
    {
     "name": "stdout",
     "output_type": "stream",
     "text": [
      "\tMetric                      \t\tMean\t\tMedian\n",
      "\t---------------------------------------------------------------\n",
      "\ttrain_model-accuracy_no_oov:\t\t76.943%\t\t79.367%\n",
      "\tval_model-accuracy_no_oov:  \t\t3.903%\t\t2.814%\n",
      "\ttest_model-accuracy_no_oov: \t\t4.239%\t\t3.474%\n",
      "Epoch: 91\n"
     ]
    },
    {
     "data": {
      "application/vnd.jupyter.widget-view+json": {
       "model_id": "",
       "version_major": 2,
       "version_minor": 0
      },
      "text/plain": [
       "Evaluating agents:   0%|          | 0/100 [00:00<?, ?it/s]"
      ]
     },
     "metadata": {},
     "output_type": "display_data"
    },
    {
     "name": "stdout",
     "output_type": "stream",
     "text": [
      "\tMetric                      \t\tMean\t\tMedian\n",
      "\t---------------------------------------------------------------\n",
      "\ttrain_model-accuracy_no_oov:\t\t77.039%\t\t79.136%\n",
      "\tval_model-accuracy_no_oov:  \t\t3.873%\t\t2.778%\n",
      "\ttest_model-accuracy_no_oov: \t\t4.252%\t\t3.474%\n",
      "Epoch: 92\n"
     ]
    },
    {
     "data": {
      "application/vnd.jupyter.widget-view+json": {
       "model_id": "",
       "version_major": 2,
       "version_minor": 0
      },
      "text/plain": [
       "Evaluating agents:   0%|          | 0/100 [00:00<?, ?it/s]"
      ]
     },
     "metadata": {},
     "output_type": "display_data"
    },
    {
     "name": "stdout",
     "output_type": "stream",
     "text": [
      "\tMetric                      \t\tMean\t\tMedian\n",
      "\t---------------------------------------------------------------\n",
      "\ttrain_model-accuracy_no_oov:\t\t77.032%\t\t79.367%\n",
      "\tval_model-accuracy_no_oov:  \t\t3.852%\t\t2.778%\n",
      "\ttest_model-accuracy_no_oov: \t\t4.262%\t\t3.388%\n",
      "Epoch: 93\n"
     ]
    },
    {
     "data": {
      "application/vnd.jupyter.widget-view+json": {
       "model_id": "",
       "version_major": 2,
       "version_minor": 0
      },
      "text/plain": [
       "Evaluating agents:   0%|          | 0/100 [00:00<?, ?it/s]"
      ]
     },
     "metadata": {},
     "output_type": "display_data"
    },
    {
     "name": "stdout",
     "output_type": "stream",
     "text": [
      "\tMetric                      \t\tMean\t\tMedian\n",
      "\t---------------------------------------------------------------\n",
      "\ttrain_model-accuracy_no_oov:\t\t77.096%\t\t79.367%\n",
      "\tval_model-accuracy_no_oov:  \t\t3.865%\t\t2.778%\n",
      "\ttest_model-accuracy_no_oov: \t\t4.262%\t\t3.370%\n",
      "Epoch: 94\n"
     ]
    },
    {
     "data": {
      "application/vnd.jupyter.widget-view+json": {
       "model_id": "",
       "version_major": 2,
       "version_minor": 0
      },
      "text/plain": [
       "Evaluating agents:   0%|          | 0/100 [00:00<?, ?it/s]"
      ]
     },
     "metadata": {},
     "output_type": "display_data"
    },
    {
     "name": "stdout",
     "output_type": "stream",
     "text": [
      "\tMetric                      \t\tMean\t\tMedian\n",
      "\t---------------------------------------------------------------\n",
      "\ttrain_model-accuracy_no_oov:\t\t77.007%\t\t79.136%\n",
      "\tval_model-accuracy_no_oov:  \t\t3.869%\t\t2.778%\n",
      "\ttest_model-accuracy_no_oov: \t\t4.232%\t\t3.474%\n",
      "Epoch: 95\n"
     ]
    },
    {
     "data": {
      "application/vnd.jupyter.widget-view+json": {
       "model_id": "",
       "version_major": 2,
       "version_minor": 0
      },
      "text/plain": [
       "Evaluating agents:   0%|          | 0/100 [00:00<?, ?it/s]"
      ]
     },
     "metadata": {},
     "output_type": "display_data"
    },
    {
     "name": "stdout",
     "output_type": "stream",
     "text": [
      "\tMetric                      \t\tMean\t\tMedian\n",
      "\t---------------------------------------------------------------\n",
      "\ttrain_model-accuracy_no_oov:\t\t77.023%\t\t79.483%\n",
      "\tval_model-accuracy_no_oov:  \t\t3.875%\t\t2.778%\n",
      "\ttest_model-accuracy_no_oov: \t\t4.228%\t\t3.144%\n",
      "Epoch: 96\n"
     ]
    },
    {
     "data": {
      "application/vnd.jupyter.widget-view+json": {
       "model_id": "",
       "version_major": 2,
       "version_minor": 0
      },
      "text/plain": [
       "Evaluating agents:   0%|          | 0/100 [00:00<?, ?it/s]"
      ]
     },
     "metadata": {},
     "output_type": "display_data"
    },
    {
     "name": "stdout",
     "output_type": "stream",
     "text": [
      "\tMetric                      \t\tMean\t\tMedian\n",
      "\t---------------------------------------------------------------\n",
      "\ttrain_model-accuracy_no_oov:\t\t77.037%\t\t79.136%\n",
      "\tval_model-accuracy_no_oov:  \t\t3.880%\t\t2.778%\n",
      "\ttest_model-accuracy_no_oov: \t\t4.241%\t\t3.144%\n",
      "Epoch: 97\n"
     ]
    },
    {
     "data": {
      "application/vnd.jupyter.widget-view+json": {
       "model_id": "",
       "version_major": 2,
       "version_minor": 0
      },
      "text/plain": [
       "Evaluating agents:   0%|          | 0/100 [00:00<?, ?it/s]"
      ]
     },
     "metadata": {},
     "output_type": "display_data"
    },
    {
     "name": "stdout",
     "output_type": "stream",
     "text": [
      "\tMetric                      \t\tMean\t\tMedian\n",
      "\t---------------------------------------------------------------\n",
      "\ttrain_model-accuracy_no_oov:\t\t76.990%\t\t78.741%\n",
      "\tval_model-accuracy_no_oov:  \t\t3.855%\t\t2.778%\n",
      "\ttest_model-accuracy_no_oov: \t\t4.226%\t\t3.200%\n",
      "Epoch: 98\n"
     ]
    },
    {
     "data": {
      "application/vnd.jupyter.widget-view+json": {
       "model_id": "",
       "version_major": 2,
       "version_minor": 0
      },
      "text/plain": [
       "Evaluating agents:   0%|          | 0/100 [00:00<?, ?it/s]"
      ]
     },
     "metadata": {},
     "output_type": "display_data"
    },
    {
     "name": "stdout",
     "output_type": "stream",
     "text": [
      "\tMetric                      \t\tMean\t\tMedian\n",
      "\t---------------------------------------------------------------\n",
      "\ttrain_model-accuracy_no_oov:\t\t76.924%\t\t78.578%\n",
      "\tval_model-accuracy_no_oov:  \t\t3.854%\t\t2.778%\n",
      "\ttest_model-accuracy_no_oov: \t\t4.198%\t\t3.118%\n",
      "Epoch: 99\n"
     ]
    },
    {
     "data": {
      "application/vnd.jupyter.widget-view+json": {
       "model_id": "",
       "version_major": 2,
       "version_minor": 0
      },
      "text/plain": [
       "Evaluating agents:   0%|          | 0/100 [00:00<?, ?it/s]"
      ]
     },
     "metadata": {},
     "output_type": "display_data"
    },
    {
     "name": "stdout",
     "output_type": "stream",
     "text": [
      "\tMetric                      \t\tMean\t\tMedian\n",
      "\t---------------------------------------------------------------\n",
      "\ttrain_model-accuracy_no_oov:\t\t76.860%\t\t78.570%\n",
      "\tval_model-accuracy_no_oov:  \t\t3.845%\t\t2.778%\n",
      "\ttest_model-accuracy_no_oov: \t\t4.191%\t\t3.144%\n",
      "Saved to log/P2PAgent_100A_100E_50B_4V_22-02-2022_03_13.json\n"
     ]
    }
   ],
   "source": [
    "train_agents_independent(100, 200)"
   ]
  },
  {
   "cell_type": "code",
   "execution_count": 2,
   "id": "3ad065ab",
   "metadata": {},
   "outputs": [],
   "source": [
    "from environ import set_visible_devices\n",
    "set_visible_devices('CPU')\n",
    "\n",
    "from p2p.train import do_train\n",
    "from p2p.agents import P2PAgent\n",
    "from p2p.p2p_utils import *\n",
    "from data import clients_data\n",
    "\n",
    "from datetime import datetime\n",
    "\n",
    "def join_ds(ds):\n",
    "    x, y = [], []\n",
    "    for dx, dy in ds:\n",
    "        x.extend(dx)\n",
    "        y.extend(dy)\n",
    "    return np.array(x), np.array(y)\n",
    "    \n",
    "\n",
    "def train_single(num_clients, st_cl):\n",
    "    batch_size=50\n",
    "    set_seed(123)\n",
    "\n",
    "    model_pars={\"model_v\": 4, \"lr\": 0.005, \"default_weights\": True}\n",
    "    train_clients, val_clients, test_clients = clients_data.load_clients_data(num_clients, st_cl)\n",
    "    \n",
    "    x, y = join_ds(train_clients)\n",
    "    \n",
    "    model = create_model(**model_pars)\n",
    "    hist = []\n",
    "    for e in range(100):\n",
    "        model.fit(x, y, epochs=1, batch_size=batch_size)\n",
    "        print('Epoch: {}'.format(e + 1))\n",
    "        test_acc = np.array([model.evaluate(test_x, test_y, verbose=0) for test_x, test_y in test_clients])[:, 1]\n",
    "        print(\"\\tTest\\n\\t\\tMean: {:.3%}\\tMedian: {:.3%}\".format(np.average(test_acc), np.median(test_acc)))\n",
    "        hist.append(test_acc)\n",
    "    \n",
    "    filename = \"Single_100A_100E_50B_4V_{}\".format(datetime.now().strftime(\"%d-%m-%Y_%H_%M\"))\n",
    "    save_json('log/' + filename + '.json', {'agents': hist})\n"
   ]
  },
  {
   "cell_type": "code",
   "execution_count": 3,
   "id": "139801d0",
   "metadata": {
    "collapsed": true
   },
   "outputs": [
    {
     "name": "stdout",
     "output_type": "stream",
     "text": [
      "Seed: 123\n",
      "1364/1364 [==============================] - 20s 13ms/step - loss: 6.7619 - accuracy_no_oov: 0.0802\n",
      "Epoch: 1\n",
      "\tTest\n",
      "\t\tMean: 8.353%\tMedian: 7.934%\n",
      "1364/1364 [==============================] - 18s 13ms/step - loss: 5.7302 - accuracy_no_oov: 0.1031\n",
      "Epoch: 2\n",
      "\tTest\n",
      "\t\tMean: 8.320%\tMedian: 8.005%\n",
      "1364/1364 [==============================] - 18s 13ms/step - loss: 5.1816 - accuracy_no_oov: 0.1253\n",
      "Epoch: 3\n",
      "\tTest\n",
      "\t\tMean: 8.009%\tMedian: 7.641%\n",
      "1364/1364 [==============================] - 18s 13ms/step - loss: 4.7007 - accuracy_no_oov: 0.1499\n",
      "Epoch: 4\n",
      "\tTest\n",
      "\t\tMean: 8.179%\tMedian: 7.932%\n",
      "1364/1364 [==============================] - 18s 13ms/step - loss: 4.2604 - accuracy_no_oov: 0.1844\n",
      "Epoch: 5\n",
      "\tTest\n",
      "\t\tMean: 7.679%\tMedian: 7.606%\n",
      "1364/1364 [==============================] - 18s 13ms/step - loss: 3.9036 - accuracy_no_oov: 0.2257\n",
      "Epoch: 6\n",
      "\tTest\n",
      "\t\tMean: 7.722%\tMedian: 7.568%\n",
      "1364/1364 [==============================] - 18s 13ms/step - loss: 3.6319 - accuracy_no_oov: 0.2614\n",
      "Epoch: 7\n",
      "\tTest\n",
      "\t\tMean: 7.563%\tMedian: 7.332%\n",
      "1364/1364 [==============================] - 18s 13ms/step - loss: 3.4170 - accuracy_no_oov: 0.2919\n",
      "Epoch: 8\n",
      "\tTest\n",
      "\t\tMean: 7.444%\tMedian: 7.143%\n",
      "1364/1364 [==============================] - 18s 13ms/step - loss: 3.2489 - accuracy_no_oov: 0.3123\n",
      "Epoch: 9\n",
      "\tTest\n",
      "\t\tMean: 7.268%\tMedian: 6.736%\n",
      "1364/1364 [==============================] - 18s 13ms/step - loss: 3.1314 - accuracy_no_oov: 0.3291\n",
      "Epoch: 10\n",
      "\tTest\n",
      "\t\tMean: 7.621%\tMedian: 7.222%\n",
      "1364/1364 [==============================] - 18s 13ms/step - loss: 3.0268 - accuracy_no_oov: 0.3438\n",
      "Epoch: 11\n",
      "\tTest\n",
      "\t\tMean: 7.836%\tMedian: 7.334%\n",
      "1364/1364 [==============================] - 18s 13ms/step - loss: 2.9465 - accuracy_no_oov: 0.3528\n",
      "Epoch: 12\n",
      "\tTest\n",
      "\t\tMean: 7.179%\tMedian: 6.729%\n",
      "1364/1364 [==============================] - 18s 13ms/step - loss: 2.8775 - accuracy_no_oov: 0.3620\n",
      "Epoch: 13\n",
      "\tTest\n",
      "\t\tMean: 7.267%\tMedian: 6.544%\n",
      "1364/1364 [==============================] - 18s 13ms/step - loss: 2.8261 - accuracy_no_oov: 0.3722\n",
      "Epoch: 14\n",
      "\tTest\n",
      "\t\tMean: 7.401%\tMedian: 7.054%\n",
      "1364/1364 [==============================] - 18s 13ms/step - loss: 2.7961 - accuracy_no_oov: 0.3763\n",
      "Epoch: 15\n",
      "\tTest\n",
      "\t\tMean: 7.294%\tMedian: 6.755%\n",
      "1364/1364 [==============================] - 18s 13ms/step - loss: 2.7556 - accuracy_no_oov: 0.3786\n",
      "Epoch: 16\n",
      "\tTest\n",
      "\t\tMean: 7.605%\tMedian: 7.051%\n",
      "1364/1364 [==============================] - 18s 13ms/step - loss: 2.6968 - accuracy_no_oov: 0.3885\n",
      "Epoch: 17\n",
      "\tTest\n",
      "\t\tMean: 7.617%\tMedian: 7.102%\n",
      "1364/1364 [==============================] - 18s 13ms/step - loss: 2.6777 - accuracy_no_oov: 0.3920\n",
      "Epoch: 18\n",
      "\tTest\n",
      "\t\tMean: 7.143%\tMedian: 7.037%\n",
      "1364/1364 [==============================] - 18s 13ms/step - loss: 2.6430 - accuracy_no_oov: 0.3987\n",
      "Epoch: 19\n",
      "\tTest\n",
      "\t\tMean: 7.128%\tMedian: 6.508%\n",
      "1364/1364 [==============================] - 18s 13ms/step - loss: 2.6018 - accuracy_no_oov: 0.4047\n",
      "Epoch: 20\n",
      "\tTest\n",
      "\t\tMean: 6.235%\tMedian: 6.414%\n",
      "1364/1364 [==============================] - 18s 13ms/step - loss: 2.6354 - accuracy_no_oov: 0.3967\n",
      "Epoch: 21\n",
      "\tTest\n",
      "\t\tMean: 6.729%\tMedian: 6.377%\n",
      "1364/1364 [==============================] - 18s 13ms/step - loss: 2.5856 - accuracy_no_oov: 0.4072\n",
      "Epoch: 22\n",
      "\tTest\n",
      "\t\tMean: 6.915%\tMedian: 6.254%\n",
      "1364/1364 [==============================] - 18s 13ms/step - loss: 2.5396 - accuracy_no_oov: 0.4133\n",
      "Epoch: 23\n",
      "\tTest\n",
      "\t\tMean: 7.461%\tMedian: 6.719%\n",
      "1364/1364 [==============================] - 18s 13ms/step - loss: 2.5721 - accuracy_no_oov: 0.4067\n",
      "Epoch: 24\n",
      "\tTest\n",
      "\t\tMean: 7.255%\tMedian: 6.707%\n",
      "1364/1364 [==============================] - 18s 13ms/step - loss: 2.5421 - accuracy_no_oov: 0.4155\n",
      "Epoch: 25\n",
      "\tTest\n",
      "\t\tMean: 7.361%\tMedian: 7.143%\n",
      "1364/1364 [==============================] - 18s 13ms/step - loss: 2.5814 - accuracy_no_oov: 0.4033\n",
      "Epoch: 26\n",
      "\tTest\n",
      "\t\tMean: 7.137%\tMedian: 6.618%\n",
      "1364/1364 [==============================] - 18s 13ms/step - loss: 2.5214 - accuracy_no_oov: 0.4149\n",
      "Epoch: 27\n",
      "\tTest\n",
      "\t\tMean: 6.849%\tMedian: 6.351%\n",
      "1364/1364 [==============================] - 18s 13ms/step - loss: 2.4946 - accuracy_no_oov: 0.4179\n",
      "Epoch: 28\n",
      "\tTest\n",
      "\t\tMean: 7.345%\tMedian: 6.672%\n",
      "1364/1364 [==============================] - 18s 13ms/step - loss: 2.5245 - accuracy_no_oov: 0.4147\n",
      "Epoch: 29\n",
      "\tTest\n",
      "\t\tMean: 7.091%\tMedian: 6.250%\n",
      "1364/1364 [==============================] - 18s 13ms/step - loss: 2.4932 - accuracy_no_oov: 0.4215\n",
      "Epoch: 30\n",
      "\tTest\n",
      "\t\tMean: 7.162%\tMedian: 6.996%\n",
      "1364/1364 [==============================] - 18s 13ms/step - loss: 2.5291 - accuracy_no_oov: 0.4124\n",
      "Epoch: 31\n",
      "\tTest\n",
      "\t\tMean: 6.840%\tMedian: 5.994%\n",
      "1364/1364 [==============================] - 18s 13ms/step - loss: 2.4999 - accuracy_no_oov: 0.4211\n",
      "Epoch: 32\n",
      "\tTest\n",
      "\t\tMean: 7.187%\tMedian: 6.886%\n",
      "1364/1364 [==============================] - 18s 13ms/step - loss: 2.4864 - accuracy_no_oov: 0.4200\n",
      "Epoch: 33\n",
      "\tTest\n",
      "\t\tMean: 7.178%\tMedian: 6.386%\n",
      "1364/1364 [==============================] - 18s 13ms/step - loss: 2.4306 - accuracy_no_oov: 0.4315\n",
      "Epoch: 34\n",
      "\tTest\n",
      "\t\tMean: 6.645%\tMedian: 5.674%\n",
      "1364/1364 [==============================] - 18s 13ms/step - loss: 2.4570 - accuracy_no_oov: 0.4254\n",
      "Epoch: 35\n",
      "\tTest\n",
      "\t\tMean: 7.077%\tMedian: 6.634%\n",
      "1364/1364 [==============================] - 18s 13ms/step - loss: 2.4683 - accuracy_no_oov: 0.4226\n",
      "Epoch: 36\n",
      "\tTest\n",
      "\t\tMean: 6.565%\tMedian: 6.202%\n",
      "1364/1364 [==============================] - 18s 13ms/step - loss: 2.4461 - accuracy_no_oov: 0.4266\n",
      "Epoch: 37\n",
      "\tTest\n",
      "\t\tMean: 6.388%\tMedian: 6.068%\n",
      "1364/1364 [==============================] - 18s 13ms/step - loss: 2.4261 - accuracy_no_oov: 0.4314\n",
      "Epoch: 38\n",
      "\tTest\n",
      "\t\tMean: 6.655%\tMedian: 6.211%\n",
      "1364/1364 [==============================] - 18s 13ms/step - loss: 2.4634 - accuracy_no_oov: 0.4252\n",
      "Epoch: 39\n",
      "\tTest\n",
      "\t\tMean: 7.235%\tMedian: 6.372%\n",
      "1364/1364 [==============================] - 18s 13ms/step - loss: 2.4580 - accuracy_no_oov: 0.4244\n",
      "Epoch: 40\n",
      "\tTest\n",
      "\t\tMean: 6.999%\tMedian: 6.193%\n",
      "1364/1364 [==============================] - 18s 13ms/step - loss: 2.4784 - accuracy_no_oov: 0.4195\n",
      "Epoch: 41\n",
      "\tTest\n",
      "\t\tMean: 7.183%\tMedian: 6.504%\n",
      "1364/1364 [==============================] - 18s 13ms/step - loss: 2.4233 - accuracy_no_oov: 0.4301\n",
      "Epoch: 42\n",
      "\tTest\n",
      "\t\tMean: 6.857%\tMedian: 6.244%\n",
      "1364/1364 [==============================] - 18s 13ms/step - loss: 2.4268 - accuracy_no_oov: 0.4280\n",
      "Epoch: 43\n",
      "\tTest\n",
      "\t\tMean: 6.507%\tMedian: 6.401%\n",
      "1364/1364 [==============================] - 18s 13ms/step - loss: 2.4481 - accuracy_no_oov: 0.4238\n",
      "Epoch: 44\n",
      "\tTest\n",
      "\t\tMean: 6.631%\tMedian: 6.086%\n",
      "1364/1364 [==============================] - 18s 13ms/step - loss: 2.4820 - accuracy_no_oov: 0.4177\n",
      "Epoch: 45\n",
      "\tTest\n",
      "\t\tMean: 7.121%\tMedian: 6.329%\n",
      "1364/1364 [==============================] - 18s 13ms/step - loss: 2.4137 - accuracy_no_oov: 0.4303\n",
      "Epoch: 46\n",
      "\tTest\n",
      "\t\tMean: 6.685%\tMedian: 6.278%\n",
      "1364/1364 [==============================] - 18s 13ms/step - loss: 2.4012 - accuracy_no_oov: 0.4360\n",
      "Epoch: 47\n",
      "\tTest\n",
      "\t\tMean: 6.548%\tMedian: 6.042%\n",
      "1364/1364 [==============================] - 18s 13ms/step - loss: 2.4180 - accuracy_no_oov: 0.4298\n",
      "Epoch: 48\n",
      "\tTest\n",
      "\t\tMean: 6.717%\tMedian: 6.196%\n",
      "1364/1364 [==============================] - 18s 13ms/step - loss: 2.4465 - accuracy_no_oov: 0.4257\n",
      "Epoch: 49\n",
      "\tTest\n",
      "\t\tMean: 6.783%\tMedian: 6.250%\n",
      "1364/1364 [==============================] - 18s 13ms/step - loss: 2.4517 - accuracy_no_oov: 0.4241\n",
      "Epoch: 50\n",
      "\tTest\n",
      "\t\tMean: 6.850%\tMedian: 6.196%\n",
      "1364/1364 [==============================] - 18s 13ms/step - loss: 2.3932 - accuracy_no_oov: 0.4329\n",
      "Epoch: 51\n",
      "\tTest\n",
      "\t\tMean: 6.654%\tMedian: 6.449%\n",
      "1364/1364 [==============================] - 18s 13ms/step - loss: 2.4411 - accuracy_no_oov: 0.4231\n",
      "Epoch: 52\n",
      "\tTest\n",
      "\t\tMean: 6.289%\tMedian: 6.141%\n",
      "1364/1364 [==============================] - 18s 13ms/step - loss: 2.4257 - accuracy_no_oov: 0.4278\n",
      "Epoch: 53\n",
      "\tTest\n",
      "\t\tMean: 6.693%\tMedian: 5.897%\n",
      "1364/1364 [==============================] - 18s 13ms/step - loss: 2.4153 - accuracy_no_oov: 0.4294\n",
      "Epoch: 54\n",
      "\tTest\n",
      "\t\tMean: 7.171%\tMedian: 6.463%\n",
      "1364/1364 [==============================] - 18s 13ms/step - loss: 2.3995 - accuracy_no_oov: 0.4301\n",
      "Epoch: 55\n",
      "\tTest\n",
      "\t\tMean: 7.479%\tMedian: 6.250%\n",
      "1364/1364 [==============================] - 18s 13ms/step - loss: 2.4405 - accuracy_no_oov: 0.4253\n",
      "Epoch: 56\n",
      "\tTest\n",
      "\t\tMean: 7.198%\tMedian: 6.279%\n"
     ]
    },
    {
     "name": "stdout",
     "output_type": "stream",
     "text": [
      "1364/1364 [==============================] - 18s 13ms/step - loss: 2.4204 - accuracy_no_oov: 0.4289\n",
      "Epoch: 57\n",
      "\tTest\n",
      "\t\tMean: 6.536%\tMedian: 6.066%\n",
      "1364/1364 [==============================] - 18s 13ms/step - loss: 2.4113 - accuracy_no_oov: 0.4299\n",
      "Epoch: 58\n",
      "\tTest\n",
      "\t\tMean: 6.254%\tMedian: 6.250%\n",
      "1364/1364 [==============================] - 18s 13ms/step - loss: 2.3915 - accuracy_no_oov: 0.4343\n",
      "Epoch: 59\n",
      "\tTest\n",
      "\t\tMean: 7.016%\tMedian: 6.250%\n",
      "1364/1364 [==============================] - 18s 13ms/step - loss: 2.4513 - accuracy_no_oov: 0.4227\n",
      "Epoch: 60\n",
      "\tTest\n",
      "\t\tMean: 6.330%\tMedian: 6.160%\n",
      "1364/1364 [==============================] - 18s 13ms/step - loss: 2.4529 - accuracy_no_oov: 0.4216\n",
      "Epoch: 61\n",
      "\tTest\n",
      "\t\tMean: 6.906%\tMedian: 6.483%\n",
      "1364/1364 [==============================] - 18s 13ms/step - loss: 2.4280 - accuracy_no_oov: 0.4244\n",
      "Epoch: 62\n",
      "\tTest\n",
      "\t\tMean: 6.569%\tMedian: 6.100%\n",
      "1364/1364 [==============================] - 18s 13ms/step - loss: 2.4266 - accuracy_no_oov: 0.4272\n",
      "Epoch: 63\n",
      "\tTest\n",
      "\t\tMean: 6.094%\tMedian: 6.219%\n",
      "1364/1364 [==============================] - 18s 13ms/step - loss: 2.4312 - accuracy_no_oov: 0.4262\n",
      "Epoch: 64\n",
      "\tTest\n",
      "\t\tMean: 6.041%\tMedian: 5.887%\n",
      "1364/1364 [==============================] - 18s 13ms/step - loss: 2.4310 - accuracy_no_oov: 0.4244\n",
      "Epoch: 65\n",
      "\tTest\n",
      "\t\tMean: 6.970%\tMedian: 6.288%\n",
      "1364/1364 [==============================] - 18s 13ms/step - loss: 2.4485 - accuracy_no_oov: 0.4235\n",
      "Epoch: 66\n",
      "\tTest\n",
      "\t\tMean: 6.183%\tMedian: 5.680%\n",
      "1364/1364 [==============================] - 18s 13ms/step - loss: 2.4556 - accuracy_no_oov: 0.4230\n",
      "Epoch: 67\n",
      "\tTest\n",
      "\t\tMean: 6.404%\tMedian: 6.202%\n",
      "1364/1364 [==============================] - 18s 13ms/step - loss: 2.4775 - accuracy_no_oov: 0.4159\n",
      "Epoch: 68\n",
      "\tTest\n",
      "\t\tMean: 6.097%\tMedian: 6.086%\n",
      "1364/1364 [==============================] - 18s 13ms/step - loss: 2.4551 - accuracy_no_oov: 0.4207\n",
      "Epoch: 69\n",
      "\tTest\n",
      "\t\tMean: 6.233%\tMedian: 6.095%\n",
      "1364/1364 [==============================] - 18s 13ms/step - loss: 2.4548 - accuracy_no_oov: 0.4217\n",
      "Epoch: 70\n",
      "\tTest\n",
      "\t\tMean: 6.441%\tMedian: 6.125%\n",
      "1364/1364 [==============================] - 18s 13ms/step - loss: 2.4408 - accuracy_no_oov: 0.4245\n",
      "Epoch: 71\n",
      "\tTest\n",
      "\t\tMean: 6.314%\tMedian: 6.220%\n",
      "1364/1364 [==============================] - 18s 13ms/step - loss: 2.4479 - accuracy_no_oov: 0.4224\n",
      "Epoch: 72\n",
      "\tTest\n",
      "\t\tMean: 6.577%\tMedian: 6.527%\n",
      "1364/1364 [==============================] - 18s 13ms/step - loss: 2.4268 - accuracy_no_oov: 0.4274\n",
      "Epoch: 73\n",
      "\tTest\n",
      "\t\tMean: 6.576%\tMedian: 6.068%\n",
      "1364/1364 [==============================] - 18s 13ms/step - loss: 2.4425 - accuracy_no_oov: 0.4240\n",
      "Epoch: 74\n",
      "\tTest\n",
      "\t\tMean: 6.438%\tMedian: 6.061%\n",
      "1364/1364 [==============================] - 18s 13ms/step - loss: 2.4357 - accuracy_no_oov: 0.4234\n",
      "Epoch: 75\n",
      "\tTest\n",
      "\t\tMean: 6.707%\tMedian: 6.250%\n",
      "1364/1364 [==============================] - 18s 13ms/step - loss: 2.4427 - accuracy_no_oov: 0.4233\n",
      "Epoch: 76\n",
      "\tTest\n",
      "\t\tMean: 6.516%\tMedian: 6.003%\n",
      "1364/1364 [==============================] - 18s 13ms/step - loss: 2.4600 - accuracy_no_oov: 0.4209\n",
      "Epoch: 77\n",
      "\tTest\n",
      "\t\tMean: 7.020%\tMedian: 6.410%\n",
      "1364/1364 [==============================] - 18s 13ms/step - loss: 2.4943 - accuracy_no_oov: 0.4163\n",
      "Epoch: 78\n",
      "\tTest\n",
      "\t\tMean: 6.737%\tMedian: 6.202%\n",
      "1364/1364 [==============================] - 18s 13ms/step - loss: 2.4415 - accuracy_no_oov: 0.4256\n",
      "Epoch: 79\n",
      "\tTest\n",
      "\t\tMean: 6.268%\tMedian: 6.066%\n",
      "1364/1364 [==============================] - 18s 13ms/step - loss: 2.4638 - accuracy_no_oov: 0.4187\n",
      "Epoch: 80\n",
      "\tTest\n",
      "\t\tMean: 6.745%\tMedian: 6.154%\n",
      "1364/1364 [==============================] - 18s 13ms/step - loss: 2.4529 - accuracy_no_oov: 0.4223\n",
      "Epoch: 81\n",
      "\tTest\n",
      "\t\tMean: 6.816%\tMedian: 6.171%\n",
      "1364/1364 [==============================] - 18s 13ms/step - loss: 2.4486 - accuracy_no_oov: 0.4226\n",
      "Epoch: 82\n",
      "\tTest\n",
      "\t\tMean: 6.627%\tMedian: 5.971%\n",
      "1364/1364 [==============================] - 18s 13ms/step - loss: 2.4283 - accuracy_no_oov: 0.4269\n",
      "Epoch: 83\n",
      "\tTest\n",
      "\t\tMean: 6.496%\tMedian: 6.048%\n",
      "1364/1364 [==============================] - 18s 13ms/step - loss: 2.4062 - accuracy_no_oov: 0.4316\n",
      "Epoch: 84\n",
      "\tTest\n",
      "\t\tMean: 6.410%\tMedian: 6.068%\n",
      "1364/1364 [==============================] - 18s 13ms/step - loss: 2.4434 - accuracy_no_oov: 0.4241\n",
      "Epoch: 85\n",
      "\tTest\n",
      "\t\tMean: 6.257%\tMedian: 5.794%\n",
      "1364/1364 [==============================] - 18s 13ms/step - loss: 2.4378 - accuracy_no_oov: 0.4237\n",
      "Epoch: 86\n",
      "\tTest\n",
      "\t\tMean: 6.599%\tMedian: 6.220%\n",
      "1364/1364 [==============================] - 18s 13ms/step - loss: 2.4394 - accuracy_no_oov: 0.4258\n",
      "Epoch: 87\n",
      "\tTest\n",
      "\t\tMean: 6.648%\tMedian: 5.770%\n",
      "1364/1364 [==============================] - 18s 13ms/step - loss: 2.4422 - accuracy_no_oov: 0.4265\n",
      "Epoch: 88\n",
      "\tTest\n",
      "\t\tMean: 5.916%\tMedian: 5.873%\n",
      "1364/1364 [==============================] - 18s 13ms/step - loss: 2.4429 - accuracy_no_oov: 0.4255\n",
      "Epoch: 89\n",
      "\tTest\n",
      "\t\tMean: 5.909%\tMedian: 5.830%\n",
      "1364/1364 [==============================] - 18s 13ms/step - loss: 2.4465 - accuracy_no_oov: 0.4245\n",
      "Epoch: 90\n",
      "\tTest\n",
      "\t\tMean: 6.200%\tMedian: 5.452%\n",
      "1364/1364 [==============================] - 18s 13ms/step - loss: 2.4276 - accuracy_no_oov: 0.4258\n",
      "Epoch: 91\n",
      "\tTest\n",
      "\t\tMean: 6.179%\tMedian: 5.791%\n",
      "1364/1364 [==============================] - 18s 13ms/step - loss: 2.4452 - accuracy_no_oov: 0.4235\n",
      "Epoch: 92\n",
      "\tTest\n",
      "\t\tMean: 6.309%\tMedian: 5.747%\n",
      "1364/1364 [==============================] - 18s 13ms/step - loss: 2.4576 - accuracy_no_oov: 0.4226\n",
      "Epoch: 93\n",
      "\tTest\n",
      "\t\tMean: 6.684%\tMedian: 6.301%\n",
      "1364/1364 [==============================] - 18s 13ms/step - loss: 2.4529 - accuracy_no_oov: 0.4243\n",
      "Epoch: 94\n",
      "\tTest\n",
      "\t\tMean: 5.969%\tMedian: 5.645%\n",
      "1364/1364 [==============================] - 18s 13ms/step - loss: 2.4829 - accuracy_no_oov: 0.4173\n",
      "Epoch: 95\n",
      "\tTest\n",
      "\t\tMean: 5.892%\tMedian: 5.394%\n",
      "1364/1364 [==============================] - 18s 13ms/step - loss: 2.4676 - accuracy_no_oov: 0.4227\n",
      "Epoch: 96\n",
      "\tTest\n",
      "\t\tMean: 6.110%\tMedian: 5.607%\n",
      "1364/1364 [==============================] - 18s 13ms/step - loss: 2.4658 - accuracy_no_oov: 0.4218\n",
      "Epoch: 97\n",
      "\tTest\n",
      "\t\tMean: 6.289%\tMedian: 5.655%\n",
      "1364/1364 [==============================] - 18s 13ms/step - loss: 2.4822 - accuracy_no_oov: 0.4188\n",
      "Epoch: 98\n",
      "\tTest\n",
      "\t\tMean: 6.331%\tMedian: 6.155%\n",
      "1364/1364 [==============================] - 18s 13ms/step - loss: 2.4699 - accuracy_no_oov: 0.4202\n",
      "Epoch: 99\n",
      "\tTest\n",
      "\t\tMean: 6.171%\tMedian: 5.683%\n",
      "1364/1364 [==============================] - 18s 13ms/step - loss: 2.4491 - accuracy_no_oov: 0.4247\n",
      "Epoch: 100\n",
      "\tTest\n",
      "\t\tMean: 5.511%\tMedian: 4.943%\n",
      "Saved to log/Single_100A_100E_50B_4V_22-02-2022_11_44.json\n"
     ]
    }
   ],
   "source": [
    "train_single(100, 0)"
   ]
  },
  {
   "cell_type": "code",
   "execution_count": 4,
   "id": "4cc67c10",
   "metadata": {
    "collapsed": true
   },
   "outputs": [
    {
     "name": "stdout",
     "output_type": "stream",
     "text": [
      "Seed: 123\n",
      "1252/1252 [==============================] - 18s 13ms/step - loss: 6.9075 - accuracy_no_oov: 0.0737\n",
      "Epoch: 1\n",
      "\tTest\n",
      "\t\tMean: 8.939%\tMedian: 9.129%\n",
      "1252/1252 [==============================] - 17s 13ms/step - loss: 5.8682 - accuracy_no_oov: 0.0964\n",
      "Epoch: 2\n",
      "\tTest\n",
      "\t\tMean: 8.767%\tMedian: 9.126%\n",
      "1252/1252 [==============================] - 17s 13ms/step - loss: 5.2875 - accuracy_no_oov: 0.1159\n",
      "Epoch: 3\n",
      "\tTest\n",
      "\t\tMean: 8.508%\tMedian: 8.141%\n",
      "1252/1252 [==============================] - 17s 13ms/step - loss: 4.7702 - accuracy_no_oov: 0.1425\n",
      "Epoch: 4\n",
      "\tTest\n",
      "\t\tMean: 7.815%\tMedian: 7.401%\n",
      "1252/1252 [==============================] - 17s 13ms/step - loss: 4.2926 - accuracy_no_oov: 0.1823\n",
      "Epoch: 5\n",
      "\tTest\n",
      "\t\tMean: 8.012%\tMedian: 7.680%\n",
      "1252/1252 [==============================] - 17s 13ms/step - loss: 3.8688 - accuracy_no_oov: 0.2303\n",
      "Epoch: 6\n",
      "\tTest\n",
      "\t\tMean: 7.409%\tMedian: 6.974%\n",
      "1252/1252 [==============================] - 17s 13ms/step - loss: 3.5485 - accuracy_no_oov: 0.2742\n",
      "Epoch: 7\n",
      "\tTest\n",
      "\t\tMean: 7.933%\tMedian: 7.317%\n",
      "1252/1252 [==============================] - 17s 13ms/step - loss: 3.3021 - accuracy_no_oov: 0.3097\n",
      "Epoch: 8\n",
      "\tTest\n",
      "\t\tMean: 7.533%\tMedian: 6.818%\n",
      "1252/1252 [==============================] - 17s 13ms/step - loss: 3.1198 - accuracy_no_oov: 0.3326\n",
      "Epoch: 9\n",
      "\tTest\n",
      "\t\tMean: 7.704%\tMedian: 7.252%\n",
      "1252/1252 [==============================] - 17s 13ms/step - loss: 2.9655 - accuracy_no_oov: 0.3541\n",
      "Epoch: 10\n",
      "\tTest\n",
      "\t\tMean: 7.608%\tMedian: 7.153%\n",
      "1252/1252 [==============================] - 17s 13ms/step - loss: 2.8606 - accuracy_no_oov: 0.3689\n",
      "Epoch: 11\n",
      "\tTest\n",
      "\t\tMean: 7.422%\tMedian: 6.720%\n",
      "1252/1252 [==============================] - 17s 13ms/step - loss: 2.7804 - accuracy_no_oov: 0.3790\n",
      "Epoch: 12\n",
      "\tTest\n",
      "\t\tMean: 7.280%\tMedian: 7.143%\n",
      "1252/1252 [==============================] - 17s 13ms/step - loss: 2.7022 - accuracy_no_oov: 0.3932\n",
      "Epoch: 13\n",
      "\tTest\n",
      "\t\tMean: 7.281%\tMedian: 6.864%\n",
      "1252/1252 [==============================] - 17s 13ms/step - loss: 2.6351 - accuracy_no_oov: 0.4025\n",
      "Epoch: 14\n",
      "\tTest\n",
      "\t\tMean: 7.271%\tMedian: 6.755%\n",
      "1252/1252 [==============================] - 17s 13ms/step - loss: 2.5986 - accuracy_no_oov: 0.4072\n",
      "Epoch: 15\n",
      "\tTest\n",
      "\t\tMean: 7.376%\tMedian: 6.774%\n",
      "1252/1252 [==============================] - 17s 13ms/step - loss: 2.5504 - accuracy_no_oov: 0.4146\n",
      "Epoch: 16\n",
      "\tTest\n",
      "\t\tMean: 7.662%\tMedian: 6.799%\n",
      "1252/1252 [==============================] - 17s 13ms/step - loss: 2.5176 - accuracy_no_oov: 0.4179\n",
      "Epoch: 17\n",
      "\tTest\n",
      "\t\tMean: 7.401%\tMedian: 6.897%\n",
      "1252/1252 [==============================] - 17s 13ms/step - loss: 2.4725 - accuracy_no_oov: 0.4246\n",
      "Epoch: 18\n",
      "\tTest\n",
      "\t\tMean: 7.576%\tMedian: 6.774%\n",
      "1252/1252 [==============================] - 17s 13ms/step - loss: 2.4467 - accuracy_no_oov: 0.4329\n",
      "Epoch: 19\n",
      "\tTest\n",
      "\t\tMean: 7.470%\tMedian: 6.335%\n",
      "1252/1252 [==============================] - 17s 13ms/step - loss: 2.4387 - accuracy_no_oov: 0.4307\n",
      "Epoch: 20\n",
      "\tTest\n",
      "\t\tMean: 7.264%\tMedian: 6.644%\n",
      "1252/1252 [==============================] - 17s 13ms/step - loss: 2.4062 - accuracy_no_oov: 0.4381\n",
      "Epoch: 21\n",
      "\tTest\n",
      "\t\tMean: 7.073%\tMedian: 6.594%\n",
      "1252/1252 [==============================] - 17s 13ms/step - loss: 2.3764 - accuracy_no_oov: 0.4425\n",
      "Epoch: 22\n",
      "\tTest\n",
      "\t\tMean: 7.002%\tMedian: 6.316%\n",
      "1252/1252 [==============================] - 17s 13ms/step - loss: 2.3400 - accuracy_no_oov: 0.4465\n",
      "Epoch: 23\n",
      "\tTest\n",
      "\t\tMean: 7.190%\tMedian: 6.594%\n",
      "1252/1252 [==============================] - 17s 13ms/step - loss: 2.3303 - accuracy_no_oov: 0.4482\n",
      "Epoch: 24\n",
      "\tTest\n",
      "\t\tMean: 6.587%\tMedian: 6.137%\n",
      "1252/1252 [==============================] - 17s 13ms/step - loss: 2.3252 - accuracy_no_oov: 0.4486\n",
      "Epoch: 25\n",
      "\tTest\n",
      "\t\tMean: 7.142%\tMedian: 6.897%\n",
      "1252/1252 [==============================] - 17s 13ms/step - loss: 2.3262 - accuracy_no_oov: 0.4487\n",
      "Epoch: 26\n",
      "\tTest\n",
      "\t\tMean: 6.615%\tMedian: 5.815%\n",
      "1252/1252 [==============================] - 17s 13ms/step - loss: 2.3030 - accuracy_no_oov: 0.4532\n",
      "Epoch: 27\n",
      "\tTest\n",
      "\t\tMean: 7.340%\tMedian: 6.813%\n",
      "1252/1252 [==============================] - 17s 13ms/step - loss: 2.2525 - accuracy_no_oov: 0.4627\n",
      "Epoch: 28\n",
      "\tTest\n",
      "\t\tMean: 6.787%\tMedian: 6.681%\n",
      "1252/1252 [==============================] - 17s 13ms/step - loss: 2.2354 - accuracy_no_oov: 0.4653\n",
      "Epoch: 29\n",
      "\tTest\n",
      "\t\tMean: 6.981%\tMedian: 6.394%\n",
      "1252/1252 [==============================] - 17s 13ms/step - loss: 2.2495 - accuracy_no_oov: 0.4603\n",
      "Epoch: 30\n",
      "\tTest\n",
      "\t\tMean: 6.657%\tMedian: 6.263%\n",
      "1252/1252 [==============================] - 17s 13ms/step - loss: 2.2721 - accuracy_no_oov: 0.4561\n",
      "Epoch: 31\n",
      "\tTest\n",
      "\t\tMean: 6.381%\tMedian: 5.941%\n",
      "1252/1252 [==============================] - 17s 13ms/step - loss: 2.2336 - accuracy_no_oov: 0.4622\n",
      "Epoch: 32\n",
      "\tTest\n",
      "\t\tMean: 6.925%\tMedian: 6.266%\n",
      "1252/1252 [==============================] - 17s 13ms/step - loss: 2.2217 - accuracy_no_oov: 0.4648\n",
      "Epoch: 33\n",
      "\tTest\n",
      "\t\tMean: 7.194%\tMedian: 6.283%\n",
      "1252/1252 [==============================] - 17s 13ms/step - loss: 2.2130 - accuracy_no_oov: 0.4676\n",
      "Epoch: 34\n",
      "\tTest\n",
      "\t\tMean: 7.217%\tMedian: 6.581%\n",
      "1252/1252 [==============================] - 17s 13ms/step - loss: 2.2273 - accuracy_no_oov: 0.4651\n",
      "Epoch: 35\n",
      "\tTest\n",
      "\t\tMean: 6.649%\tMedian: 5.883%\n",
      "1252/1252 [==============================] - 17s 13ms/step - loss: 2.2203 - accuracy_no_oov: 0.4650\n",
      "Epoch: 36\n",
      "\tTest\n",
      "\t\tMean: 7.116%\tMedian: 6.349%\n",
      "1252/1252 [==============================] - 17s 13ms/step - loss: 2.1877 - accuracy_no_oov: 0.4709\n",
      "Epoch: 37\n",
      "\tTest\n",
      "\t\tMean: 7.197%\tMedian: 6.645%\n",
      "1252/1252 [==============================] - 17s 13ms/step - loss: 2.1911 - accuracy_no_oov: 0.4703\n",
      "Epoch: 38\n",
      "\tTest\n",
      "\t\tMean: 6.689%\tMedian: 6.018%\n",
      "1252/1252 [==============================] - 17s 13ms/step - loss: 2.2092 - accuracy_no_oov: 0.4673\n",
      "Epoch: 39\n",
      "\tTest\n",
      "\t\tMean: 7.196%\tMedian: 6.467%\n",
      "1252/1252 [==============================] - 17s 13ms/step - loss: 2.2593 - accuracy_no_oov: 0.4555\n",
      "Epoch: 40\n",
      "\tTest\n",
      "\t\tMean: 6.853%\tMedian: 6.206%\n",
      "1252/1252 [==============================] - 17s 13ms/step - loss: 2.1942 - accuracy_no_oov: 0.4722\n",
      "Epoch: 41\n",
      "\tTest\n",
      "\t\tMean: 7.395%\tMedian: 5.848%\n",
      "1252/1252 [==============================] - 17s 13ms/step - loss: 2.2086 - accuracy_no_oov: 0.4680\n",
      "Epoch: 42\n",
      "\tTest\n",
      "\t\tMean: 7.276%\tMedian: 6.162%\n",
      "1252/1252 [==============================] - 17s 13ms/step - loss: 2.2263 - accuracy_no_oov: 0.4635\n",
      "Epoch: 43\n",
      "\tTest\n",
      "\t\tMean: 6.849%\tMedian: 6.169%\n",
      "1252/1252 [==============================] - 17s 13ms/step - loss: 2.1994 - accuracy_no_oov: 0.4688\n",
      "Epoch: 44\n",
      "\tTest\n",
      "\t\tMean: 6.456%\tMedian: 5.738%\n",
      "1252/1252 [==============================] - 17s 13ms/step - loss: 2.1829 - accuracy_no_oov: 0.4702\n",
      "Epoch: 45\n",
      "\tTest\n",
      "\t\tMean: 6.517%\tMedian: 6.176%\n",
      "1252/1252 [==============================] - 17s 13ms/step - loss: 2.1843 - accuracy_no_oov: 0.4706\n",
      "Epoch: 46\n",
      "\tTest\n",
      "\t\tMean: 6.816%\tMedian: 6.206%\n",
      "1252/1252 [==============================] - 17s 13ms/step - loss: 2.2551 - accuracy_no_oov: 0.4581\n",
      "Epoch: 47\n",
      "\tTest\n",
      "\t\tMean: 6.802%\tMedian: 6.246%\n",
      "1252/1252 [==============================] - 17s 13ms/step - loss: 2.1941 - accuracy_no_oov: 0.4688\n",
      "Epoch: 48\n",
      "\tTest\n",
      "\t\tMean: 6.957%\tMedian: 6.079%\n",
      "1252/1252 [==============================] - 17s 13ms/step - loss: 2.1784 - accuracy_no_oov: 0.4709\n",
      "Epoch: 49\n",
      "\tTest\n",
      "\t\tMean: 7.209%\tMedian: 6.138%\n",
      "1252/1252 [==============================] - 17s 13ms/step - loss: 2.1798 - accuracy_no_oov: 0.4716\n",
      "Epoch: 50\n",
      "\tTest\n",
      "\t\tMean: 6.845%\tMedian: 5.907%\n",
      "1252/1252 [==============================] - 17s 13ms/step - loss: 2.1809 - accuracy_no_oov: 0.4714\n",
      "Epoch: 51\n",
      "\tTest\n",
      "\t\tMean: 6.733%\tMedian: 5.731%\n",
      "1252/1252 [==============================] - 17s 13ms/step - loss: 2.1572 - accuracy_no_oov: 0.4748\n",
      "Epoch: 52\n",
      "\tTest\n",
      "\t\tMean: 6.765%\tMedian: 6.032%\n",
      "1252/1252 [==============================] - 17s 13ms/step - loss: 2.1932 - accuracy_no_oov: 0.4690\n",
      "Epoch: 53\n",
      "\tTest\n",
      "\t\tMean: 7.008%\tMedian: 6.155%\n",
      "1252/1252 [==============================] - 17s 13ms/step - loss: 2.1880 - accuracy_no_oov: 0.4690\n",
      "Epoch: 54\n",
      "\tTest\n",
      "\t\tMean: 6.783%\tMedian: 6.226%\n",
      "1252/1252 [==============================] - 17s 13ms/step - loss: 2.1902 - accuracy_no_oov: 0.4707\n",
      "Epoch: 55\n",
      "\tTest\n",
      "\t\tMean: 6.775%\tMedian: 5.882%\n",
      "1252/1252 [==============================] - 17s 13ms/step - loss: 2.2116 - accuracy_no_oov: 0.4642\n",
      "Epoch: 56\n",
      "\tTest\n",
      "\t\tMean: 6.782%\tMedian: 5.879%\n"
     ]
    },
    {
     "name": "stdout",
     "output_type": "stream",
     "text": [
      "1252/1252 [==============================] - 17s 13ms/step - loss: 2.1532 - accuracy_no_oov: 0.4751\n",
      "Epoch: 57\n",
      "\tTest\n",
      "\t\tMean: 7.439%\tMedian: 6.667%\n",
      "1252/1252 [==============================] - 17s 13ms/step - loss: 2.1508 - accuracy_no_oov: 0.4781\n",
      "Epoch: 58\n",
      "\tTest\n",
      "\t\tMean: 6.656%\tMedian: 5.757%\n",
      "1252/1252 [==============================] - 17s 13ms/step - loss: 2.1586 - accuracy_no_oov: 0.4736\n",
      "Epoch: 59\n",
      "\tTest\n",
      "\t\tMean: 6.538%\tMedian: 6.422%\n",
      "1252/1252 [==============================] - 17s 13ms/step - loss: 2.1985 - accuracy_no_oov: 0.4674\n",
      "Epoch: 60\n",
      "\tTest\n",
      "\t\tMean: 6.515%\tMedian: 6.148%\n",
      "1252/1252 [==============================] - 17s 13ms/step - loss: 2.2101 - accuracy_no_oov: 0.4650\n",
      "Epoch: 61\n",
      "\tTest\n",
      "\t\tMean: 6.656%\tMedian: 5.830%\n",
      "1252/1252 [==============================] - 17s 13ms/step - loss: 2.2132 - accuracy_no_oov: 0.4648\n",
      "Epoch: 62\n",
      "\tTest\n",
      "\t\tMean: 6.748%\tMedian: 6.231%\n",
      "1252/1252 [==============================] - 17s 13ms/step - loss: 2.1900 - accuracy_no_oov: 0.4705\n",
      "Epoch: 63\n",
      "\tTest\n",
      "\t\tMean: 6.213%\tMedian: 5.698%\n",
      "1252/1252 [==============================] - 17s 13ms/step - loss: 2.1751 - accuracy_no_oov: 0.4719\n",
      "Epoch: 64\n",
      "\tTest\n",
      "\t\tMean: 6.671%\tMedian: 5.936%\n",
      "1252/1252 [==============================] - 17s 13ms/step - loss: 2.1854 - accuracy_no_oov: 0.4684\n",
      "Epoch: 65\n",
      "\tTest\n",
      "\t\tMean: 6.545%\tMedian: 5.792%\n",
      "1252/1252 [==============================] - 17s 13ms/step - loss: 2.2118 - accuracy_no_oov: 0.4651\n",
      "Epoch: 66\n",
      "\tTest\n",
      "\t\tMean: 6.450%\tMedian: 5.941%\n",
      "1252/1252 [==============================] - 17s 13ms/step - loss: 2.2137 - accuracy_no_oov: 0.4654\n",
      "Epoch: 67\n",
      "\tTest\n",
      "\t\tMean: 6.951%\tMedian: 5.807%\n",
      "1252/1252 [==============================] - 17s 13ms/step - loss: 2.2163 - accuracy_no_oov: 0.4653\n",
      "Epoch: 68\n",
      "\tTest\n",
      "\t\tMean: 6.926%\tMedian: 6.326%\n",
      "1252/1252 [==============================] - 17s 13ms/step - loss: 2.2354 - accuracy_no_oov: 0.4620\n",
      "Epoch: 69\n",
      "\tTest\n",
      "\t\tMean: 6.626%\tMedian: 6.030%\n",
      "1252/1252 [==============================] - 17s 13ms/step - loss: 2.2192 - accuracy_no_oov: 0.4636\n",
      "Epoch: 70\n",
      "\tTest\n",
      "\t\tMean: 6.826%\tMedian: 6.036%\n",
      "1252/1252 [==============================] - 17s 13ms/step - loss: 2.2351 - accuracy_no_oov: 0.4597\n",
      "Epoch: 71\n",
      "\tTest\n",
      "\t\tMean: 6.752%\tMedian: 6.446%\n",
      "1252/1252 [==============================] - 17s 13ms/step - loss: 2.1879 - accuracy_no_oov: 0.4693\n",
      "Epoch: 72\n",
      "\tTest\n",
      "\t\tMean: 6.392%\tMedian: 6.218%\n",
      "1252/1252 [==============================] - 17s 13ms/step - loss: 2.1872 - accuracy_no_oov: 0.4714\n",
      "Epoch: 73\n",
      "\tTest\n",
      "\t\tMean: 6.596%\tMedian: 5.848%\n",
      "1252/1252 [==============================] - 17s 13ms/step - loss: 2.1881 - accuracy_no_oov: 0.4674\n",
      "Epoch: 74\n",
      "\tTest\n",
      "\t\tMean: 6.660%\tMedian: 6.210%\n",
      "1252/1252 [==============================] - 17s 13ms/step - loss: 2.2035 - accuracy_no_oov: 0.4658\n",
      "Epoch: 75\n",
      "\tTest\n",
      "\t\tMean: 6.385%\tMedian: 5.848%\n",
      "1252/1252 [==============================] - 17s 13ms/step - loss: 2.2188 - accuracy_no_oov: 0.4643\n",
      "Epoch: 76\n",
      "\tTest\n",
      "\t\tMean: 7.032%\tMedian: 6.044%\n",
      "1252/1252 [==============================] - 17s 13ms/step - loss: 2.1746 - accuracy_no_oov: 0.4720\n",
      "Epoch: 77\n",
      "\tTest\n",
      "\t\tMean: 6.591%\tMedian: 5.882%\n",
      "1252/1252 [==============================] - 17s 13ms/step - loss: 2.2029 - accuracy_no_oov: 0.4681\n",
      "Epoch: 78\n",
      "\tTest\n",
      "\t\tMean: 7.594%\tMedian: 6.799%\n",
      "1252/1252 [==============================] - 17s 13ms/step - loss: 2.2406 - accuracy_no_oov: 0.4610\n",
      "Epoch: 79\n",
      "\tTest\n",
      "\t\tMean: 6.998%\tMedian: 6.159%\n",
      "1252/1252 [==============================] - 17s 13ms/step - loss: 2.2098 - accuracy_no_oov: 0.4646\n",
      "Epoch: 80\n",
      "\tTest\n",
      "\t\tMean: 6.821%\tMedian: 5.902%\n",
      "1252/1252 [==============================] - 17s 13ms/step - loss: 2.2107 - accuracy_no_oov: 0.4683\n",
      "Epoch: 81\n",
      "\tTest\n",
      "\t\tMean: 6.875%\tMedian: 5.849%\n",
      "1252/1252 [==============================] - 17s 13ms/step - loss: 2.2579 - accuracy_no_oov: 0.4595\n",
      "Epoch: 82\n",
      "\tTest\n",
      "\t\tMean: 7.262%\tMedian: 6.383%\n",
      "1252/1252 [==============================] - 17s 13ms/step - loss: 2.2979 - accuracy_no_oov: 0.4489\n",
      "Epoch: 83\n",
      "\tTest\n",
      "\t\tMean: 7.095%\tMedian: 6.404%\n",
      "1252/1252 [==============================] - 17s 13ms/step - loss: 2.2241 - accuracy_no_oov: 0.4648\n",
      "Epoch: 84\n",
      "\tTest\n",
      "\t\tMean: 7.324%\tMedian: 6.146%\n",
      "1252/1252 [==============================] - 17s 13ms/step - loss: 2.2282 - accuracy_no_oov: 0.4662\n",
      "Epoch: 85\n",
      "\tTest\n",
      "\t\tMean: 7.064%\tMedian: 6.198%\n",
      "1252/1252 [==============================] - 17s 13ms/step - loss: 2.2314 - accuracy_no_oov: 0.4614\n",
      "Epoch: 86\n",
      "\tTest\n",
      "\t\tMean: 6.882%\tMedian: 6.311%\n",
      "1252/1252 [==============================] - 17s 13ms/step - loss: 2.2363 - accuracy_no_oov: 0.4608\n",
      "Epoch: 87\n",
      "\tTest\n",
      "\t\tMean: 6.782%\tMedian: 5.966%\n",
      "1252/1252 [==============================] - 17s 13ms/step - loss: 2.2314 - accuracy_no_oov: 0.4641\n",
      "Epoch: 88\n",
      "\tTest\n",
      "\t\tMean: 6.738%\tMedian: 6.049%\n",
      "1252/1252 [==============================] - 17s 13ms/step - loss: 2.2086 - accuracy_no_oov: 0.4660\n",
      "Epoch: 89\n",
      "\tTest\n",
      "\t\tMean: 6.635%\tMedian: 6.231%\n",
      "1252/1252 [==============================] - 17s 13ms/step - loss: 2.1932 - accuracy_no_oov: 0.4680\n",
      "Epoch: 90\n",
      "\tTest\n",
      "\t\tMean: 6.764%\tMedian: 6.124%\n",
      "1252/1252 [==============================] - 17s 13ms/step - loss: 2.2245 - accuracy_no_oov: 0.4636\n",
      "Epoch: 91\n",
      "\tTest\n",
      "\t\tMean: 7.253%\tMedian: 6.137%\n",
      "1252/1252 [==============================] - 17s 13ms/step - loss: 2.2360 - accuracy_no_oov: 0.4618\n",
      "Epoch: 92\n",
      "\tTest\n",
      "\t\tMean: 6.604%\tMedian: 5.840%\n",
      "1252/1252 [==============================] - 17s 13ms/step - loss: 2.2335 - accuracy_no_oov: 0.4623\n",
      "Epoch: 93\n",
      "\tTest\n",
      "\t\tMean: 6.750%\tMedian: 6.283%\n",
      "1252/1252 [==============================] - 17s 13ms/step - loss: 2.2551 - accuracy_no_oov: 0.4576\n",
      "Epoch: 94\n",
      "\tTest\n",
      "\t\tMean: 6.519%\tMedian: 5.573%\n",
      "1252/1252 [==============================] - 17s 13ms/step - loss: 2.2669 - accuracy_no_oov: 0.4551\n",
      "Epoch: 95\n",
      "\tTest\n",
      "\t\tMean: 6.359%\tMedian: 5.607%\n",
      "1252/1252 [==============================] - 17s 13ms/step - loss: 2.2434 - accuracy_no_oov: 0.4603\n",
      "Epoch: 96\n",
      "\tTest\n",
      "\t\tMean: 6.484%\tMedian: 6.000%\n",
      "1252/1252 [==============================] - 17s 13ms/step - loss: 2.2450 - accuracy_no_oov: 0.4620\n",
      "Epoch: 97\n",
      "\tTest\n",
      "\t\tMean: 6.801%\tMedian: 6.164%\n",
      "1252/1252 [==============================] - 17s 13ms/step - loss: 2.2141 - accuracy_no_oov: 0.4675\n",
      "Epoch: 98\n",
      "\tTest\n",
      "\t\tMean: 6.636%\tMedian: 5.988%\n",
      "1252/1252 [==============================] - 17s 13ms/step - loss: 2.2164 - accuracy_no_oov: 0.4688\n",
      "Epoch: 99\n",
      "\tTest\n",
      "\t\tMean: 6.539%\tMedian: 6.061%\n",
      "1252/1252 [==============================] - 17s 13ms/step - loss: 2.2628 - accuracy_no_oov: 0.4575\n",
      "Epoch: 100\n",
      "\tTest\n",
      "\t\tMean: 6.590%\tMedian: 5.556%\n",
      "Saved to log/Single_100A_100E_50B_4V_22-02-2022_12_26.json\n"
     ]
    }
   ],
   "source": [
    "train_single(100, 100)"
   ]
  },
  {
   "cell_type": "code",
   "execution_count": 5,
   "id": "6fa92331",
   "metadata": {
    "collapsed": true
   },
   "outputs": [
    {
     "name": "stdout",
     "output_type": "stream",
     "text": [
      "Seed: 123\n",
      "1523/1523 [==============================] - 22s 13ms/step - loss: 6.7497 - accuracy_no_oov: 0.0815\n",
      "Epoch: 1\n",
      "\tTest\n",
      "\t\tMean: 6.777%\tMedian: 7.260%\n",
      "1523/1523 [==============================] - 20s 13ms/step - loss: 5.7651 - accuracy_no_oov: 0.1045\n",
      "Epoch: 2\n",
      "\tTest\n",
      "\t\tMean: 7.636%\tMedian: 7.916%\n",
      "1523/1523 [==============================] - 20s 13ms/step - loss: 5.2341 - accuracy_no_oov: 0.1253\n",
      "Epoch: 3\n",
      "\tTest\n",
      "\t\tMean: 7.976%\tMedian: 8.094%\n",
      "1523/1523 [==============================] - 20s 13ms/step - loss: 4.7910 - accuracy_no_oov: 0.1461\n",
      "Epoch: 4\n",
      "\tTest\n",
      "\t\tMean: 7.613%\tMedian: 7.454%\n",
      "1523/1523 [==============================] - 20s 13ms/step - loss: 4.3717 - accuracy_no_oov: 0.1776\n",
      "Epoch: 5\n",
      "\tTest\n",
      "\t\tMean: 7.675%\tMedian: 7.107%\n",
      "1523/1523 [==============================] - 20s 13ms/step - loss: 4.0348 - accuracy_no_oov: 0.2124\n",
      "Epoch: 6\n",
      "\tTest\n",
      "\t\tMean: 6.981%\tMedian: 6.549%\n",
      "1523/1523 [==============================] - 20s 13ms/step - loss: 3.7774 - accuracy_no_oov: 0.2429\n",
      "Epoch: 7\n",
      "\tTest\n",
      "\t\tMean: 7.542%\tMedian: 6.782%\n",
      "1523/1523 [==============================] - 20s 13ms/step - loss: 3.5644 - accuracy_no_oov: 0.2710\n",
      "Epoch: 8\n",
      "\tTest\n",
      "\t\tMean: 6.878%\tMedian: 6.236%\n",
      "1523/1523 [==============================] - 20s 13ms/step - loss: 3.3977 - accuracy_no_oov: 0.2952\n",
      "Epoch: 9\n",
      "\tTest\n",
      "\t\tMean: 6.980%\tMedian: 6.742%\n",
      "1523/1523 [==============================] - 20s 13ms/step - loss: 3.2650 - accuracy_no_oov: 0.3110\n",
      "Epoch: 10\n",
      "\tTest\n",
      "\t\tMean: 6.817%\tMedian: 6.469%\n",
      "1523/1523 [==============================] - 20s 13ms/step - loss: 3.1630 - accuracy_no_oov: 0.3248\n",
      "Epoch: 11\n",
      "\tTest\n",
      "\t\tMean: 6.708%\tMedian: 6.092%\n",
      "1523/1523 [==============================] - 20s 13ms/step - loss: 3.0874 - accuracy_no_oov: 0.3379\n",
      "Epoch: 12\n",
      "\tTest\n",
      "\t\tMean: 7.019%\tMedian: 6.388%\n",
      "1523/1523 [==============================] - 20s 13ms/step - loss: 3.0385 - accuracy_no_oov: 0.3435\n",
      "Epoch: 13\n",
      "\tTest\n",
      "\t\tMean: 6.892%\tMedian: 6.540%\n",
      "1523/1523 [==============================] - 20s 13ms/step - loss: 2.9995 - accuracy_no_oov: 0.3462\n",
      "Epoch: 14\n",
      "\tTest\n",
      "\t\tMean: 6.675%\tMedian: 6.186%\n",
      "1523/1523 [==============================] - 20s 13ms/step - loss: 2.9546 - accuracy_no_oov: 0.3517\n",
      "Epoch: 15\n",
      "\tTest\n",
      "\t\tMean: 6.667%\tMedian: 6.133%\n",
      "1523/1523 [==============================] - 20s 13ms/step - loss: 2.9289 - accuracy_no_oov: 0.3546\n",
      "Epoch: 16\n",
      "\tTest\n",
      "\t\tMean: 6.160%\tMedian: 6.030%\n",
      "1523/1523 [==============================] - 20s 13ms/step - loss: 2.8834 - accuracy_no_oov: 0.3607\n",
      "Epoch: 17\n",
      "\tTest\n",
      "\t\tMean: 5.962%\tMedian: 5.937%\n",
      "1523/1523 [==============================] - 20s 13ms/step - loss: 2.8691 - accuracy_no_oov: 0.3617\n",
      "Epoch: 18\n",
      "\tTest\n",
      "\t\tMean: 6.867%\tMedian: 6.393%\n",
      "1523/1523 [==============================] - 20s 13ms/step - loss: 2.8476 - accuracy_no_oov: 0.3652\n",
      "Epoch: 19\n",
      "\tTest\n",
      "\t\tMean: 6.527%\tMedian: 6.278%\n",
      "1523/1523 [==============================] - 20s 13ms/step - loss: 2.8131 - accuracy_no_oov: 0.3719\n",
      "Epoch: 20\n",
      "\tTest\n",
      "\t\tMean: 6.432%\tMedian: 6.449%\n",
      "1523/1523 [==============================] - 20s 13ms/step - loss: 2.8004 - accuracy_no_oov: 0.3725\n",
      "Epoch: 21\n",
      "\tTest\n",
      "\t\tMean: 6.912%\tMedian: 6.950%\n",
      "1523/1523 [==============================] - 20s 13ms/step - loss: 2.7963 - accuracy_no_oov: 0.3715\n",
      "Epoch: 22\n",
      "\tTest\n",
      "\t\tMean: 6.327%\tMedian: 6.088%\n",
      "1523/1523 [==============================] - 20s 13ms/step - loss: 2.7361 - accuracy_no_oov: 0.3839\n",
      "Epoch: 23\n",
      "\tTest\n",
      "\t\tMean: 6.682%\tMedian: 6.236%\n",
      "1523/1523 [==============================] - 20s 13ms/step - loss: 2.7190 - accuracy_no_oov: 0.3848\n",
      "Epoch: 24\n",
      "\tTest\n",
      "\t\tMean: 6.124%\tMedian: 5.890%\n",
      "1523/1523 [==============================] - 20s 13ms/step - loss: 2.7182 - accuracy_no_oov: 0.3853\n",
      "Epoch: 25\n",
      "\tTest\n",
      "\t\tMean: 6.107%\tMedian: 5.698%\n",
      "1523/1523 [==============================] - 20s 13ms/step - loss: 2.6885 - accuracy_no_oov: 0.3913\n",
      "Epoch: 26\n",
      "\tTest\n",
      "\t\tMean: 6.409%\tMedian: 6.187%\n",
      "1523/1523 [==============================] - 20s 13ms/step - loss: 2.7019 - accuracy_no_oov: 0.3873\n",
      "Epoch: 27\n",
      "\tTest\n",
      "\t\tMean: 5.931%\tMedian: 5.798%\n",
      "1523/1523 [==============================] - 20s 13ms/step - loss: 2.7029 - accuracy_no_oov: 0.3875\n",
      "Epoch: 28\n",
      "\tTest\n",
      "\t\tMean: 6.607%\tMedian: 6.774%\n",
      "1523/1523 [==============================] - 20s 13ms/step - loss: 2.7033 - accuracy_no_oov: 0.3856\n",
      "Epoch: 29\n",
      "\tTest\n",
      "\t\tMean: 6.299%\tMedian: 5.908%\n",
      "1523/1523 [==============================] - 20s 13ms/step - loss: 2.6951 - accuracy_no_oov: 0.3892\n",
      "Epoch: 30\n",
      "\tTest\n",
      "\t\tMean: 6.312%\tMedian: 5.776%\n",
      "1523/1523 [==============================] - 20s 13ms/step - loss: 2.6747 - accuracy_no_oov: 0.3902\n",
      "Epoch: 31\n",
      "\tTest\n",
      "\t\tMean: 6.267%\tMedian: 5.931%\n",
      "1523/1523 [==============================] - 20s 13ms/step - loss: 2.6799 - accuracy_no_oov: 0.3869\n",
      "Epoch: 32\n",
      "\tTest\n",
      "\t\tMean: 6.455%\tMedian: 5.868%\n",
      "1523/1523 [==============================] - 20s 13ms/step - loss: 2.6835 - accuracy_no_oov: 0.3888\n",
      "Epoch: 33\n",
      "\tTest\n",
      "\t\tMean: 6.093%\tMedian: 5.391%\n",
      "1523/1523 [==============================] - 20s 13ms/step - loss: 2.6739 - accuracy_no_oov: 0.3918\n",
      "Epoch: 34\n",
      "\tTest\n",
      "\t\tMean: 5.818%\tMedian: 5.381%\n",
      "1523/1523 [==============================] - 20s 13ms/step - loss: 2.6776 - accuracy_no_oov: 0.3902\n",
      "Epoch: 35\n",
      "\tTest\n",
      "\t\tMean: 5.900%\tMedian: 5.401%\n",
      "1523/1523 [==============================] - 20s 13ms/step - loss: 2.6535 - accuracy_no_oov: 0.3939\n",
      "Epoch: 36\n",
      "\tTest\n",
      "\t\tMean: 5.704%\tMedian: 5.711%\n",
      "1523/1523 [==============================] - 20s 13ms/step - loss: 2.6532 - accuracy_no_oov: 0.3948\n",
      "Epoch: 37\n",
      "\tTest\n",
      "\t\tMean: 5.939%\tMedian: 5.854%\n",
      "1523/1523 [==============================] - 20s 13ms/step - loss: 2.6748 - accuracy_no_oov: 0.3906\n",
      "Epoch: 38\n",
      "\tTest\n",
      "\t\tMean: 6.051%\tMedian: 5.505%\n",
      "1523/1523 [==============================] - 20s 13ms/step - loss: 2.6629 - accuracy_no_oov: 0.3905\n",
      "Epoch: 39\n",
      "\tTest\n",
      "\t\tMean: 5.841%\tMedian: 5.649%\n",
      "1523/1523 [==============================] - 20s 13ms/step - loss: 2.6689 - accuracy_no_oov: 0.3920\n",
      "Epoch: 40\n",
      "\tTest\n",
      "\t\tMean: 6.083%\tMedian: 5.780%\n",
      "1523/1523 [==============================] - 20s 13ms/step - loss: 2.6731 - accuracy_no_oov: 0.3899\n",
      "Epoch: 41\n",
      "\tTest\n",
      "\t\tMean: 5.923%\tMedian: 5.502%\n",
      "1523/1523 [==============================] - 20s 13ms/step - loss: 2.6432 - accuracy_no_oov: 0.3955\n",
      "Epoch: 42\n",
      "\tTest\n",
      "\t\tMean: 6.036%\tMedian: 5.505%\n",
      "1523/1523 [==============================] - 20s 13ms/step - loss: 2.6355 - accuracy_no_oov: 0.3969\n",
      "Epoch: 43\n",
      "\tTest\n",
      "\t\tMean: 5.685%\tMedian: 5.381%\n",
      "1523/1523 [==============================] - 20s 13ms/step - loss: 2.6407 - accuracy_no_oov: 0.3950\n",
      "Epoch: 44\n",
      "\tTest\n",
      "\t\tMean: 5.873%\tMedian: 5.534%\n",
      "1523/1523 [==============================] - 20s 13ms/step - loss: 2.6366 - accuracy_no_oov: 0.3960\n",
      "Epoch: 45\n",
      "\tTest\n",
      "\t\tMean: 6.092%\tMedian: 6.008%\n",
      "1523/1523 [==============================] - 20s 13ms/step - loss: 2.6252 - accuracy_no_oov: 0.3979\n",
      "Epoch: 46\n",
      "\tTest\n",
      "\t\tMean: 5.580%\tMedian: 5.058%\n",
      "1523/1523 [==============================] - 20s 13ms/step - loss: 2.6543 - accuracy_no_oov: 0.3913\n",
      "Epoch: 47\n",
      "\tTest\n",
      "\t\tMean: 5.980%\tMedian: 5.714%\n",
      "1523/1523 [==============================] - 20s 13ms/step - loss: 2.6485 - accuracy_no_oov: 0.3920\n",
      "Epoch: 48\n",
      "\tTest\n",
      "\t\tMean: 6.108%\tMedian: 5.606%\n",
      "1523/1523 [==============================] - 20s 13ms/step - loss: 2.6322 - accuracy_no_oov: 0.3951\n",
      "Epoch: 49\n",
      "\tTest\n",
      "\t\tMean: 5.540%\tMedian: 5.116%\n",
      "1523/1523 [==============================] - 20s 13ms/step - loss: 2.6734 - accuracy_no_oov: 0.3883\n",
      "Epoch: 50\n",
      "\tTest\n",
      "\t\tMean: 5.909%\tMedian: 5.420%\n",
      "1523/1523 [==============================] - 20s 13ms/step - loss: 2.6570 - accuracy_no_oov: 0.3928\n",
      "Epoch: 51\n",
      "\tTest\n",
      "\t\tMean: 6.077%\tMedian: 5.714%\n",
      "1523/1523 [==============================] - 20s 13ms/step - loss: 2.6446 - accuracy_no_oov: 0.3923\n",
      "Epoch: 52\n",
      "\tTest\n",
      "\t\tMean: 6.262%\tMedian: 6.008%\n",
      "1523/1523 [==============================] - 20s 13ms/step - loss: 2.6131 - accuracy_no_oov: 0.3987\n",
      "Epoch: 53\n",
      "\tTest\n",
      "\t\tMean: 6.211%\tMedian: 5.638%\n",
      "1523/1523 [==============================] - 20s 13ms/step - loss: 2.6624 - accuracy_no_oov: 0.3919\n",
      "Epoch: 54\n",
      "\tTest\n",
      "\t\tMean: 5.663%\tMedian: 4.934%\n",
      "1523/1523 [==============================] - 20s 13ms/step - loss: 2.6650 - accuracy_no_oov: 0.3912\n",
      "Epoch: 55\n",
      "\tTest\n",
      "\t\tMean: 5.648%\tMedian: 5.472%\n",
      "1523/1523 [==============================] - 20s 13ms/step - loss: 2.6612 - accuracy_no_oov: 0.3892\n",
      "Epoch: 56\n",
      "\tTest\n",
      "\t\tMean: 5.667%\tMedian: 5.209%\n"
     ]
    },
    {
     "name": "stdout",
     "output_type": "stream",
     "text": [
      "1523/1523 [==============================] - 20s 13ms/step - loss: 2.6492 - accuracy_no_oov: 0.3930\n",
      "Epoch: 57\n",
      "\tTest\n",
      "\t\tMean: 6.127%\tMedian: 5.698%\n",
      "1523/1523 [==============================] - 20s 13ms/step - loss: 2.6715 - accuracy_no_oov: 0.3892\n",
      "Epoch: 58\n",
      "\tTest\n",
      "\t\tMean: 6.116%\tMedian: 5.714%\n",
      "1523/1523 [==============================] - 20s 13ms/step - loss: 2.6584 - accuracy_no_oov: 0.3922\n",
      "Epoch: 59\n",
      "\tTest\n",
      "\t\tMean: 6.239%\tMedian: 5.795%\n",
      "1523/1523 [==============================] - 20s 13ms/step - loss: 2.6361 - accuracy_no_oov: 0.3933\n",
      "Epoch: 60\n",
      "\tTest\n",
      "\t\tMean: 5.858%\tMedian: 5.357%\n",
      "1523/1523 [==============================] - 20s 13ms/step - loss: 2.6357 - accuracy_no_oov: 0.3968\n",
      "Epoch: 61\n",
      "\tTest\n",
      "\t\tMean: 5.771%\tMedian: 5.167%\n",
      "1523/1523 [==============================] - 20s 13ms/step - loss: 2.6373 - accuracy_no_oov: 0.3947\n",
      "Epoch: 62\n",
      "\tTest\n",
      "\t\tMean: 6.055%\tMedian: 5.376%\n",
      "1523/1523 [==============================] - 20s 13ms/step - loss: 2.6366 - accuracy_no_oov: 0.3960\n",
      "Epoch: 63\n",
      "\tTest\n",
      "\t\tMean: 5.722%\tMedian: 5.284%\n",
      "1523/1523 [==============================] - 20s 13ms/step - loss: 2.6748 - accuracy_no_oov: 0.3884\n",
      "Epoch: 64\n",
      "\tTest\n",
      "\t\tMean: 5.637%\tMedian: 5.449%\n",
      "1523/1523 [==============================] - 20s 13ms/step - loss: 2.6804 - accuracy_no_oov: 0.3892\n",
      "Epoch: 65\n",
      "\tTest\n",
      "\t\tMean: 6.055%\tMedian: 5.654%\n",
      "1523/1523 [==============================] - 20s 13ms/step - loss: 2.6813 - accuracy_no_oov: 0.3873\n",
      "Epoch: 66\n",
      "\tTest\n",
      "\t\tMean: 6.204%\tMedian: 5.623%\n",
      "1523/1523 [==============================] - 20s 13ms/step - loss: 2.6717 - accuracy_no_oov: 0.3893\n",
      "Epoch: 67\n",
      "\tTest\n",
      "\t\tMean: 6.065%\tMedian: 5.714%\n",
      "1523/1523 [==============================] - 20s 13ms/step - loss: 2.6660 - accuracy_no_oov: 0.3927\n",
      "Epoch: 68\n",
      "\tTest\n",
      "\t\tMean: 6.279%\tMedian: 5.693%\n",
      "1523/1523 [==============================] - 20s 13ms/step - loss: 2.6349 - accuracy_no_oov: 0.3968\n",
      "Epoch: 69\n",
      "\tTest\n",
      "\t\tMean: 5.707%\tMedian: 5.123%\n",
      "1523/1523 [==============================] - 20s 13ms/step - loss: 2.6277 - accuracy_no_oov: 0.3977\n",
      "Epoch: 70\n",
      "\tTest\n",
      "\t\tMean: 5.891%\tMedian: 5.376%\n",
      "1523/1523 [==============================] - 20s 13ms/step - loss: 2.6525 - accuracy_no_oov: 0.3933\n",
      "Epoch: 71\n",
      "\tTest\n",
      "\t\tMean: 5.587%\tMedian: 5.401%\n",
      "1523/1523 [==============================] - 20s 13ms/step - loss: 2.6468 - accuracy_no_oov: 0.3964\n",
      "Epoch: 72\n",
      "\tTest\n",
      "\t\tMean: 5.590%\tMedian: 5.230%\n",
      "1523/1523 [==============================] - 20s 13ms/step - loss: 2.6435 - accuracy_no_oov: 0.3970\n",
      "Epoch: 73\n",
      "\tTest\n",
      "\t\tMean: 5.602%\tMedian: 5.051%\n",
      "1523/1523 [==============================] - 20s 13ms/step - loss: 2.6444 - accuracy_no_oov: 0.3958\n",
      "Epoch: 74\n",
      "\tTest\n",
      "\t\tMean: 5.409%\tMedian: 5.223%\n",
      "1523/1523 [==============================] - 20s 13ms/step - loss: 2.6424 - accuracy_no_oov: 0.3953\n",
      "Epoch: 75\n",
      "\tTest\n",
      "\t\tMean: 5.533%\tMedian: 5.302%\n",
      "1523/1523 [==============================] - 20s 13ms/step - loss: 2.6389 - accuracy_no_oov: 0.3939\n",
      "Epoch: 76\n",
      "\tTest\n",
      "\t\tMean: 5.556%\tMedian: 5.051%\n",
      "1523/1523 [==============================] - 20s 13ms/step - loss: 2.6501 - accuracy_no_oov: 0.3959\n",
      "Epoch: 77\n",
      "\tTest\n",
      "\t\tMean: 5.487%\tMedian: 5.334%\n",
      "1523/1523 [==============================] - 20s 13ms/step - loss: 2.6427 - accuracy_no_oov: 0.3996\n",
      "Epoch: 78\n",
      "\tTest\n",
      "\t\tMean: 5.983%\tMedian: 5.435%\n",
      "1523/1523 [==============================] - 20s 13ms/step - loss: 2.6246 - accuracy_no_oov: 0.3988\n",
      "Epoch: 79\n",
      "\tTest\n",
      "\t\tMean: 6.044%\tMedian: 5.402%\n",
      "1523/1523 [==============================] - 20s 13ms/step - loss: 2.6420 - accuracy_no_oov: 0.3945\n",
      "Epoch: 80\n",
      "\tTest\n",
      "\t\tMean: 6.073%\tMedian: 5.540%\n",
      "1523/1523 [==============================] - 20s 13ms/step - loss: 2.6753 - accuracy_no_oov: 0.3898\n",
      "Epoch: 81\n",
      "\tTest\n",
      "\t\tMean: 5.618%\tMedian: 5.336%\n",
      "1523/1523 [==============================] - 20s 13ms/step - loss: 2.6348 - accuracy_no_oov: 0.3964\n",
      "Epoch: 82\n",
      "\tTest\n",
      "\t\tMean: 6.187%\tMedian: 5.536%\n",
      "1523/1523 [==============================] - 20s 13ms/step - loss: 2.6464 - accuracy_no_oov: 0.3954\n",
      "Epoch: 83\n",
      "\tTest\n",
      "\t\tMean: 5.592%\tMedian: 5.006%\n",
      "1523/1523 [==============================] - 20s 13ms/step - loss: 2.6473 - accuracy_no_oov: 0.3956\n",
      "Epoch: 84\n",
      "\tTest\n",
      "\t\tMean: 5.694%\tMedian: 5.000%\n",
      "1523/1523 [==============================] - 20s 13ms/step - loss: 2.6416 - accuracy_no_oov: 0.3959\n",
      "Epoch: 85\n",
      "\tTest\n",
      "\t\tMean: 5.765%\tMedian: 5.381%\n",
      "1523/1523 [==============================] - 20s 13ms/step - loss: 2.6547 - accuracy_no_oov: 0.3931\n",
      "Epoch: 86\n",
      "\tTest\n",
      "\t\tMean: 5.783%\tMedian: 5.038%\n",
      "1523/1523 [==============================] - 20s 13ms/step - loss: 2.6582 - accuracy_no_oov: 0.3943\n",
      "Epoch: 87\n",
      "\tTest\n",
      "\t\tMean: 5.817%\tMedian: 5.184%\n",
      "1523/1523 [==============================] - 20s 13ms/step - loss: 2.6461 - accuracy_no_oov: 0.3960\n",
      "Epoch: 88\n",
      "\tTest\n",
      "\t\tMean: 5.679%\tMedian: 5.425%\n",
      "1523/1523 [==============================] - 20s 13ms/step - loss: 2.6400 - accuracy_no_oov: 0.3973\n",
      "Epoch: 89\n",
      "\tTest\n",
      "\t\tMean: 5.690%\tMedian: 5.445%\n",
      "1523/1523 [==============================] - 20s 13ms/step - loss: 2.6661 - accuracy_no_oov: 0.3912\n",
      "Epoch: 90\n",
      "\tTest\n",
      "\t\tMean: 5.684%\tMedian: 5.278%\n",
      "1523/1523 [==============================] - 20s 13ms/step - loss: 2.6285 - accuracy_no_oov: 0.3983\n",
      "Epoch: 91\n",
      "\tTest\n",
      "\t\tMean: 5.765%\tMedian: 5.556%\n",
      "1523/1523 [==============================] - 20s 13ms/step - loss: 2.6201 - accuracy_no_oov: 0.4014\n",
      "Epoch: 92\n",
      "\tTest\n",
      "\t\tMean: 5.943%\tMedian: 5.712%\n",
      "1523/1523 [==============================] - 20s 13ms/step - loss: 2.6265 - accuracy_no_oov: 0.3979\n",
      "Epoch: 93\n",
      "\tTest\n",
      "\t\tMean: 5.879%\tMedian: 5.406%\n",
      "1523/1523 [==============================] - 20s 13ms/step - loss: 2.6347 - accuracy_no_oov: 0.3980\n",
      "Epoch: 94\n",
      "\tTest\n",
      "\t\tMean: 5.819%\tMedian: 5.050%\n",
      "1523/1523 [==============================] - 20s 13ms/step - loss: 2.6226 - accuracy_no_oov: 0.3997\n",
      "Epoch: 95\n",
      "\tTest\n",
      "\t\tMean: 5.292%\tMedian: 4.906%\n",
      "1523/1523 [==============================] - 20s 13ms/step - loss: 2.6218 - accuracy_no_oov: 0.4016\n",
      "Epoch: 96\n",
      "\tTest\n",
      "\t\tMean: 5.093%\tMedian: 4.707%\n",
      "1523/1523 [==============================] - 20s 13ms/step - loss: 2.6302 - accuracy_no_oov: 0.3984\n",
      "Epoch: 97\n",
      "\tTest\n",
      "\t\tMean: 5.788%\tMedian: 5.060%\n",
      "1523/1523 [==============================] - 20s 13ms/step - loss: 2.6352 - accuracy_no_oov: 0.3991\n",
      "Epoch: 98\n",
      "\tTest\n",
      "\t\tMean: 5.429%\tMedian: 4.762%\n",
      "1523/1523 [==============================] - 20s 13ms/step - loss: 2.6300 - accuracy_no_oov: 0.3984\n",
      "Epoch: 99\n",
      "\tTest\n",
      "\t\tMean: 5.697%\tMedian: 5.218%\n",
      "1523/1523 [==============================] - 20s 13ms/step - loss: 2.6357 - accuracy_no_oov: 0.3983\n",
      "Epoch: 100\n",
      "\tTest\n",
      "\t\tMean: 5.538%\tMedian: 5.367%\n",
      "Saved to log/Single_100A_100E_50B_4V_22-02-2022_13_17.json\n"
     ]
    }
   ],
   "source": [
    "train_single(100, 200)"
   ]
  }
 ],
 "metadata": {
  "kernelspec": {
   "display_name": "Python 3 (ipykernel)",
   "language": "python",
   "name": "python3"
  },
  "language_info": {
   "codemirror_mode": {
    "name": "ipython",
    "version": 3
   },
   "file_extension": ".py",
   "mimetype": "text/x-python",
   "name": "python",
   "nbconvert_exporter": "python",
   "pygments_lexer": "ipython3",
   "version": "3.8.10"
  }
 },
 "nbformat": 4,
 "nbformat_minor": 5
}
